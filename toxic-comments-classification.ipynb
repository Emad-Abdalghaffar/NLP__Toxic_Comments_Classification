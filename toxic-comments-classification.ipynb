{
 "cells": [
  {
   "cell_type": "markdown",
   "metadata": {
    "id": "yPbrZNmajnIs"
   },
   "source": [
    "### **Imports**"
   ]
  },
  {
   "cell_type": "code",
   "execution_count": 2,
   "metadata": {
    "execution": {
     "iopub.execute_input": "2022-07-09T19:31:07.146414Z",
     "iopub.status.busy": "2022-07-09T19:31:07.145946Z",
     "iopub.status.idle": "2022-07-09T19:31:07.158560Z",
     "shell.execute_reply": "2022-07-09T19:31:07.157440Z",
     "shell.execute_reply.started": "2022-07-09T19:31:07.146382Z"
    },
    "id": "bceTLSmsjnIw",
    "outputId": "056f4ce2-c178-42ff-e313-8c26615e5364"
   },
   "outputs": [
    {
     "name": "stderr",
     "output_type": "stream",
     "text": [
      "[nltk_data] Downloading package stopwords to\n",
      "[nltk_data]     C:\\Users\\Emad\\AppData\\Roaming\\nltk_data...\n",
      "[nltk_data]   Package stopwords is already up-to-date!\n",
      "[nltk_data] Downloading package wordnet to\n",
      "[nltk_data]     C:\\Users\\Emad\\AppData\\Roaming\\nltk_data...\n",
      "[nltk_data]   Package wordnet is already up-to-date!\n"
     ]
    }
   ],
   "source": [
    "import os\n",
    "import numpy as np\n",
    "import pandas as pd\n",
    "import matplotlib.pyplot as plt\n",
    "import seaborn as sns\n",
    "import re\n",
    "import nltk\n",
    "\n",
    "from nltk.corpus import stopwords\n",
    "nltk.download('stopwords')\n",
    "\n",
    "from nltk.stem import WordNetLemmatizer\n",
    "nltk.download('wordnet')\n",
    "\n",
    "from sklearn.model_selection import train_test_split\n",
    "from sklearn.feature_extraction.text import TfidfVectorizer\n",
    "from sklearn.svm import LinearSVC\n",
    "from sklearn.pipeline import make_pipeline\n",
    "\n",
    "from keras import models\n",
    "from keras import layers\n",
    "from tensorflow.keras import losses\n",
    "from tensorflow.keras import metrics\n",
    "from tensorflow.keras import optimizers\n",
    "from keras.preprocessing.text import one_hot\n",
    "from keras_preprocessing.sequence import pad_sequences\n",
    "from keras.preprocessing.text import Tokenizer\n",
    "from keras.utils.vis_utils import plot_model\n",
    "from tensorflow.keras.layers import LSTM, Bidirectional, GRU, Dropout\n",
    "\n",
    "import warnings\n",
    "warnings.filterwarnings('ignore')"
   ]
  },
  {
   "cell_type": "code",
   "execution_count": 3,
   "metadata": {
    "execution": {
     "iopub.execute_input": "2022-07-09T19:31:07.169402Z",
     "iopub.status.busy": "2022-07-09T19:31:07.168954Z",
     "iopub.status.idle": "2022-07-09T19:31:07.174046Z",
     "shell.execute_reply": "2022-07-09T19:31:07.173127Z",
     "shell.execute_reply.started": "2022-07-09T19:31:07.169370Z"
    },
    "id": "5bZtToThjnIx"
   },
   "outputs": [],
   "source": [
    "pd.set_option('display.max_columns', None)\n",
    "pd.set_option('display.max_colwidth', None)"
   ]
  },
  {
   "cell_type": "markdown",
   "metadata": {
    "id": "9zPSny9mjnIy"
   },
   "source": [
    "## **1. Reading Toxic Comments Dataset**"
   ]
  },
  {
   "cell_type": "code",
   "execution_count": 4,
   "metadata": {
    "execution": {
     "iopub.execute_input": "2022-07-09T19:31:07.255218Z",
     "iopub.status.busy": "2022-07-09T19:31:07.254137Z",
     "iopub.status.idle": "2022-07-09T19:31:09.292274Z",
     "shell.execute_reply": "2022-07-09T19:31:09.291155Z",
     "shell.execute_reply.started": "2022-07-09T19:31:07.255175Z"
    },
    "id": "x1B7btAJjnIy"
   },
   "outputs": [],
   "source": [
    "raw_train = pd.read_csv('train.csv', index_col='id')\n",
    "raw_test = pd.read_csv('test.csv', index_col='id')"
   ]
  },
  {
   "cell_type": "code",
   "execution_count": 5,
   "metadata": {
    "execution": {
     "iopub.execute_input": "2022-07-09T19:31:09.294728Z",
     "iopub.status.busy": "2022-07-09T19:31:09.294353Z",
     "iopub.status.idle": "2022-07-09T19:31:09.301673Z",
     "shell.execute_reply": "2022-07-09T19:31:09.300950Z",
     "shell.execute_reply.started": "2022-07-09T19:31:09.294695Z"
    },
    "id": "6h2vI-HOjnIy"
   },
   "outputs": [],
   "source": [
    "raw_train.rename(columns={'comment_text': 'comment'}, inplace=True)\n",
    "raw_test.rename(columns={'comment_text': 'comment'}, inplace=True)"
   ]
  },
  {
   "cell_type": "code",
   "execution_count": 13,
   "metadata": {
    "execution": {
     "iopub.execute_input": "2022-07-09T19:31:09.303625Z",
     "iopub.status.busy": "2022-07-09T19:31:09.302771Z",
     "iopub.status.idle": "2022-07-09T19:31:09.346292Z",
     "shell.execute_reply": "2022-07-09T19:31:09.345114Z",
     "shell.execute_reply.started": "2022-07-09T19:31:09.303592Z"
    },
    "id": "hHGUemF0jnIz",
    "outputId": "36df5b47-a2c0-4bea-f273-05f4a222e6ff"
   },
   "outputs": [
    {
     "name": "stdout",
     "output_type": "stream",
     "text": [
      "<class 'pandas.core.frame.DataFrame'>\n",
      "Index: 159571 entries, 0000997932d777bf to fff46fc426af1f9a\n",
      "Data columns (total 7 columns):\n",
      " #   Column         Non-Null Count   Dtype \n",
      "---  ------         --------------   ----- \n",
      " 0   comment        159571 non-null  object\n",
      " 1   toxic          159571 non-null  int64 \n",
      " 2   severe_toxic   159571 non-null  int64 \n",
      " 3   obscene        159571 non-null  int64 \n",
      " 4   threat         159571 non-null  int64 \n",
      " 5   insult         159571 non-null  int64 \n",
      " 6   identity_hate  159571 non-null  int64 \n",
      "dtypes: int64(6), object(1)\n",
      "memory usage: 9.7+ MB\n"
     ]
    }
   ],
   "source": [
    "raw_train.info()"
   ]
  },
  {
   "cell_type": "code",
   "execution_count": 14,
   "metadata": {
    "execution": {
     "iopub.execute_input": "2022-07-09T19:31:09.349152Z",
     "iopub.status.busy": "2022-07-09T19:31:09.348723Z",
     "iopub.status.idle": "2022-07-09T19:31:09.383016Z",
     "shell.execute_reply": "2022-07-09T19:31:09.381988Z",
     "shell.execute_reply.started": "2022-07-09T19:31:09.349119Z"
    },
    "id": "y-ZvBJqPjnIz",
    "outputId": "ed587f67-9b4b-4261-967c-7cde2c4f6058"
   },
   "outputs": [
    {
     "name": "stdout",
     "output_type": "stream",
     "text": [
      "<class 'pandas.core.frame.DataFrame'>\n",
      "Index: 153164 entries, 00001cee341fdb12 to ffffce3fb183ee80\n",
      "Data columns (total 1 columns):\n",
      " #   Column   Non-Null Count   Dtype \n",
      "---  ------   --------------   ----- \n",
      " 0   comment  153164 non-null  object\n",
      "dtypes: object(1)\n",
      "memory usage: 2.3+ MB\n"
     ]
    }
   ],
   "source": [
    "raw_test.info()"
   ]
  },
  {
   "cell_type": "markdown",
   "metadata": {
    "id": "AxI99-hFjnI0"
   },
   "source": [
    "## **2. EDA**"
   ]
  },
  {
   "cell_type": "markdown",
   "metadata": {
    "id": "XEwhhk0RjnI0"
   },
   "source": [
    "#### **2.1 Show a sample of data**\n",
    "(to find out the required text preprocessing steps)"
   ]
  },
  {
   "cell_type": "code",
   "execution_count": 15,
   "metadata": {
    "execution": {
     "iopub.execute_input": "2022-07-09T19:31:09.385428Z",
     "iopub.status.busy": "2022-07-09T19:31:09.384953Z",
     "iopub.status.idle": "2022-07-09T19:31:09.400516Z",
     "shell.execute_reply": "2022-07-09T19:31:09.399371Z",
     "shell.execute_reply.started": "2022-07-09T19:31:09.385385Z"
    },
    "id": "IufiWn8ijnI0",
    "outputId": "8730ccf0-4e40-4c25-cb31-eee798a2b08a"
   },
   "outputs": [
    {
     "data": {
      "text/html": [
       "<div>\n",
       "<style scoped>\n",
       "    .dataframe tbody tr th:only-of-type {\n",
       "        vertical-align: middle;\n",
       "    }\n",
       "\n",
       "    .dataframe tbody tr th {\n",
       "        vertical-align: top;\n",
       "    }\n",
       "\n",
       "    .dataframe thead th {\n",
       "        text-align: right;\n",
       "    }\n",
       "</style>\n",
       "<table border=\"1\" class=\"dataframe\">\n",
       "  <thead>\n",
       "    <tr style=\"text-align: right;\">\n",
       "      <th></th>\n",
       "      <th>comment</th>\n",
       "      <th>toxic</th>\n",
       "      <th>severe_toxic</th>\n",
       "      <th>obscene</th>\n",
       "      <th>threat</th>\n",
       "      <th>insult</th>\n",
       "      <th>identity_hate</th>\n",
       "    </tr>\n",
       "    <tr>\n",
       "      <th>id</th>\n",
       "      <th></th>\n",
       "      <th></th>\n",
       "      <th></th>\n",
       "      <th></th>\n",
       "      <th></th>\n",
       "      <th></th>\n",
       "      <th></th>\n",
       "    </tr>\n",
       "  </thead>\n",
       "  <tbody>\n",
       "    <tr>\n",
       "      <th>0000997932d777bf</th>\n",
       "      <td>Explanation\\nWhy the edits made under my username Hardcore Metallica Fan were reverted? They weren't vandalisms, just closure on some GAs after I voted at New York Dolls FAC. And please don't remove the template from the talk page since I'm retired now.89.205.38.27</td>\n",
       "      <td>0</td>\n",
       "      <td>0</td>\n",
       "      <td>0</td>\n",
       "      <td>0</td>\n",
       "      <td>0</td>\n",
       "      <td>0</td>\n",
       "    </tr>\n",
       "    <tr>\n",
       "      <th>000103f0d9cfb60f</th>\n",
       "      <td>D'aww! He matches this background colour I'm seemingly stuck with. Thanks.  (talk) 21:51, January 11, 2016 (UTC)</td>\n",
       "      <td>0</td>\n",
       "      <td>0</td>\n",
       "      <td>0</td>\n",
       "      <td>0</td>\n",
       "      <td>0</td>\n",
       "      <td>0</td>\n",
       "    </tr>\n",
       "    <tr>\n",
       "      <th>000113f07ec002fd</th>\n",
       "      <td>Hey man, I'm really not trying to edit war. It's just that this guy is constantly removing relevant information and talking to me through edits instead of my talk page. He seems to care more about the formatting than the actual info.</td>\n",
       "      <td>0</td>\n",
       "      <td>0</td>\n",
       "      <td>0</td>\n",
       "      <td>0</td>\n",
       "      <td>0</td>\n",
       "      <td>0</td>\n",
       "    </tr>\n",
       "    <tr>\n",
       "      <th>0001b41b1c6bb37e</th>\n",
       "      <td>\"\\nMore\\nI can't make any real suggestions on improvement - I wondered if the section statistics should be later on, or a subsection of \"\"types of accidents\"\"  -I think the references may need tidying so that they are all in the exact same format ie date format etc. I can do that later on, if no-one else does first - if you have any preferences for formatting style on references or want to do it yourself please let me know.\\n\\nThere appears to be a backlog on articles for review so I guess there may be a delay until a reviewer turns up. It's listed in the relevant form eg Wikipedia:Good_article_nominations#Transport  \"</td>\n",
       "      <td>0</td>\n",
       "      <td>0</td>\n",
       "      <td>0</td>\n",
       "      <td>0</td>\n",
       "      <td>0</td>\n",
       "      <td>0</td>\n",
       "    </tr>\n",
       "    <tr>\n",
       "      <th>0001d958c54c6e35</th>\n",
       "      <td>You, sir, are my hero. Any chance you remember what page that's on?</td>\n",
       "      <td>0</td>\n",
       "      <td>0</td>\n",
       "      <td>0</td>\n",
       "      <td>0</td>\n",
       "      <td>0</td>\n",
       "      <td>0</td>\n",
       "    </tr>\n",
       "  </tbody>\n",
       "</table>\n",
       "</div>"
      ],
      "text/plain": [
       "                                                                                                                                                                                                                                                                                                                                                                                                                                                                                                                                                                                                                                                             comment  \\\n",
       "id                                                                                                                                                                                                                                                                                                                                                                                                                                                                                                                                                                                                                                                                     \n",
       "0000997932d777bf                                                                                                                                                                                                                                                                                                                                                                           Explanation\\nWhy the edits made under my username Hardcore Metallica Fan were reverted? They weren't vandalisms, just closure on some GAs after I voted at New York Dolls FAC. And please don't remove the template from the talk page since I'm retired now.89.205.38.27   \n",
       "000103f0d9cfb60f                                                                                                                                                                                                                                                                                                                                                                                                                                                                                                                                    D'aww! He matches this background colour I'm seemingly stuck with. Thanks.  (talk) 21:51, January 11, 2016 (UTC)   \n",
       "000113f07ec002fd                                                                                                                                                                                                                                                                                                                                                                                                           Hey man, I'm really not trying to edit war. It's just that this guy is constantly removing relevant information and talking to me through edits instead of my talk page. He seems to care more about the formatting than the actual info.   \n",
       "0001b41b1c6bb37e  \"\\nMore\\nI can't make any real suggestions on improvement - I wondered if the section statistics should be later on, or a subsection of \"\"types of accidents\"\"  -I think the references may need tidying so that they are all in the exact same format ie date format etc. I can do that later on, if no-one else does first - if you have any preferences for formatting style on references or want to do it yourself please let me know.\\n\\nThere appears to be a backlog on articles for review so I guess there may be a delay until a reviewer turns up. It's listed in the relevant form eg Wikipedia:Good_article_nominations#Transport  \"   \n",
       "0001d958c54c6e35                                                                                                                                                                                                                                                                                                                                                                                                                                                                                                                                                                                 You, sir, are my hero. Any chance you remember what page that's on?   \n",
       "\n",
       "                  toxic  severe_toxic  obscene  threat  insult  identity_hate  \n",
       "id                                                                             \n",
       "0000997932d777bf      0             0        0       0       0              0  \n",
       "000103f0d9cfb60f      0             0        0       0       0              0  \n",
       "000113f07ec002fd      0             0        0       0       0              0  \n",
       "0001b41b1c6bb37e      0             0        0       0       0              0  \n",
       "0001d958c54c6e35      0             0        0       0       0              0  "
      ]
     },
     "execution_count": 15,
     "metadata": {},
     "output_type": "execute_result"
    }
   ],
   "source": [
    "raw_train.head()"
   ]
  },
  {
   "cell_type": "code",
   "execution_count": 16,
   "metadata": {
    "execution": {
     "iopub.execute_input": "2022-07-09T19:31:09.402562Z",
     "iopub.status.busy": "2022-07-09T19:31:09.402255Z",
     "iopub.status.idle": "2022-07-09T19:31:09.411888Z",
     "shell.execute_reply": "2022-07-09T19:31:09.410621Z",
     "shell.execute_reply.started": "2022-07-09T19:31:09.402535Z"
    },
    "id": "FI5Pzf3HjnI1",
    "outputId": "530a3826-c242-4d4f-995d-9b7815983a5c"
   },
   "outputs": [
    {
     "data": {
      "text/html": [
       "<div>\n",
       "<style scoped>\n",
       "    .dataframe tbody tr th:only-of-type {\n",
       "        vertical-align: middle;\n",
       "    }\n",
       "\n",
       "    .dataframe tbody tr th {\n",
       "        vertical-align: top;\n",
       "    }\n",
       "\n",
       "    .dataframe thead th {\n",
       "        text-align: right;\n",
       "    }\n",
       "</style>\n",
       "<table border=\"1\" class=\"dataframe\">\n",
       "  <thead>\n",
       "    <tr style=\"text-align: right;\">\n",
       "      <th></th>\n",
       "      <th>comment</th>\n",
       "    </tr>\n",
       "    <tr>\n",
       "      <th>id</th>\n",
       "      <th></th>\n",
       "    </tr>\n",
       "  </thead>\n",
       "  <tbody>\n",
       "    <tr>\n",
       "      <th>00001cee341fdb12</th>\n",
       "      <td>Yo bitch Ja Rule is more succesful then you'll ever be whats up with you and hating you sad mofuckas...i should bitch slap ur pethedic white faces and get you to kiss my ass you guys sicken me. Ja rule is about pride in da music man. dont diss that shit on him. and nothin is wrong bein like tupac he was a brother too...fuckin white boys get things right next time.,</td>\n",
       "    </tr>\n",
       "    <tr>\n",
       "      <th>0000247867823ef7</th>\n",
       "      <td>== From RfC == \\n\\n The title is fine as it is, IMO.</td>\n",
       "    </tr>\n",
       "    <tr>\n",
       "      <th>00013b17ad220c46</th>\n",
       "      <td>\" \\n\\n == Sources == \\n\\n * Zawe Ashton on Lapland —  /  \"</td>\n",
       "    </tr>\n",
       "    <tr>\n",
       "      <th>00017563c3f7919a</th>\n",
       "      <td>:If you have a look back at the source, the information I updated was the correct form. I can only guess the source hadn't updated. I shall update the information once again but thank you for your message.</td>\n",
       "    </tr>\n",
       "    <tr>\n",
       "      <th>00017695ad8997eb</th>\n",
       "      <td>I don't anonymously edit articles at all.</td>\n",
       "    </tr>\n",
       "  </tbody>\n",
       "</table>\n",
       "</div>"
      ],
      "text/plain": [
       "                                                                                                                                                                                                                                                                                                                                                                                          comment\n",
       "id                                                                                                                                                                                                                                                                                                                                                                                               \n",
       "00001cee341fdb12  Yo bitch Ja Rule is more succesful then you'll ever be whats up with you and hating you sad mofuckas...i should bitch slap ur pethedic white faces and get you to kiss my ass you guys sicken me. Ja rule is about pride in da music man. dont diss that shit on him. and nothin is wrong bein like tupac he was a brother too...fuckin white boys get things right next time.,\n",
       "0000247867823ef7                                                                                                                                                                                                                                                                                                                             == From RfC == \\n\\n The title is fine as it is, IMO.\n",
       "00013b17ad220c46                                                                                                                                                                                                                                                                                                                       \" \\n\\n == Sources == \\n\\n * Zawe Ashton on Lapland —  /  \"\n",
       "00017563c3f7919a                                                                                                                                                                    :If you have a look back at the source, the information I updated was the correct form. I can only guess the source hadn't updated. I shall update the information once again but thank you for your message.\n",
       "00017695ad8997eb                                                                                                                                                                                                                                                                                                                                        I don't anonymously edit articles at all."
      ]
     },
     "execution_count": 16,
     "metadata": {},
     "output_type": "execute_result"
    }
   ],
   "source": [
    "raw_test.head()"
   ]
  },
  {
   "cell_type": "code",
   "execution_count": 18,
   "metadata": {
    "execution": {
     "iopub.execute_input": "2022-07-09T19:31:09.414117Z",
     "iopub.status.busy": "2022-07-09T19:31:09.413215Z",
     "iopub.status.idle": "2022-07-09T19:31:09.429480Z",
     "shell.execute_reply": "2022-07-09T19:31:09.428318Z",
     "shell.execute_reply.started": "2022-07-09T19:31:09.414063Z"
    },
    "id": "Zpypa0mgjnI1",
    "outputId": "0b51d16b-22b5-446d-e750-cb9576457f69"
   },
   "outputs": [
    {
     "data": {
      "text/plain": [
       "id\n",
       "7ca72b5b9c688e9e    Geez, are you forgetful!  We've already discussed why Marx  was  not an anarchist, i.e. he wanted to use a State to mold his 'socialist man.'  Ergo, he is a statist - the opposite of an  anarchist.  I know a guy who says that, when he gets old and his teeth fall out, he'll quit eating meat.  Would you call him a vegetarian?\n",
       "Name: comment, dtype: object"
      ]
     },
     "execution_count": 18,
     "metadata": {},
     "output_type": "execute_result"
    }
   ],
   "source": [
    "raw_train.comment.sample(random_state=42)"
   ]
  },
  {
   "cell_type": "markdown",
   "metadata": {
    "id": "1V9H0oGWjnI1"
   },
   "source": [
    "#### **2.2 Check for duplicates**"
   ]
  },
  {
   "cell_type": "code",
   "execution_count": 23,
   "metadata": {
    "execution": {
     "iopub.execute_input": "2022-07-09T19:31:09.431753Z",
     "iopub.status.busy": "2022-07-09T19:31:09.430786Z",
     "iopub.status.idle": "2022-07-09T19:31:09.709134Z",
     "shell.execute_reply": "2022-07-09T19:31:09.708000Z",
     "shell.execute_reply.started": "2022-07-09T19:31:09.431710Z"
    },
    "id": "KqQOEI8NjnI1",
    "outputId": "e75fb2eb-c91a-416f-db8c-ae96bedfab53"
   },
   "outputs": [
    {
     "data": {
      "text/plain": [
       "0"
      ]
     },
     "execution_count": 23,
     "metadata": {},
     "output_type": "execute_result"
    }
   ],
   "source": [
    "raw_train.duplicated().sum()"
   ]
  },
  {
   "cell_type": "code",
   "execution_count": 24,
   "metadata": {
    "execution": {
     "iopub.execute_input": "2022-07-09T19:31:09.711362Z",
     "iopub.status.busy": "2022-07-09T19:31:09.710679Z",
     "iopub.status.idle": "2022-07-09T19:31:09.929393Z",
     "shell.execute_reply": "2022-07-09T19:31:09.928518Z",
     "shell.execute_reply.started": "2022-07-09T19:31:09.711312Z"
    },
    "id": "jtAlBAwsjnI2",
    "outputId": "8150a5fc-3290-4de1-fbc6-13e5fec5e96a"
   },
   "outputs": [
    {
     "data": {
      "text/plain": [
       "0"
      ]
     },
     "execution_count": 24,
     "metadata": {},
     "output_type": "execute_result"
    }
   ],
   "source": [
    "raw_train.duplicated(subset=['comment']).sum()"
   ]
  },
  {
   "cell_type": "code",
   "execution_count": 25,
   "metadata": {
    "execution": {
     "iopub.execute_input": "2022-07-09T19:31:09.933414Z",
     "iopub.status.busy": "2022-07-09T19:31:09.932802Z",
     "iopub.status.idle": "2022-07-09T19:31:10.156142Z",
     "shell.execute_reply": "2022-07-09T19:31:10.155024Z",
     "shell.execute_reply.started": "2022-07-09T19:31:09.933375Z"
    },
    "id": "PGAKbyNkjnI2",
    "outputId": "d200ed92-0040-4617-96ab-90f7a42baa8d"
   },
   "outputs": [
    {
     "data": {
      "text/plain": [
       "0"
      ]
     },
     "execution_count": 25,
     "metadata": {},
     "output_type": "execute_result"
    }
   ],
   "source": [
    "raw_test.duplicated().sum()"
   ]
  },
  {
   "cell_type": "markdown",
   "metadata": {
    "id": "uVFzYvlhjnI2"
   },
   "source": [
    "#### **2.3 Check for URLs**"
   ]
  },
  {
   "cell_type": "code",
   "execution_count": 33,
   "metadata": {
    "execution": {
     "iopub.execute_input": "2022-07-09T19:31:10.159536Z",
     "iopub.status.busy": "2022-07-09T19:31:10.157563Z",
     "iopub.status.idle": "2022-07-09T19:31:11.654241Z",
     "shell.execute_reply": "2022-07-09T19:31:11.653059Z",
     "shell.execute_reply.started": "2022-07-09T19:31:10.159493Z"
    },
    "id": "Zkp8rbPDjnI2",
    "outputId": "46a75490-f678-408c-f201-7e26197b87a2"
   },
   "outputs": [
    {
     "data": {
      "text/plain": [
       "id\n",
       "000c0dfd995809fa                                                                                                                                                                                       [http://www.its.caltech.edu/~atomic/snowcrystals/myths/myths.htm#perfection]\n",
       "001363e1dbe91225                                                                                                                                                                                               [http://digg.com/music/Wikipedia_has_free_classical_music_downloads]\n",
       "002c9cccf2f1d05b                                                                                                                                        [http://www.constitution.ie/reports/ConstitutionofIreland.pdf, http://www.constitution.ie/reports/mbunreachtnaheireann.pdf]\n",
       "0038f191ffc93d75                                                                                                                                                                                                              [https://ml.wikipedia.org/wiki/സംവാദം:മോസ്കോ_മെട്രോ.]\n",
       "003fa0c68deca750                                                                                                             [http://www.iranchamber.com/personalities/farabi/farabi.php, http://www.islam.org.br/%C2%A0al_farabi.htm, http://www.superbeyin.com/sohbet/sohbet.htm]\n",
       "                                                                                                                                                 ...                                                                                                                               \n",
       "fbf8672ea3b4ddf7                                                                                                                                                                                                                               [http://www.nysun.com/article/23698]\n",
       "fca6db97dde470bc                                                                                                                                                                                                                    [http://en.wikipedia.org/wiki/Talk:Nissan_GT-R]\n",
       "fd5773ec2e4bcf3a    [http://rexcurry.net/wikipedialies.html, http://rexcurry.net/pledgesalute.html, http://rexcurry.net/pledge2.html, http://rexcurry.net/pledge_military.html, http://rexcurry.net/book1a1contents-pledge.html, http://rexcurry.net/book1a1contents-swastika.html]\n",
       "fd58d3a74b75da85                                                                                                                                                                                                                 [http://www.the-scorpions.com/english/history.asp]\n",
       "ff1fd5721a58e8c7                                                     [http://www.nvidia.com/object/IO_20021017_4141.html, http://www.amazon.com/tag/palit%20microsystems, http://www.pcuniverse.com/Palit-Microsystems/bs/h/3158, http://en.wikipedia.org/wiki/Talk:EVGA_(Company)]\n",
       "Name: comment, Length: 4337, dtype: object"
      ]
     },
     "execution_count": 33,
     "metadata": {},
     "output_type": "execute_result"
    }
   ],
   "source": [
    "raw_train.comment.str.findall(r'https?:\\/\\/\\S*').drop_duplicates(keep=False)"
   ]
  },
  {
   "cell_type": "markdown",
   "metadata": {
    "id": "O4MhTJE0jnI2"
   },
   "source": [
    "#### **2.4 Check for Emails and mentions**"
   ]
  },
  {
   "cell_type": "code",
   "execution_count": 34,
   "metadata": {
    "execution": {
     "iopub.execute_input": "2022-07-09T19:31:11.655859Z",
     "iopub.status.busy": "2022-07-09T19:31:11.655572Z",
     "iopub.status.idle": "2022-07-09T19:31:17.996283Z",
     "shell.execute_reply": "2022-07-09T19:31:17.994977Z",
     "shell.execute_reply.started": "2022-07-09T19:31:11.655832Z"
    },
    "id": "6WRo6xz0jnI3",
    "outputId": "12753943-fcde-432f-ac13-3ad3ce2bf6ec"
   },
   "outputs": [
    {
     "data": {
      "text/plain": [
       "id\n",
       "0236f714de182059                      [apriljohnson6868@gmail.com]\n",
       "03585d8dd27a3653                            [animeking237@aol.com]\n",
       "055c9cafcdb359f9    [bathory@bathory.org, bathory@maltedmedia.com]\n",
       "05ee06363d9dda77                                  [jeff@fugly.com]\n",
       "0675ca47f054c2c0                                           [@Matt]\n",
       "                                         ...                      \n",
       "ea17eecb83be13ee                             [manasgarg@gmail.com]\n",
       "ee831c8c79c9984f                                         [@'''''']\n",
       "ef12914c33ab46b5                                     [@Powergate:]\n",
       "f1ac66faba2e5bae                             [@Tznkai:, @Snowman:]\n",
       "f5379a104a9276a2                                 [last@yourhouse.]\n",
       "Name: comment, Length: 621, dtype: object"
      ]
     },
     "execution_count": 34,
     "metadata": {},
     "output_type": "execute_result"
    }
   ],
   "source": [
    "raw_train.comment.str.findall(r'\\S*@\\S+').drop_duplicates(keep=False)"
   ]
  },
  {
   "cell_type": "markdown",
   "metadata": {
    "id": "jec8_AH-jnI3"
   },
   "source": [
    "#### **2.5 Check for Hashtags**"
   ]
  },
  {
   "cell_type": "code",
   "execution_count": 35,
   "metadata": {
    "execution": {
     "iopub.execute_input": "2022-07-09T19:31:17.999545Z",
     "iopub.status.busy": "2022-07-09T19:31:17.999066Z",
     "iopub.status.idle": "2022-07-09T19:31:18.404072Z",
     "shell.execute_reply": "2022-07-09T19:31:18.402870Z",
     "shell.execute_reply.started": "2022-07-09T19:31:17.999504Z"
    },
    "id": "R9LhHmgajnI3",
    "outputId": "f408a320-1842-43d8-ac93-a557387c9bef"
   },
   "outputs": [
    {
     "data": {
      "text/plain": [
       "id\n",
       "0001b41b1c6bb37e                                                                                                                                                [#Transport]\n",
       "000c0dfd995809fa                                                                                                                                               [#perfection]\n",
       "001363e1dbe91225    [#Need_help.21Wikipedia_talk:WikiProject_Music/Archive_3#I_could_use_some_helpWikipedia_talk:WikiProject_Music/Archive_2#Raulbot.2C_and_the_music_list)]\n",
       "003b9f448ee4a29d                                                                                             [#WP:V_-_comparing_Jewish_Virtual_Library_and_Dissident_Voice.]\n",
       "00585c1da10b448b                                                                                                                                                    [#5-5-5]\n",
       "                                                                                              ...                                                                           \n",
       "f71b76e3de13609a                                                                                                                                                  [#3, #4).]\n",
       "f7f582a4b0c7f860        [#Deeptrivia.2C_Al-Khwarizmi_was_an_Arab, #Deeptrivia.2C_why_did_you_remove_this_verifiable_content.3F.21, #I_find_serious_fault_with_this_phrasing]\n",
       "f9321888a2ca1c37                                                                                                                                     [##ee9000;border:solid]\n",
       "fa9626486b24f0f6                                                                                                                                         [#An, #Anachronous]\n",
       "fc8ca591ef6bc42c                                                                                                                                                 [#Non-free]\n",
       "Name: comment, Length: 2110, dtype: object"
      ]
     },
     "execution_count": 35,
     "metadata": {},
     "output_type": "execute_result"
    }
   ],
   "source": [
    "raw_train.comment.str.findall(r'#\\S+').drop_duplicates(keep=False)"
   ]
  },
  {
   "cell_type": "markdown",
   "metadata": {
    "id": "7n4N0zTBjnI3"
   },
   "source": [
    "#### **2.6 Check for HTML tags**"
   ]
  },
  {
   "cell_type": "code",
   "execution_count": 36,
   "metadata": {
    "execution": {
     "iopub.execute_input": "2022-07-09T19:31:18.405627Z",
     "iopub.status.busy": "2022-07-09T19:31:18.405327Z",
     "iopub.status.idle": "2022-07-09T19:31:18.825163Z",
     "shell.execute_reply": "2022-07-09T19:31:18.824116Z",
     "shell.execute_reply.started": "2022-07-09T19:31:18.405601Z"
    },
    "id": "Z_bKKjBFjnI3",
    "outputId": "b989c857-3bc5-4406-f587-4e3543bc7a21"
   },
   "outputs": [
    {
     "data": {
      "text/plain": [
       "id\n",
       "0e343b7f449df75a                                                                                                                                                                                                   [<  | ∂drini >]\n",
       "1905ca9ef49186a3                                                                          [< http://theregister.co.uk/2008/02/01/woolworths_bed_outrage >, < http://www.woolworths.co.uk/web/jsp/product/index.jsp?pid=11401556 >]\n",
       "1ae9fbf8d8bc558c                                                                                                                     [<ɰ> is a more appropriate symbol.  was useful because it was found on typewriters while <ɰ>]\n",
       "1c60ea64111132c6                                                                                                                                                                                         [<| 09.10.2007 | Monday>]\n",
       "2917d00d75fa9c1d                                                                                                              [<<... a world in which every single human being can freely share in the sum of all knowledge ...>>]\n",
       "                                                                                                                         ...                                                                                                      \n",
       "3049d085bc0f83a8    [< http://en.wikipedia.org/w/index.php?title=Wikipedia:Administrators%27_noticeboard/Wiki_editor_DonFphrnqTaub_Persina&diff;=178429228&oldid;=178383952 >, < | http://en.wikipedia.org/wiki/special:search/ >]\n",
       "799af7635b509ac5                                                                                                                                                                                                            [<<>>]\n",
       "b713a791ef0ef0c5                                                                                                                                                                                                          [<')))>]\n",
       "d484ee4c8c8aefcc                                                                                                                                                                                    [<[ freakofnurxture]|[ talk]>]\n",
       "e9e45f79d94fd41f                                                                                                                                                                                                          [< !  >]\n",
       "Name: comment, Length: 73, dtype: object"
      ]
     },
     "execution_count": 36,
     "metadata": {},
     "output_type": "execute_result"
    }
   ],
   "source": [
    "raw_train.comment.str.findall(r'<.*>').drop_duplicates(keep=False)"
   ]
  },
  {
   "cell_type": "markdown",
   "metadata": {
    "id": "ts3JgZkijnI3"
   },
   "source": [
    "#### **2.7 Check for dataset imbalance**"
   ]
  },
  {
   "cell_type": "code",
   "execution_count": 37,
   "metadata": {
    "execution": {
     "iopub.execute_input": "2022-07-09T19:31:18.826926Z",
     "iopub.status.busy": "2022-07-09T19:31:18.826619Z",
     "iopub.status.idle": "2022-07-09T19:31:19.666320Z",
     "shell.execute_reply": "2022-07-09T19:31:19.665060Z",
     "shell.execute_reply.started": "2022-07-09T19:31:18.826898Z"
    },
    "id": "0EovY7jxjnI4",
    "outputId": "21aafd3c-d2fc-4e12-94ca-d1a68ab2b13b"
   },
   "outputs": [
    {
     "data": {
      "image/png": "[encoded data removed]",
      "text/plain": [
       "<Figure size 1800x1080 with 6 Axes>"
      ]
     },
     "metadata": {
      "needs_background": "light"
     },
     "output_type": "display_data"
    }
   ],
   "source": [
    "target_cols = raw_train.select_dtypes(include=np.number).columns\n",
    "fig, ax = plt.subplots(2, 3, figsize=(25, 15))\n",
    "\n",
    "for col, subplot in zip(target_cols, ax.flatten()):\n",
    "    sns.countplot(x=raw_train[col], ax=subplot)\n",
    "    for p in subplot.patches:\n",
    "        x_ = p.get_bbox().get_points()[:,0]\n",
    "        y_ = p.get_bbox().get_points()[1,1]\n",
    "        subplot.annotate(p.get_height(), (x_.mean(), y_), ha='center', va='bottom')\n",
    "        \n",
    "plt.show()"
   ]
  },
  {
   "cell_type": "markdown",
   "metadata": {
    "id": "j3Vc6N-vjnI4"
   },
   "source": [
    "#### **2.8 Number of comments in each category**"
   ]
  },
  {
   "cell_type": "code",
   "execution_count": 38,
   "metadata": {
    "execution": {
     "iopub.execute_input": "2022-07-09T19:31:19.668057Z",
     "iopub.status.busy": "2022-07-09T19:31:19.667642Z",
     "iopub.status.idle": "2022-07-09T19:31:19.894013Z",
     "shell.execute_reply": "2022-07-09T19:31:19.893006Z",
     "shell.execute_reply.started": "2022-07-09T19:31:19.668025Z"
    },
    "id": "WA7dVjOLjnI4",
    "outputId": "b8807e7f-7829-4c75-e3bf-362c58f1aa17"
   },
   "outputs": [
    {
     "data": {
      "image/png": "[encoded data removed]",
      "text/plain": [
       "<Figure size 432x288 with 1 Axes>"
      ]
     },
     "metadata": {
      "needs_background": "light"
     },
     "output_type": "display_data"
    }
   ],
   "source": [
    "ax = sns.barplot(x=target_cols, y=raw_train[target_cols].sum(axis=0))\n",
    "for p in ax.patches:\n",
    "    x_ = p.get_bbox().get_points()[:,0]\n",
    "    y_ = p.get_bbox().get_points()[1,1]\n",
    "    ax.annotate(p.get_height(), (x_.mean(), y_), ha='center', va='bottom')"
   ]
  },
  {
   "cell_type": "markdown",
   "metadata": {
    "id": "5KekO-rxjnI4"
   },
   "source": [
    "#### **2.9 Comments with multi-labels**"
   ]
  },
  {
   "cell_type": "code",
   "execution_count": 39,
   "metadata": {
    "execution": {
     "iopub.execute_input": "2022-07-09T19:31:19.895789Z",
     "iopub.status.busy": "2022-07-09T19:31:19.895484Z",
     "iopub.status.idle": "2022-07-09T19:31:20.141993Z",
     "shell.execute_reply": "2022-07-09T19:31:20.141170Z",
     "shell.execute_reply.started": "2022-07-09T19:31:19.895760Z"
    },
    "id": "TuSjA__KjnI4",
    "outputId": "4f07869f-dc6d-4204-a49d-c68bb940970d"
   },
   "outputs": [
    {
     "data": {
      "text/plain": [
       "Text(0, 0.5, 'No. of Comments')"
      ]
     },
     "execution_count": 39,
     "metadata": {},
     "output_type": "execute_result"
    },
    {
     "data": {
      "image/png": "[encoded data removed]",
      "text/plain": [
       "<Figure size 432x288 with 1 Axes>"
      ]
     },
     "metadata": {
      "needs_background": "light"
     },
     "output_type": "display_data"
    }
   ],
   "source": [
    "nLabels = raw_train[target_cols].sum(axis=1).value_counts()\n",
    "\n",
    "ax = sns.barplot(x=nLabels.index, y=nLabels.values)\n",
    "for p in ax.patches:\n",
    "    x_ = p.get_bbox().get_points()[:,0]\n",
    "    y_ = p.get_bbox().get_points()[1,1]\n",
    "    ax.annotate(p.get_height(), (x_.mean(), y_), ha='center', va='bottom')\n",
    "    \n",
    "plt.title(\"Multi-labels per comment\")\n",
    "plt.xlabel('No. of categories', fontsize=12)\n",
    "plt.ylabel('No. of Comments', fontsize=12)"
   ]
  },
  {
   "cell_type": "markdown",
   "metadata": {
    "id": "FjF2_qaIjnI5"
   },
   "source": [
    "## **3. Text Preprocessing**"
   ]
  },
  {
   "cell_type": "markdown",
   "metadata": {
    "id": "MbOYDe0sjnI5"
   },
   "source": [
    "#### **3.1 Remove URLs**"
   ]
  },
  {
   "cell_type": "code",
   "execution_count": 41,
   "metadata": {
    "execution": {
     "iopub.execute_input": "2022-07-09T19:31:20.143753Z",
     "iopub.status.busy": "2022-07-09T19:31:20.143447Z",
     "iopub.status.idle": "2022-07-09T19:31:20.149643Z",
     "shell.execute_reply": "2022-07-09T19:31:20.148448Z",
     "shell.execute_reply.started": "2022-07-09T19:31:20.143726Z"
    },
    "id": "ww8rHWgZjnI5"
   },
   "outputs": [],
   "source": [
    "def remove_urls(text):\n",
    "    return re.sub(r'https?:\\/\\/\\S*', '', text, flags=re.MULTILINE)"
   ]
  },
  {
   "cell_type": "markdown",
   "metadata": {
    "id": "jyb-oZ6SjnI5"
   },
   "source": [
    "#### **3.2 Remove Emails and Mentions**"
   ]
  },
  {
   "cell_type": "code",
   "execution_count": 42,
   "metadata": {
    "execution": {
     "iopub.execute_input": "2022-07-09T19:31:20.152012Z",
     "iopub.status.busy": "2022-07-09T19:31:20.151370Z",
     "iopub.status.idle": "2022-07-09T19:31:20.161635Z",
     "shell.execute_reply": "2022-07-09T19:31:20.160542Z",
     "shell.execute_reply.started": "2022-07-09T19:31:20.151975Z"
    },
    "id": "8q2RU89SjnI5"
   },
   "outputs": [],
   "source": [
    "def remove_emails_and_mentions(text):\n",
    "    return re.sub(r'\\S*@\\S+', '', text, flags=re.MULTILINE)"
   ]
  },
  {
   "cell_type": "markdown",
   "metadata": {
    "id": "SC2opuJvjnI6"
   },
   "source": [
    "#### **3.3 Remove Hashtags**"
   ]
  },
  {
   "cell_type": "code",
   "execution_count": 43,
   "metadata": {
    "execution": {
     "iopub.execute_input": "2022-07-09T19:31:20.163847Z",
     "iopub.status.busy": "2022-07-09T19:31:20.163244Z",
     "iopub.status.idle": "2022-07-09T19:31:20.173983Z",
     "shell.execute_reply": "2022-07-09T19:31:20.172930Z",
     "shell.execute_reply.started": "2022-07-09T19:31:20.163815Z"
    },
    "id": "Ed15b-iSjnI6"
   },
   "outputs": [],
   "source": [
    "def remove_hashtags(text):\n",
    "    return re.sub(r'#\\S+', '', text, flags=re.MULTILINE)"
   ]
  },
  {
   "cell_type": "markdown",
   "metadata": {
    "id": "DheBUa-DjnI6"
   },
   "source": [
    "#### **3.4 Remove HTML tags**"
   ]
  },
  {
   "cell_type": "code",
   "execution_count": 44,
   "metadata": {
    "execution": {
     "iopub.execute_input": "2022-07-09T19:31:20.175775Z",
     "iopub.status.busy": "2022-07-09T19:31:20.175374Z",
     "iopub.status.idle": "2022-07-09T19:31:20.184123Z",
     "shell.execute_reply": "2022-07-09T19:31:20.183169Z",
     "shell.execute_reply.started": "2022-07-09T19:31:20.175746Z"
    },
    "id": "rS51TafNjnI6"
   },
   "outputs": [],
   "source": [
    "def remove_html_tags(text):\n",
    "    return re.sub(r'<+.*>+', '', text, flags=re.MULTILINE)"
   ]
  },
  {
   "cell_type": "markdown",
   "metadata": {
    "id": "WmhCwWp0jnI6"
   },
   "source": [
    "#### **3.5 Remove whitespaces**"
   ]
  },
  {
   "cell_type": "code",
   "execution_count": 45,
   "metadata": {
    "execution": {
     "iopub.execute_input": "2022-07-09T19:31:20.189149Z",
     "iopub.status.busy": "2022-07-09T19:31:20.188130Z",
     "iopub.status.idle": "2022-07-09T19:31:20.197703Z",
     "shell.execute_reply": "2022-07-09T19:31:20.196505Z",
     "shell.execute_reply.started": "2022-07-09T19:31:20.189091Z"
    },
    "id": "l6UQ_LqwjnI6"
   },
   "outputs": [],
   "source": [
    "def remove_whitespaces(text):\n",
    "    text = re.sub(r'\\s+', ' ', text, flags=re.MULTILINE)\n",
    "    return text.strip()"
   ]
  },
  {
   "cell_type": "markdown",
   "metadata": {
    "id": "aQncZZRYjnI7"
   },
   "source": [
    "#### **3.6 Convert text to lower case**"
   ]
  },
  {
   "cell_type": "code",
   "execution_count": 46,
   "metadata": {
    "execution": {
     "iopub.execute_input": "2022-07-09T19:31:20.199570Z",
     "iopub.status.busy": "2022-07-09T19:31:20.198975Z",
     "iopub.status.idle": "2022-07-09T19:31:20.213734Z",
     "shell.execute_reply": "2022-07-09T19:31:20.212843Z",
     "shell.execute_reply.started": "2022-07-09T19:31:20.199535Z"
    },
    "id": "SpapVBScjnI7"
   },
   "outputs": [],
   "source": [
    "def to_lowercase(text):\n",
    "    return text.lower()"
   ]
  },
  {
   "cell_type": "markdown",
   "metadata": {
    "id": "6oNS4tyCjnI7"
   },
   "source": [
    "#### **3.7 Remove all special characters**"
   ]
  },
  {
   "cell_type": "code",
   "execution_count": 47,
   "metadata": {
    "execution": {
     "iopub.execute_input": "2022-07-09T19:31:20.215552Z",
     "iopub.status.busy": "2022-07-09T19:31:20.214776Z",
     "iopub.status.idle": "2022-07-09T19:31:20.225798Z",
     "shell.execute_reply": "2022-07-09T19:31:20.224909Z",
     "shell.execute_reply.started": "2022-07-09T19:31:20.215516Z"
    },
    "id": "N4i-O0fyjnI7"
   },
   "outputs": [],
   "source": [
    "def remove_special_chars(text):\n",
    "    return re.findall(r'[a-z]{3,}', text)"
   ]
  },
  {
   "cell_type": "markdown",
   "metadata": {
    "id": "wHMAxpIcjnI7"
   },
   "source": [
    "#### **3.8 Remove stopwords**"
   ]
  },
  {
   "cell_type": "code",
   "execution_count": 48,
   "metadata": {
    "execution": {
     "iopub.execute_input": "2022-07-09T19:31:20.227627Z",
     "iopub.status.busy": "2022-07-09T19:31:20.227135Z",
     "iopub.status.idle": "2022-07-09T19:31:20.236860Z",
     "shell.execute_reply": "2022-07-09T19:31:20.236009Z",
     "shell.execute_reply.started": "2022-07-09T19:31:20.227595Z"
    },
    "id": "Vt5IYEcljnI7"
   },
   "outputs": [],
   "source": [
    "def remove_stopwords(words):\n",
    "    stop_words = set(stopwords.words('english'))\n",
    "    return [word for word in words if word not in stop_words]"
   ]
  },
  {
   "cell_type": "markdown",
   "metadata": {
    "id": "chViD401jnI8"
   },
   "source": [
    "#### **3.9 Lemmatization**"
   ]
  },
  {
   "cell_type": "code",
   "execution_count": 49,
   "metadata": {
    "execution": {
     "iopub.execute_input": "2022-07-09T19:31:20.239146Z",
     "iopub.status.busy": "2022-07-09T19:31:20.238187Z",
     "iopub.status.idle": "2022-07-09T19:31:20.248342Z",
     "shell.execute_reply": "2022-07-09T19:31:20.247538Z",
     "shell.execute_reply.started": "2022-07-09T19:31:20.239082Z"
    },
    "id": "TSev0HROjnI8"
   },
   "outputs": [],
   "source": [
    "def lemmatization(words):\n",
    "    lemmatizer = WordNetLemmatizer()\n",
    "    return ' '.join(lemmatizer.lemmatize(word) for word in words)"
   ]
  },
  {
   "cell_type": "markdown",
   "metadata": {
    "id": "bxxjxK43jnI8"
   },
   "source": [
    "#### **Putting all the pipeline together**"
   ]
  },
  {
   "cell_type": "code",
   "execution_count": 50,
   "metadata": {
    "execution": {
     "iopub.execute_input": "2022-07-09T19:31:20.250657Z",
     "iopub.status.busy": "2022-07-09T19:31:20.249642Z",
     "iopub.status.idle": "2022-07-09T19:31:20.262025Z",
     "shell.execute_reply": "2022-07-09T19:31:20.261158Z",
     "shell.execute_reply.started": "2022-07-09T19:31:20.250605Z"
    },
    "id": "g6zWSHFWjnI8"
   },
   "outputs": [],
   "source": [
    "def text_preprocessing(text):\n",
    "    text = remove_urls(text)\n",
    "    text = remove_emails_and_mentions(text)\n",
    "    text = remove_hashtags(text)\n",
    "    text = remove_html_tags(text)\n",
    "    text = remove_whitespaces(text)\n",
    "    text = to_lowercase(text)\n",
    "    words = remove_special_chars(text)\n",
    "    words = remove_stopwords(words)\n",
    "    text = lemmatization(words)\n",
    "    return text"
   ]
  },
  {
   "cell_type": "markdown",
   "metadata": {
    "id": "PJ7GLWKejnI8"
   },
   "source": [
    "#### **Applying text preprocessing on train and test sets**"
   ]
  },
  {
   "cell_type": "code",
   "execution_count": 51,
   "metadata": {
    "execution": {
     "iopub.execute_input": "2022-07-09T19:31:20.271471Z",
     "iopub.status.busy": "2022-07-09T19:31:20.270770Z",
     "iopub.status.idle": "2022-07-09T19:31:20.283967Z",
     "shell.execute_reply": "2022-07-09T19:31:20.283136Z",
     "shell.execute_reply.started": "2022-07-09T19:31:20.271433Z"
    },
    "id": "lnhG3T3sjnI8"
   },
   "outputs": [],
   "source": [
    "train = raw_train.copy()\n",
    "test = raw_test.copy()"
   ]
  },
  {
   "cell_type": "code",
   "execution_count": 52,
   "metadata": {
    "execution": {
     "iopub.execute_input": "2022-07-09T19:31:20.287175Z",
     "iopub.status.busy": "2022-07-09T19:31:20.286552Z",
     "iopub.status.idle": "2022-07-09T19:31:20.534840Z",
     "shell.execute_reply": "2022-07-09T19:31:20.533500Z",
     "shell.execute_reply.started": "2022-07-09T19:31:20.287124Z"
    },
    "id": "QGeEIFYEnnTY",
    "outputId": "36962f13-b801-4101-f580-efa608068276"
   },
   "outputs": [
    {
     "name": "stderr",
     "output_type": "stream",
     "text": [
      "[nltk_data] Downloading package omw-1.4 to\n",
      "[nltk_data]     C:\\Users\\Emad\\AppData\\Roaming\\nltk_data...\n",
      "[nltk_data]   Package omw-1.4 is already up-to-date!\n"
     ]
    },
    {
     "data": {
      "text/plain": [
       "True"
      ]
     },
     "execution_count": 52,
     "metadata": {},
     "output_type": "execute_result"
    }
   ],
   "source": [
    "nltk.download('omw-1.4')"
   ]
  },
  {
   "cell_type": "code",
   "execution_count": 53,
   "metadata": {
    "execution": {
     "iopub.execute_input": "2022-07-09T19:31:20.536848Z",
     "iopub.status.busy": "2022-07-09T19:31:20.536502Z",
     "iopub.status.idle": "2022-07-09T19:32:38.395082Z",
     "shell.execute_reply": "2022-07-09T19:32:38.394068Z",
     "shell.execute_reply.started": "2022-07-09T19:31:20.536816Z"
    },
    "id": "tE-bXwwLjnI8"
   },
   "outputs": [],
   "source": [
    "train.comment = train.comment.apply(text_preprocessing)"
   ]
  },
  {
   "cell_type": "code",
   "execution_count": 54,
   "metadata": {
    "execution": {
     "iopub.execute_input": "2022-07-09T19:32:38.401023Z",
     "iopub.status.busy": "2022-07-09T19:32:38.396409Z",
     "iopub.status.idle": "2022-07-09T19:33:49.707588Z",
     "shell.execute_reply": "2022-07-09T19:33:49.706765Z",
     "shell.execute_reply.started": "2022-07-09T19:32:38.400984Z"
    },
    "id": "sRbqMx6djnI8"
   },
   "outputs": [],
   "source": [
    "test.comment = test.comment.apply(text_preprocessing)"
   ]
  },
  {
   "cell_type": "markdown",
   "metadata": {
    "id": "SqtGIqNDjnI9"
   },
   "source": [
    "#### **Showing a sample of data before and after cleaning**"
   ]
  },
  {
   "cell_type": "code",
   "execution_count": 55,
   "metadata": {
    "execution": {
     "iopub.execute_input": "2022-07-09T19:33:49.709458Z",
     "iopub.status.busy": "2022-07-09T19:33:49.708952Z",
     "iopub.status.idle": "2022-07-09T19:33:49.724484Z",
     "shell.execute_reply": "2022-07-09T19:33:49.723256Z",
     "shell.execute_reply.started": "2022-07-09T19:33:49.709421Z"
    },
    "id": "CD-GRMbEjnI9",
    "outputId": "7a25201d-33d3-4575-a10d-4c9c970aefe1"
   },
   "outputs": [
    {
     "data": {
      "text/plain": [
       "id\n",
       "7ca72b5b9c688e9e    Geez, are you forgetful!  We've already discussed why Marx  was  not an anarchist, i.e. he wanted to use a State to mold his 'socialist man.'  Ergo, he is a statist - the opposite of an  anarchist.  I know a guy who says that, when he gets old and his teeth fall out, he'll quit eating meat.  Would you call him a vegetarian?\n",
       "Name: comment, dtype: object"
      ]
     },
     "execution_count": 55,
     "metadata": {},
     "output_type": "execute_result"
    }
   ],
   "source": [
    "raw_train.comment.sample(random_state=42)"
   ]
  },
  {
   "cell_type": "code",
   "execution_count": 56,
   "metadata": {
    "execution": {
     "iopub.execute_input": "2022-07-09T19:33:49.727353Z",
     "iopub.status.busy": "2022-07-09T19:33:49.726986Z",
     "iopub.status.idle": "2022-07-09T19:33:49.743724Z",
     "shell.execute_reply": "2022-07-09T19:33:49.742645Z",
     "shell.execute_reply.started": "2022-07-09T19:33:49.727322Z"
    },
    "id": "Fl73GIsxjnI9",
    "outputId": "59e2359d-b146-4122-98d2-0a2c468f193c"
   },
   "outputs": [
    {
     "data": {
      "text/plain": [
       "id\n",
       "7ca72b5b9c688e9e    geez forgetful already discussed marx anarchist wanted use state mold socialist man ergo statist opposite anarchist know guy say get old teeth fall quit eating meat would call vegetarian\n",
       "Name: comment, dtype: object"
      ]
     },
     "execution_count": 56,
     "metadata": {},
     "output_type": "execute_result"
    }
   ],
   "source": [
    "train.comment.sample(random_state=42)"
   ]
  },
  {
   "cell_type": "markdown",
   "metadata": {
    "id": "zyAeWcyUjnI9"
   },
   "source": [
    "#### **Splitting data**"
   ]
  },
  {
   "cell_type": "code",
   "execution_count": 57,
   "metadata": {
    "execution": {
     "iopub.execute_input": "2022-07-09T19:33:49.745948Z",
     "iopub.status.busy": "2022-07-09T19:33:49.744837Z",
     "iopub.status.idle": "2022-07-09T19:33:49.823317Z",
     "shell.execute_reply": "2022-07-09T19:33:49.822340Z",
     "shell.execute_reply.started": "2022-07-09T19:33:49.745913Z"
    },
    "id": "2BzwcdIWjnI9"
   },
   "outputs": [],
   "source": [
    "x_train_df, x_val_df, y_train_df, y_val_df = train_test_split(train.comment, train[target_cols], test_size=0.2, random_state=42)"
   ]
  },
  {
   "cell_type": "code",
   "execution_count": 58,
   "metadata": {
    "execution": {
     "iopub.execute_input": "2022-07-09T19:33:49.825773Z",
     "iopub.status.busy": "2022-07-09T19:33:49.824700Z",
     "iopub.status.idle": "2022-07-09T19:33:49.831409Z",
     "shell.execute_reply": "2022-07-09T19:33:49.830290Z",
     "shell.execute_reply.started": "2022-07-09T19:33:49.825725Z"
    },
    "id": "4Tp11f8JjnI9"
   },
   "outputs": [],
   "source": [
    "x_test_df = test.comment"
   ]
  },
  {
   "cell_type": "code",
   "execution_count": 59,
   "metadata": {
    "execution": {
     "iopub.execute_input": "2022-07-09T19:33:49.833388Z",
     "iopub.status.busy": "2022-07-09T19:33:49.832890Z",
     "iopub.status.idle": "2022-07-09T19:33:49.845633Z",
     "shell.execute_reply": "2022-07-09T19:33:49.844406Z",
     "shell.execute_reply.started": "2022-07-09T19:33:49.833357Z"
    },
    "id": "F4sgKRFcjnI9",
    "outputId": "0aa189e2-7350-4ed2-d8bb-e75fa7b02fb9"
   },
   "outputs": [
    {
     "name": "stdout",
     "output_type": "stream",
     "text": [
      "x_train shape: (127656,)\n",
      "y_train shape: (127656, 6)\n",
      "x_valid shape: (31915,)\n",
      "y_valid shape: (31915, 6)\n",
      "x_test shape:  (153164,)\n"
     ]
    }
   ],
   "source": [
    "print('x_train shape: {}'.format(x_train_df.shape))\n",
    "print('y_train shape: {}'.format(y_train_df.shape))\n",
    "print('x_valid shape: {}'.format(x_val_df.shape))\n",
    "print('y_valid shape: {}'.format(y_val_df.shape))\n",
    "print('x_test shape:  {}'.format(x_test_df.shape))"
   ]
  },
  {
   "cell_type": "markdown",
   "metadata": {
    "id": "rK55ZxANjnI9"
   },
   "source": [
    "## **4. Model**"
   ]
  },
  {
   "cell_type": "markdown",
   "metadata": {
    "id": "tzTja-4EjnI-"
   },
   "source": [
    "### **4.1 FFNN Model with BoW (TF-IDF) Text Representation**"
   ]
  },
  {
   "cell_type": "markdown",
   "metadata": {
    "id": "6EDsDwtRjnI-"
   },
   "source": [
    "#### **4.1.1 BoW**"
   ]
  },
  {
   "cell_type": "code",
   "execution_count": 60,
   "metadata": {
    "execution": {
     "iopub.execute_input": "2022-07-09T19:33:49.847465Z",
     "iopub.status.busy": "2022-07-09T19:33:49.847157Z",
     "iopub.status.idle": "2022-07-09T19:34:03.730563Z",
     "shell.execute_reply": "2022-07-09T19:34:03.729416Z",
     "shell.execute_reply.started": "2022-07-09T19:33:49.847438Z"
    },
    "id": "Bd_UReXMjnI-",
    "outputId": "9f6dc048-62e9-4e2f-be0e-a0def63cd5d7"
   },
   "outputs": [
    {
     "data": {
      "text/plain": [
       "TfidfVectorizer(max_features=1000)"
      ]
     },
     "execution_count": 60,
     "metadata": {},
     "output_type": "execute_result"
    }
   ],
   "source": [
    "vocab_size = 1000\n",
    "vectorizer = TfidfVectorizer(max_features=vocab_size)\n",
    "vectorizer.fit(pd.concat([train.comment, test.comment], axis=0))"
   ]
  },
  {
   "cell_type": "code",
   "execution_count": 61,
   "metadata": {
    "execution": {
     "iopub.execute_input": "2022-07-09T19:34:03.732918Z",
     "iopub.status.busy": "2022-07-09T19:34:03.732031Z",
     "iopub.status.idle": "2022-07-09T19:34:19.883637Z",
     "shell.execute_reply": "2022-07-09T19:34:19.882528Z",
     "shell.execute_reply.started": "2022-07-09T19:34:03.732877Z"
    },
    "id": "O1aAs00MjnI-"
   },
   "outputs": [],
   "source": [
    "x_train = vectorizer.transform(x_train_df).toarray()\n",
    "x_val = vectorizer.transform(x_val_df).toarray()\n",
    "x_test = vectorizer.transform(x_test_df).toarray()"
   ]
  },
  {
   "cell_type": "code",
   "execution_count": 62,
   "metadata": {
    "execution": {
     "iopub.execute_input": "2022-07-09T19:34:19.885686Z",
     "iopub.status.busy": "2022-07-09T19:34:19.885255Z",
     "iopub.status.idle": "2022-07-09T19:34:19.892675Z",
     "shell.execute_reply": "2022-07-09T19:34:19.891478Z",
     "shell.execute_reply.started": "2022-07-09T19:34:19.885646Z"
    },
    "id": "vDjvbI1_jnI-"
   },
   "outputs": [],
   "source": [
    "y_train = np.asarray(y_train_df).astype('float32')\n",
    "y_val = np.asarray(y_val_df).astype('float32')"
   ]
  },
  {
   "cell_type": "code",
   "execution_count": 63,
   "metadata": {
    "execution": {
     "iopub.execute_input": "2022-07-09T19:34:19.894668Z",
     "iopub.status.busy": "2022-07-09T19:34:19.894022Z",
     "iopub.status.idle": "2022-07-09T19:34:19.906316Z",
     "shell.execute_reply": "2022-07-09T19:34:19.905143Z",
     "shell.execute_reply.started": "2022-07-09T19:34:19.894635Z"
    },
    "id": "RUFcln9EjnI-",
    "outputId": "99a54071-fee4-4367-8549-b6acd3b1e887"
   },
   "outputs": [
    {
     "name": "stdout",
     "output_type": "stream",
     "text": [
      "x_train shape: (127656, 1000)\n",
      "y_train shape: (127656, 6)\n",
      "x_valid shape: (31915, 1000)\n",
      "y_valid shape: (31915, 6)\n",
      "x_test shape:  (153164, 1000)\n"
     ]
    }
   ],
   "source": [
    "print('x_train shape: {}'.format(x_train.shape))\n",
    "print('y_train shape: {}'.format(y_train.shape))\n",
    "print('x_valid shape: {}'.format(x_val.shape))\n",
    "print('y_valid shape: {}'.format(y_val.shape))\n",
    "print('x_test shape:  {}'.format(x_test.shape))"
   ]
  },
  {
   "cell_type": "markdown",
   "metadata": {
    "id": "tqlI6nG8jnI-"
   },
   "source": [
    "#### **4.1.2 FFNN Model**"
   ]
  },
  {
   "cell_type": "code",
   "execution_count": 64,
   "metadata": {
    "execution": {
     "iopub.execute_input": "2022-07-09T19:34:19.908482Z",
     "iopub.status.busy": "2022-07-09T19:34:19.908040Z",
     "iopub.status.idle": "2022-07-09T19:34:19.995284Z",
     "shell.execute_reply": "2022-07-09T19:34:19.994272Z",
     "shell.execute_reply.started": "2022-07-09T19:34:19.908441Z"
    },
    "id": "FvcXfpNKjnI_",
    "outputId": "4a533a75-925f-474f-ec85-20049334f91b"
   },
   "outputs": [
    {
     "name": "stdout",
     "output_type": "stream",
     "text": [
      "Model: \"sequential\"\n",
      "_________________________________________________________________\n",
      " Layer (type)                Output Shape              Param #   \n",
      "=================================================================\n",
      " dense (Dense)               (None, 16)                16016     \n",
      "                                                                 \n",
      " dense_1 (Dense)             (None, 32)                544       \n",
      "                                                                 \n",
      " dense_2 (Dense)             (None, 6)                 198       \n",
      "                                                                 \n",
      "=================================================================\n",
      "Total params: 16,758\n",
      "Trainable params: 16,758\n",
      "Non-trainable params: 0\n",
      "_________________________________________________________________\n"
     ]
    }
   ],
   "source": [
    "nn_model = models.Sequential()\n",
    "nn_model.add(layers.Dense(16, activation='relu', input_shape=(vocab_size,)))\n",
    "nn_model.add(layers.Dense(32, activation='relu'))\n",
    "nn_model.add(layers.Dense(6, activation='sigmoid'))\n",
    "nn_model.summary()"
   ]
  },
  {
   "cell_type": "code",
   "execution_count": 65,
   "metadata": {
    "execution": {
     "iopub.execute_input": "2022-07-09T19:34:19.996714Z",
     "iopub.status.busy": "2022-07-09T19:34:19.996435Z",
     "iopub.status.idle": "2022-07-09T19:34:21.256920Z",
     "shell.execute_reply": "2022-07-09T19:34:21.255439Z",
     "shell.execute_reply.started": "2022-07-09T19:34:19.996688Z"
    },
    "id": "aD52oZsKjnI_",
    "outputId": "3ea0f49b-d0c9-48db-9784-d6e8d3d496f9"
   },
   "outputs": [
    {
     "name": "stdout",
     "output_type": "stream",
     "text": [
      "You must install pydot (`pip install pydot`) and install graphviz (see instructions at https://graphviz.gitlab.io/download/) for plot_model/model_to_dot to work.\n"
     ]
    }
   ],
   "source": [
    "plot_model(nn_model, to_file='nn_model.png', show_shapes=True)"
   ]
  },
  {
   "cell_type": "code",
   "execution_count": 66,
   "metadata": {
    "execution": {
     "iopub.execute_input": "2022-07-09T19:34:21.259911Z",
     "iopub.status.busy": "2022-07-09T19:34:21.259025Z",
     "iopub.status.idle": "2022-07-09T19:34:21.280415Z",
     "shell.execute_reply": "2022-07-09T19:34:21.279305Z",
     "shell.execute_reply.started": "2022-07-09T19:34:21.259868Z"
    },
    "id": "_x48B1yfjnI_"
   },
   "outputs": [],
   "source": [
    "nn_model.compile(optimizer=optimizers.Adam(),\n",
    "              loss=losses.binary_crossentropy,\n",
    "              metrics=[metrics.binary_accuracy])"
   ]
  },
  {
   "cell_type": "code",
   "execution_count": 67,
   "metadata": {
    "execution": {
     "iopub.execute_input": "2022-07-09T19:34:21.283135Z",
     "iopub.status.busy": "2022-07-09T19:34:21.282656Z",
     "iopub.status.idle": "2022-07-09T19:34:38.591874Z",
     "shell.execute_reply": "2022-07-09T19:34:38.590261Z",
     "shell.execute_reply.started": "2022-07-09T19:34:21.283069Z"
    },
    "id": "2OvnB3DYjnI_",
    "outputId": "3c413bbd-2eb4-45f9-bc6a-a82d043a31a0"
   },
   "outputs": [
    {
     "name": "stdout",
     "output_type": "stream",
     "text": [
      "Epoch 1/10\n",
      "250/250 [==============================] - 5s 12ms/step - loss: 0.2330 - binary_accuracy: 0.9579 - val_loss: 0.0901 - val_binary_accuracy: 0.9703\n",
      "Epoch 2/10\n",
      "250/250 [==============================] - 3s 11ms/step - loss: 0.0735 - binary_accuracy: 0.9768 - val_loss: 0.0673 - val_binary_accuracy: 0.9786\n",
      "Epoch 3/10\n",
      "250/250 [==============================] - 2s 8ms/step - loss: 0.0632 - binary_accuracy: 0.9794 - val_loss: 0.0637 - val_binary_accuracy: 0.9795\n",
      "Epoch 4/10\n",
      "250/250 [==============================] - 2s 8ms/step - loss: 0.0611 - binary_accuracy: 0.9799 - val_loss: 0.0625 - val_binary_accuracy: 0.9797\n",
      "Epoch 5/10\n",
      "250/250 [==============================] - 2s 8ms/step - loss: 0.0602 - binary_accuracy: 0.9801 - val_loss: 0.0619 - val_binary_accuracy: 0.9800\n",
      "Epoch 6/10\n",
      "250/250 [==============================] - 2s 8ms/step - loss: 0.0595 - binary_accuracy: 0.9803 - val_loss: 0.0613 - val_binary_accuracy: 0.9801\n",
      "Epoch 7/10\n",
      "250/250 [==============================] - 2s 8ms/step - loss: 0.0588 - binary_accuracy: 0.9805 - val_loss: 0.0608 - val_binary_accuracy: 0.9802\n",
      "Epoch 8/10\n",
      "250/250 [==============================] - 2s 8ms/step - loss: 0.0581 - binary_accuracy: 0.9806 - val_loss: 0.0603 - val_binary_accuracy: 0.9803\n",
      "Epoch 9/10\n",
      "250/250 [==============================] - 2s 8ms/step - loss: 0.0576 - binary_accuracy: 0.9807 - val_loss: 0.0599 - val_binary_accuracy: 0.9805\n",
      "Epoch 10/10\n",
      "250/250 [==============================] - 2s 8ms/step - loss: 0.0570 - binary_accuracy: 0.9808 - val_loss: 0.0596 - val_binary_accuracy: 0.9805\n"
     ]
    }
   ],
   "source": [
    "history = nn_model.fit(x_train,\n",
    "                    y_train,\n",
    "                    epochs=10,\n",
    "                    batch_size=512,\n",
    "                    validation_data=(x_val, y_val))"
   ]
  },
  {
   "cell_type": "code",
   "execution_count": 68,
   "metadata": {
    "execution": {
     "iopub.execute_input": "2022-07-09T19:34:38.594768Z",
     "iopub.status.busy": "2022-07-09T19:34:38.594381Z",
     "iopub.status.idle": "2022-07-09T19:34:38.884446Z",
     "shell.execute_reply": "2022-07-09T19:34:38.883191Z",
     "shell.execute_reply.started": "2022-07-09T19:34:38.594729Z"
    },
    "id": "Kzqgbww9jnI_",
    "outputId": "80849557-96cb-441a-d68f-52e108731fd6"
   },
   "outputs": [
    {
     "data": {
      "image/png": "[encoded data removed]",
      "text/plain": [
       "<Figure size 432x288 with 1 Axes>"
      ]
     },
     "metadata": {
      "needs_background": "light"
     },
     "output_type": "display_data"
    }
   ],
   "source": [
    "loss = history.history['loss']\n",
    "val_loss = history.history['val_loss']\n",
    "\n",
    "epochs = range(1, len(loss) + 1)\n",
    "\n",
    "plt.plot(epochs, loss, 'bo', label='Training loss')\n",
    "plt.plot(epochs, val_loss, 'b', label='Validation loss')\n",
    "plt.title('Training and validation loss')\n",
    "plt.xlabel('Epochs')\n",
    "plt.ylabel('Loss')\n",
    "plt.legend()\n",
    "\n",
    "plt.show()"
   ]
  },
  {
   "cell_type": "code",
   "execution_count": 69,
   "metadata": {
    "execution": {
     "iopub.execute_input": "2022-07-09T19:34:38.886921Z",
     "iopub.status.busy": "2022-07-09T19:34:38.886460Z",
     "iopub.status.idle": "2022-07-09T19:34:39.098285Z",
     "shell.execute_reply": "2022-07-09T19:34:39.097000Z",
     "shell.execute_reply.started": "2022-07-09T19:34:38.886874Z"
    },
    "id": "yQtWGoQwjnI_",
    "outputId": "1bbf6da9-6eac-4af2-cabf-39334570272f"
   },
   "outputs": [
    {
     "data": {
      "image/png": "[encoded data removed]",
      "text/plain": [
       "<Figure size 432x288 with 1 Axes>"
      ]
     },
     "metadata": {
      "needs_background": "light"
     },
     "output_type": "display_data"
    }
   ],
   "source": [
    "plt.clf()\n",
    "\n",
    "acc = history.history['binary_accuracy']\n",
    "val_acc = history.history['val_binary_accuracy']\n",
    "\n",
    "plt.plot(epochs, acc, 'bo', label='Training acc')\n",
    "plt.plot(epochs, val_acc, 'b', label='Validation acc')\n",
    "plt.title('Training and validation accuracy')\n",
    "plt.xlabel('Epochs')\n",
    "plt.ylabel('Accuracy')\n",
    "plt.legend()\n",
    "\n",
    "plt.show()"
   ]
  },
  {
   "cell_type": "code",
   "execution_count": 70,
   "metadata": {
    "execution": {
     "iopub.execute_input": "2022-07-09T19:34:39.100159Z",
     "iopub.status.busy": "2022-07-09T19:34:39.099684Z",
     "iopub.status.idle": "2022-07-09T19:34:45.821670Z",
     "shell.execute_reply": "2022-07-09T19:34:45.820657Z",
     "shell.execute_reply.started": "2022-07-09T19:34:39.100060Z"
    },
    "id": "eWsNdzF_jnI_"
   },
   "outputs": [
    {
     "name": "stdout",
     "output_type": "stream",
     "text": [
      "4787/4787 [==============================] - 8s 2ms/step\n"
     ]
    }
   ],
   "source": [
    "preds = pd.DataFrame(nn_model.predict(x_test), index=test.index, columns=target_cols)"
   ]
  },
  {
   "cell_type": "code",
   "execution_count": 71,
   "metadata": {
    "execution": {
     "iopub.execute_input": "2022-07-09T19:34:45.824533Z",
     "iopub.status.busy": "2022-07-09T19:34:45.823424Z",
     "iopub.status.idle": "2022-07-09T19:34:45.846207Z",
     "shell.execute_reply": "2022-07-09T19:34:45.845041Z",
     "shell.execute_reply.started": "2022-07-09T19:34:45.824487Z"
    },
    "id": "QThVTl1_jnJA",
    "outputId": "ad53ed31-c543-4850-d408-5e606c6b4311"
   },
   "outputs": [
    {
     "data": {
      "text/html": [
       "<div>\n",
       "<style scoped>\n",
       "    .dataframe tbody tr th:only-of-type {\n",
       "        vertical-align: middle;\n",
       "    }\n",
       "\n",
       "    .dataframe tbody tr th {\n",
       "        vertical-align: top;\n",
       "    }\n",
       "\n",
       "    .dataframe thead th {\n",
       "        text-align: right;\n",
       "    }\n",
       "</style>\n",
       "<table border=\"1\" class=\"dataframe\">\n",
       "  <thead>\n",
       "    <tr style=\"text-align: right;\">\n",
       "      <th></th>\n",
       "      <th>toxic</th>\n",
       "      <th>severe_toxic</th>\n",
       "      <th>obscene</th>\n",
       "      <th>threat</th>\n",
       "      <th>insult</th>\n",
       "      <th>identity_hate</th>\n",
       "    </tr>\n",
       "    <tr>\n",
       "      <th>id</th>\n",
       "      <th></th>\n",
       "      <th></th>\n",
       "      <th></th>\n",
       "      <th></th>\n",
       "      <th></th>\n",
       "      <th></th>\n",
       "    </tr>\n",
       "  </thead>\n",
       "  <tbody>\n",
       "    <tr>\n",
       "      <th>00001cee341fdb12</th>\n",
       "      <td>0.992455</td>\n",
       "      <td>0.317606</td>\n",
       "      <td>0.963507</td>\n",
       "      <td>0.048364</td>\n",
       "      <td>0.839474</td>\n",
       "      <td>0.186718</td>\n",
       "    </tr>\n",
       "    <tr>\n",
       "      <th>0000247867823ef7</th>\n",
       "      <td>0.002607</td>\n",
       "      <td>0.000016</td>\n",
       "      <td>0.000431</td>\n",
       "      <td>0.000087</td>\n",
       "      <td>0.000884</td>\n",
       "      <td>0.000133</td>\n",
       "    </tr>\n",
       "    <tr>\n",
       "      <th>00013b17ad220c46</th>\n",
       "      <td>0.014637</td>\n",
       "      <td>0.000097</td>\n",
       "      <td>0.003414</td>\n",
       "      <td>0.000233</td>\n",
       "      <td>0.004700</td>\n",
       "      <td>0.000496</td>\n",
       "    </tr>\n",
       "    <tr>\n",
       "      <th>00017563c3f7919a</th>\n",
       "      <td>0.008058</td>\n",
       "      <td>0.000032</td>\n",
       "      <td>0.001067</td>\n",
       "      <td>0.000105</td>\n",
       "      <td>0.002615</td>\n",
       "      <td>0.000223</td>\n",
       "    </tr>\n",
       "    <tr>\n",
       "      <th>00017695ad8997eb</th>\n",
       "      <td>0.020656</td>\n",
       "      <td>0.000125</td>\n",
       "      <td>0.004909</td>\n",
       "      <td>0.000260</td>\n",
       "      <td>0.005472</td>\n",
       "      <td>0.000663</td>\n",
       "    </tr>\n",
       "    <tr>\n",
       "      <th>...</th>\n",
       "      <td>...</td>\n",
       "      <td>...</td>\n",
       "      <td>...</td>\n",
       "      <td>...</td>\n",
       "      <td>...</td>\n",
       "      <td>...</td>\n",
       "    </tr>\n",
       "    <tr>\n",
       "      <th>fffcd0960ee309b5</th>\n",
       "      <td>0.663709</td>\n",
       "      <td>0.002310</td>\n",
       "      <td>0.182133</td>\n",
       "      <td>0.001333</td>\n",
       "      <td>0.141611</td>\n",
       "      <td>0.005067</td>\n",
       "    </tr>\n",
       "    <tr>\n",
       "      <th>fffd7a9a6eb32c16</th>\n",
       "      <td>0.085978</td>\n",
       "      <td>0.001141</td>\n",
       "      <td>0.022724</td>\n",
       "      <td>0.001820</td>\n",
       "      <td>0.024880</td>\n",
       "      <td>0.005735</td>\n",
       "    </tr>\n",
       "    <tr>\n",
       "      <th>fffda9e8d6fafa9e</th>\n",
       "      <td>0.002531</td>\n",
       "      <td>0.000014</td>\n",
       "      <td>0.000752</td>\n",
       "      <td>0.000056</td>\n",
       "      <td>0.000703</td>\n",
       "      <td>0.000130</td>\n",
       "    </tr>\n",
       "    <tr>\n",
       "      <th>fffe8f1340a79fc2</th>\n",
       "      <td>0.069022</td>\n",
       "      <td>0.002654</td>\n",
       "      <td>0.015371</td>\n",
       "      <td>0.008573</td>\n",
       "      <td>0.027663</td>\n",
       "      <td>0.020306</td>\n",
       "    </tr>\n",
       "    <tr>\n",
       "      <th>ffffce3fb183ee80</th>\n",
       "      <td>0.872177</td>\n",
       "      <td>0.005472</td>\n",
       "      <td>0.698564</td>\n",
       "      <td>0.000918</td>\n",
       "      <td>0.260946</td>\n",
       "      <td>0.006182</td>\n",
       "    </tr>\n",
       "  </tbody>\n",
       "</table>\n",
       "<p>153164 rows × 6 columns</p>\n",
       "</div>"
      ],
      "text/plain": [
       "                     toxic  severe_toxic   obscene    threat    insult  \\\n",
       "id                                                                       \n",
       "00001cee341fdb12  0.992455      0.317606  0.963507  0.048364  0.839474   \n",
       "0000247867823ef7  0.002607      0.000016  0.000431  0.000087  0.000884   \n",
       "00013b17ad220c46  0.014637      0.000097  0.003414  0.000233  0.004700   \n",
       "00017563c3f7919a  0.008058      0.000032  0.001067  0.000105  0.002615   \n",
       "00017695ad8997eb  0.020656      0.000125  0.004909  0.000260  0.005472   \n",
       "...                    ...           ...       ...       ...       ...   \n",
       "fffcd0960ee309b5  0.663709      0.002310  0.182133  0.001333  0.141611   \n",
       "fffd7a9a6eb32c16  0.085978      0.001141  0.022724  0.001820  0.024880   \n",
       "fffda9e8d6fafa9e  0.002531      0.000014  0.000752  0.000056  0.000703   \n",
       "fffe8f1340a79fc2  0.069022      0.002654  0.015371  0.008573  0.027663   \n",
       "ffffce3fb183ee80  0.872177      0.005472  0.698564  0.000918  0.260946   \n",
       "\n",
       "                  identity_hate  \n",
       "id                               \n",
       "00001cee341fdb12       0.186718  \n",
       "0000247867823ef7       0.000133  \n",
       "00013b17ad220c46       0.000496  \n",
       "00017563c3f7919a       0.000223  \n",
       "00017695ad8997eb       0.000663  \n",
       "...                         ...  \n",
       "fffcd0960ee309b5       0.005067  \n",
       "fffd7a9a6eb32c16       0.005735  \n",
       "fffda9e8d6fafa9e       0.000130  \n",
       "fffe8f1340a79fc2       0.020306  \n",
       "ffffce3fb183ee80       0.006182  \n",
       "\n",
       "[153164 rows x 6 columns]"
      ]
     },
     "execution_count": 71,
     "metadata": {},
     "output_type": "execute_result"
    }
   ],
   "source": [
    "preds"
   ]
  },
  {
   "cell_type": "code",
   "execution_count": 72,
   "metadata": {
    "execution": {
     "iopub.execute_input": "2022-07-09T19:34:45.849436Z",
     "iopub.status.busy": "2022-07-09T19:34:45.847763Z",
     "iopub.status.idle": "2022-07-09T19:34:47.298585Z",
     "shell.execute_reply": "2022-07-09T19:34:47.297539Z",
     "shell.execute_reply.started": "2022-07-09T19:34:45.849384Z"
    },
    "id": "UZjJ06nujnJA"
   },
   "outputs": [],
   "source": [
    "preds.to_csv('FFNN2_submission.csv')"
   ]
  },
  {
   "cell_type": "markdown",
   "metadata": {
    "id": "ZUD_o2tgV4V_"
   },
   "source": [
    "### **4.2 Sequential Models with Word Embeddings Text Representation**"
   ]
  },
  {
   "cell_type": "code",
   "execution_count": 73,
   "metadata": {
    "execution": {
     "iopub.execute_input": "2022-07-09T19:34:47.300488Z",
     "iopub.status.busy": "2022-07-09T19:34:47.300009Z",
     "iopub.status.idle": "2022-07-09T19:35:00.252398Z",
     "shell.execute_reply": "2022-07-09T19:35:00.251020Z",
     "shell.execute_reply.started": "2022-07-09T19:34:47.300444Z"
    },
    "id": "svwwO4x3V4WA",
    "outputId": "f1e395a5-a233-4148-9626-4b55a194f1e7"
   },
   "outputs": [
    {
     "data": {
      "text/plain": [
       "262565"
      ]
     },
     "execution_count": 73,
     "metadata": {},
     "output_type": "execute_result"
    }
   ],
   "source": [
    "tokenizer = Tokenizer()\n",
    "tokenizer.fit_on_texts(pd.concat([train.comment, test.comment], axis=0))\n",
    "vocab_size = len(tokenizer.word_index) + 1\n",
    "vocab_size"
   ]
  },
  {
   "cell_type": "code",
   "execution_count": 74,
   "metadata": {
    "execution": {
     "iopub.execute_input": "2022-07-09T19:35:00.255471Z",
     "iopub.status.busy": "2022-07-09T19:35:00.255057Z",
     "iopub.status.idle": "2022-07-09T19:35:09.886884Z",
     "shell.execute_reply": "2022-07-09T19:35:09.885472Z",
     "shell.execute_reply.started": "2022-07-09T19:35:00.255439Z"
    },
    "id": "TgBA7oXWV4WB"
   },
   "outputs": [],
   "source": [
    "x_train = tokenizer.texts_to_sequences(x_train_df)\n",
    "x_val = tokenizer.texts_to_sequences(x_val_df)\n",
    "x_test = tokenizer.texts_to_sequences(x_test_df)"
   ]
  },
  {
   "cell_type": "code",
   "execution_count": 75,
   "metadata": {
    "execution": {
     "iopub.execute_input": "2022-07-09T19:35:09.888945Z",
     "iopub.status.busy": "2022-07-09T19:35:09.888586Z",
     "iopub.status.idle": "2022-07-09T19:35:09.905476Z",
     "shell.execute_reply": "2022-07-09T19:35:09.904256Z",
     "shell.execute_reply.started": "2022-07-09T19:35:09.888914Z"
    },
    "id": "m4xsXPBDV4WB",
    "outputId": "a2188c89-468d-490c-a628-1277aabeec62"
   },
   "outputs": [
    {
     "data": {
      "text/plain": [
       "1250"
      ]
     },
     "execution_count": 75,
     "metadata": {},
     "output_type": "execute_result"
    }
   ],
   "source": [
    "max_length = len(max(x_train, key=len))\n",
    "max_length"
   ]
  },
  {
   "cell_type": "code",
   "execution_count": 78,
   "metadata": {
    "execution": {
     "iopub.execute_input": "2022-07-09T19:35:09.908640Z",
     "iopub.status.busy": "2022-07-09T19:35:09.907389Z",
     "iopub.status.idle": "2022-07-09T19:35:12.120119Z",
     "shell.execute_reply": "2022-07-09T19:35:12.118929Z",
     "shell.execute_reply.started": "2022-07-09T19:35:09.908591Z"
    },
    "id": "tcCByxsyV4WC"
   },
   "outputs": [],
   "source": [
    "max_length = 200\n",
    "x_train = pad_sequences(x_train, maxlen=max_length, padding='post', truncating='post')\n",
    "x_val = pad_sequences(x_val, maxlen=max_length, padding='post', truncating='post')\n",
    "x_test = pad_sequences(x_test, maxlen=max_length, padding='post', truncating='post')"
   ]
  },
  {
   "cell_type": "markdown",
   "metadata": {
    "id": "NxJquI2KV4WD"
   },
   "source": [
    "#### **4.2.1 Simple RNN Model**"
   ]
  },
  {
   "cell_type": "code",
   "execution_count": 79,
   "metadata": {
    "execution": {
     "iopub.execute_input": "2022-07-09T19:35:12.121700Z",
     "iopub.status.busy": "2022-07-09T19:35:12.121377Z",
     "iopub.status.idle": "2022-07-09T19:35:12.251503Z",
     "shell.execute_reply": "2022-07-09T19:35:12.250313Z",
     "shell.execute_reply.started": "2022-07-09T19:35:12.121670Z"
    },
    "id": "PRzIUTlaV4WE",
    "outputId": "d2534e1c-fd8d-4bf9-e263-e3a4e5270bef"
   },
   "outputs": [
    {
     "name": "stdout",
     "output_type": "stream",
     "text": [
      "Model: \"sequential_1\"\n",
      "_________________________________________________________________\n",
      " Layer (type)                Output Shape              Param #   \n",
      "=================================================================\n",
      " embedding (Embedding)       (None, 200, 8)            2100520   \n",
      "                                                                 \n",
      " simple_rnn (SimpleRNN)      (None, 8)                 136       \n",
      "                                                                 \n",
      " dense_3 (Dense)             (None, 16)                144       \n",
      "                                                                 \n",
      " dense_4 (Dense)             (None, 6)                 102       \n",
      "                                                                 \n",
      "=================================================================\n",
      "Total params: 2,100,902\n",
      "Trainable params: 2,100,902\n",
      "Non-trainable params: 0\n",
      "_________________________________________________________________\n"
     ]
    }
   ],
   "source": [
    "rnn_model = models.Sequential()\n",
    "rnn_model.add(layers.Embedding(vocab_size, 8, input_length=max_length))\n",
    "rnn_model.add(layers.SimpleRNN(8))\n",
    "rnn_model.add(layers.Dense(16, activation='relu'))\n",
    "rnn_model.add(layers.Dense(6, activation='sigmoid'))\n",
    "rnn_model.summary()"
   ]
  },
  {
   "cell_type": "code",
   "execution_count": 80,
   "metadata": {
    "execution": {
     "iopub.execute_input": "2022-07-09T19:35:12.253280Z",
     "iopub.status.busy": "2022-07-09T19:35:12.252932Z",
     "iopub.status.idle": "2022-07-09T19:35:12.843194Z",
     "shell.execute_reply": "2022-07-09T19:35:12.841860Z",
     "shell.execute_reply.started": "2022-07-09T19:35:12.253249Z"
    },
    "id": "o1OA4D4LV4WF",
    "outputId": "5bb270f3-0abb-4901-c3f7-dddd3dd027a6"
   },
   "outputs": [
    {
     "name": "stdout",
     "output_type": "stream",
     "text": [
      "You must install pydot (`pip install pydot`) and install graphviz (see instructions at https://graphviz.gitlab.io/download/) for plot_model/model_to_dot to work.\n"
     ]
    }
   ],
   "source": [
    "plot_model(rnn_model, to_file='rnn_model.png', show_shapes=True)"
   ]
  },
  {
   "cell_type": "code",
   "execution_count": 81,
   "metadata": {
    "execution": {
     "iopub.execute_input": "2022-07-09T19:35:12.845737Z",
     "iopub.status.busy": "2022-07-09T19:35:12.845371Z",
     "iopub.status.idle": "2022-07-09T19:35:12.860564Z",
     "shell.execute_reply": "2022-07-09T19:35:12.859342Z",
     "shell.execute_reply.started": "2022-07-09T19:35:12.845701Z"
    },
    "id": "sYWa5mvOV4WG"
   },
   "outputs": [],
   "source": [
    "rnn_model.compile(optimizer=optimizers.Adam(),\n",
    "              loss=losses.binary_crossentropy,\n",
    "              metrics=[metrics.binary_accuracy])"
   ]
  },
  {
   "cell_type": "code",
   "execution_count": 82,
   "metadata": {
    "execution": {
     "iopub.execute_input": "2022-07-09T19:35:12.862750Z",
     "iopub.status.busy": "2022-07-09T19:35:12.862246Z",
     "iopub.status.idle": "2022-07-09T19:39:00.905212Z",
     "shell.execute_reply": "2022-07-09T19:39:00.904190Z",
     "shell.execute_reply.started": "2022-07-09T19:35:12.862720Z"
    },
    "id": "QjrYqyOMV4WH",
    "outputId": "d6336ac5-6ff1-4f21-c7a0-7e9dbff6e802"
   },
   "outputs": [
    {
     "name": "stdout",
     "output_type": "stream",
     "text": [
      "Epoch 1/10\n",
      "250/250 [==============================] - 30s 112ms/step - loss: 0.3207 - binary_accuracy: 0.9066 - val_loss: 0.1523 - val_binary_accuracy: 0.9633\n",
      "Epoch 2/10\n",
      "250/250 [==============================] - 40s 160ms/step - loss: 0.1375 - binary_accuracy: 0.9649 - val_loss: 0.1320 - val_binary_accuracy: 0.9657\n",
      "Epoch 3/10\n",
      "250/250 [==============================] - 32s 128ms/step - loss: 0.1275 - binary_accuracy: 0.9671 - val_loss: 0.1272 - val_binary_accuracy: 0.9670\n",
      "Epoch 4/10\n",
      "250/250 [==============================] - 34s 134ms/step - loss: 0.1240 - binary_accuracy: 0.9677 - val_loss: 0.1246 - val_binary_accuracy: 0.9673\n",
      "Epoch 5/10\n",
      "250/250 [==============================] - 34s 135ms/step - loss: 0.1223 - binary_accuracy: 0.9678 - val_loss: 0.1237 - val_binary_accuracy: 0.9673\n",
      "Epoch 6/10\n",
      "250/250 [==============================] - 31s 124ms/step - loss: 0.1209 - binary_accuracy: 0.9679 - val_loss: 0.1231 - val_binary_accuracy: 0.9669\n",
      "Epoch 7/10\n",
      "250/250 [==============================] - 30s 120ms/step - loss: 0.1192 - binary_accuracy: 0.9657 - val_loss: 0.1198 - val_binary_accuracy: 0.9638\n",
      "Epoch 8/10\n",
      "250/250 [==============================] - 27s 109ms/step - loss: 0.1175 - binary_accuracy: 0.9645 - val_loss: 0.1192 - val_binary_accuracy: 0.9641\n",
      "Epoch 9/10\n",
      "250/250 [==============================] - 28s 113ms/step - loss: 0.1164 - binary_accuracy: 0.9647 - val_loss: 0.1185 - val_binary_accuracy: 0.9642\n",
      "Epoch 10/10\n",
      "250/250 [==============================] - 29s 114ms/step - loss: 0.1155 - binary_accuracy: 0.9649 - val_loss: 0.1179 - val_binary_accuracy: 0.9640\n"
     ]
    }
   ],
   "source": [
    "history = rnn_model.fit(x_train,\n",
    "                    y_train,\n",
    "                    epochs=10,\n",
    "                    batch_size=512,\n",
    "                    validation_data=(x_val, y_val))"
   ]
  },
  {
   "cell_type": "code",
   "execution_count": 83,
   "metadata": {
    "execution": {
     "iopub.execute_input": "2022-07-09T19:39:00.909376Z",
     "iopub.status.busy": "2022-07-09T19:39:00.908818Z",
     "iopub.status.idle": "2022-07-09T19:39:01.140461Z",
     "shell.execute_reply": "2022-07-09T19:39:01.139120Z",
     "shell.execute_reply.started": "2022-07-09T19:39:00.909325Z"
    },
    "id": "Q4nrPfAPV4WI"
   },
   "outputs": [
    {
     "data": {
      "image/png": "[encoded data removed]",
      "text/plain": [
       "<Figure size 432x288 with 1 Axes>"
      ]
     },
     "metadata": {
      "needs_background": "light"
     },
     "output_type": "display_data"
    }
   ],
   "source": [
    "loss = history.history['loss']\n",
    "val_loss = history.history['val_loss']\n",
    "\n",
    "epochs = range(1, len(loss) + 1)\n",
    "\n",
    "plt.plot(epochs, loss, 'bo', label='Training loss')\n",
    "plt.plot(epochs, val_loss, 'b', label='Validation loss')\n",
    "plt.title('Training and validation loss')\n",
    "plt.xlabel('Epochs')\n",
    "plt.ylabel('Loss')\n",
    "plt.legend()\n",
    "\n",
    "plt.show()"
   ]
  },
  {
   "cell_type": "code",
   "execution_count": 84,
   "metadata": {
    "execution": {
     "iopub.execute_input": "2022-07-09T19:39:01.142602Z",
     "iopub.status.busy": "2022-07-09T19:39:01.142214Z",
     "iopub.status.idle": "2022-07-09T19:39:01.364501Z",
     "shell.execute_reply": "2022-07-09T19:39:01.363349Z",
     "shell.execute_reply.started": "2022-07-09T19:39:01.142571Z"
    },
    "id": "AYlOQDc7V4WI"
   },
   "outputs": [
    {
     "data": {
      "image/png": "[encoded data removed]",
      "text/plain": [
       "<Figure size 432x288 with 1 Axes>"
      ]
     },
     "metadata": {
      "needs_background": "light"
     },
     "output_type": "display_data"
    }
   ],
   "source": [
    "plt.clf()\n",
    "\n",
    "acc = history.history['binary_accuracy']\n",
    "val_acc = history.history['val_binary_accuracy']\n",
    "\n",
    "plt.plot(epochs, acc, 'bo', label='Training acc')\n",
    "plt.plot(epochs, val_acc, 'b', label='Validation acc')\n",
    "plt.title('Training and validation accuracy')\n",
    "plt.xlabel('Epochs')\n",
    "plt.ylabel('Accuracy')\n",
    "plt.legend()\n",
    "\n",
    "plt.show()"
   ]
  },
  {
   "cell_type": "markdown",
   "metadata": {
    "id": "dyx0Zgbl4lLg"
   },
   "source": [
    "#### **4.2.2 LSTM Model**"
   ]
  },
  {
   "cell_type": "code",
   "execution_count": 85,
   "metadata": {
    "execution": {
     "iopub.execute_input": "2022-07-09T19:39:01.366229Z",
     "iopub.status.busy": "2022-07-09T19:39:01.365897Z",
     "iopub.status.idle": "2022-07-09T19:39:03.306023Z",
     "shell.execute_reply": "2022-07-09T19:39:03.304872Z",
     "shell.execute_reply.started": "2022-07-09T19:39:01.366199Z"
    },
    "id": "KXb7Xx3Bjsni",
    "outputId": "5ea4a9e6-99de-45fd-e5a7-968a740c14c6"
   },
   "outputs": [
    {
     "name": "stdout",
     "output_type": "stream",
     "text": [
      "Model: \"sequential_2\"\n",
      "_________________________________________________________________\n",
      " Layer (type)                Output Shape              Param #   \n",
      "=================================================================\n",
      " embedding_1 (Embedding)     (None, 200, 128)          33608320  \n",
      "                                                                 \n",
      " lstm (LSTM)                 (None, 200, 100)          91600     \n",
      "                                                                 \n",
      " lstm_1 (LSTM)               (None, 50)                30200     \n",
      "                                                                 \n",
      " dense_5 (Dense)             (None, 6)                 306       \n",
      "                                                                 \n",
      "=================================================================\n",
      "Total params: 33,730,426\n",
      "Trainable params: 33,730,426\n",
      "Non-trainable params: 0\n",
      "_________________________________________________________________\n"
     ]
    }
   ],
   "source": [
    "from tensorflow.keras.layers import Embedding\n",
    "from tensorflow.keras.layers import LSTM\n",
    "\n",
    "lstm_model = models.Sequential()\n",
    "lstm_model.add(Embedding(vocab_size, 128, input_length=max_length, mask_zero=True))\n",
    "lstm_model.add(LSTM(100, return_sequences=True))\n",
    "lstm_model.add(LSTM(50))\n",
    "\n",
    "# lstm_model.add(layers.Dense(16, activation='relu'))\n",
    "# lstm_model.add(layers.Dense(32, activation='relu'))\n",
    "\n",
    "\n",
    "lstm_model.add(layers.Dense(6, activation='sigmoid'))\n",
    "lstm_model.summary()"
   ]
  },
  {
   "cell_type": "code",
   "execution_count": 86,
   "metadata": {
    "execution": {
     "iopub.execute_input": "2022-07-09T19:39:03.308055Z",
     "iopub.status.busy": "2022-07-09T19:39:03.307759Z",
     "iopub.status.idle": "2022-07-09T19:39:03.532461Z",
     "shell.execute_reply": "2022-07-09T19:39:03.530924Z",
     "shell.execute_reply.started": "2022-07-09T19:39:03.308027Z"
    },
    "id": "T8e1qN6ipOxa",
    "outputId": "75cb810d-886d-4821-ca17-c719563b7b37"
   },
   "outputs": [
    {
     "name": "stdout",
     "output_type": "stream",
     "text": [
      "You must install pydot (`pip install pydot`) and install graphviz (see instructions at https://graphviz.gitlab.io/download/) for plot_model/model_to_dot to work.\n"
     ]
    }
   ],
   "source": [
    "plot_model(lstm_model, to_file='LSTM_model.png', show_shapes=True)"
   ]
  },
  {
   "cell_type": "code",
   "execution_count": 87,
   "metadata": {
    "execution": {
     "iopub.execute_input": "2022-07-09T19:39:03.535048Z",
     "iopub.status.busy": "2022-07-09T19:39:03.534586Z",
     "iopub.status.idle": "2022-07-09T19:39:03.549498Z",
     "shell.execute_reply": "2022-07-09T19:39:03.548354Z",
     "shell.execute_reply.started": "2022-07-09T19:39:03.534996Z"
    },
    "id": "DFZUryTupTes"
   },
   "outputs": [],
   "source": [
    "lstm_model.compile(optimizer=optimizers.Adam(),\n",
    "              loss=losses.binary_crossentropy,\n",
    "              metrics=[metrics.binary_accuracy])"
   ]
  },
  {
   "cell_type": "code",
   "execution_count": 88,
   "metadata": {
    "execution": {
     "iopub.execute_input": "2022-07-09T19:39:03.551768Z",
     "iopub.status.busy": "2022-07-09T19:39:03.550975Z",
     "iopub.status.idle": "2022-07-09T21:27:53.000858Z",
     "shell.execute_reply": "2022-07-09T21:27:52.999710Z",
     "shell.execute_reply.started": "2022-07-09T19:39:03.551733Z"
    },
    "id": "uyht4tGWpVYq",
    "outputId": "49cddecb-ce0b-4b86-b326-7d7227ac40fc"
   },
   "outputs": [
    {
     "name": "stdout",
     "output_type": "stream",
     "text": [
      "Epoch 1/10\n",
      " 10/250 [>.............................] - ETA: 21:53 - loss: 0.6465 - binary_accuracy: 0.9123"
     ]
    },
    {
     "ename": "KeyboardInterrupt",
     "evalue": "",
     "output_type": "error",
     "traceback": [
      "\u001b[1;31m---------------------------------------------------------------------------\u001b[0m",
      "\u001b[1;31mKeyboardInterrupt\u001b[0m                         Traceback (most recent call last)",
      "\u001b[1;32m~\\AppData\\Local\\Temp/ipykernel_5300/3178330079.py\u001b[0m in \u001b[0;36m<module>\u001b[1;34m\u001b[0m\n\u001b[1;32m----> 1\u001b[1;33m history = lstm_model.fit(x_train,\n\u001b[0m\u001b[0;32m      2\u001b[0m                     \u001b[0my_train\u001b[0m\u001b[1;33m,\u001b[0m\u001b[1;33m\u001b[0m\u001b[1;33m\u001b[0m\u001b[0m\n\u001b[0;32m      3\u001b[0m                     \u001b[0mepochs\u001b[0m\u001b[1;33m=\u001b[0m\u001b[1;36m10\u001b[0m\u001b[1;33m,\u001b[0m\u001b[1;33m\u001b[0m\u001b[1;33m\u001b[0m\u001b[0m\n\u001b[0;32m      4\u001b[0m                     \u001b[0mbatch_size\u001b[0m\u001b[1;33m=\u001b[0m\u001b[1;36m512\u001b[0m\u001b[1;33m,\u001b[0m\u001b[1;33m\u001b[0m\u001b[1;33m\u001b[0m\u001b[0m\n\u001b[0;32m      5\u001b[0m                     validation_data=(x_val, y_val))\n",
      "\u001b[1;32m~\\anaconda3\\lib\\site-packages\\keras\\utils\\traceback_utils.py\u001b[0m in \u001b[0;36merror_handler\u001b[1;34m(*args, **kwargs)\u001b[0m\n\u001b[0;32m     62\u001b[0m     \u001b[0mfiltered_tb\u001b[0m \u001b[1;33m=\u001b[0m \u001b[1;32mNone\u001b[0m\u001b[1;33m\u001b[0m\u001b[1;33m\u001b[0m\u001b[0m\n\u001b[0;32m     63\u001b[0m     \u001b[1;32mtry\u001b[0m\u001b[1;33m:\u001b[0m\u001b[1;33m\u001b[0m\u001b[1;33m\u001b[0m\u001b[0m\n\u001b[1;32m---> 64\u001b[1;33m       \u001b[1;32mreturn\u001b[0m \u001b[0mfn\u001b[0m\u001b[1;33m(\u001b[0m\u001b[1;33m*\u001b[0m\u001b[0margs\u001b[0m\u001b[1;33m,\u001b[0m \u001b[1;33m**\u001b[0m\u001b[0mkwargs\u001b[0m\u001b[1;33m)\u001b[0m\u001b[1;33m\u001b[0m\u001b[1;33m\u001b[0m\u001b[0m\n\u001b[0m\u001b[0;32m     65\u001b[0m     \u001b[1;32mexcept\u001b[0m \u001b[0mException\u001b[0m \u001b[1;32mas\u001b[0m \u001b[0me\u001b[0m\u001b[1;33m:\u001b[0m  \u001b[1;31m# pylint: disable=broad-except\u001b[0m\u001b[1;33m\u001b[0m\u001b[1;33m\u001b[0m\u001b[0m\n\u001b[0;32m     66\u001b[0m       \u001b[0mfiltered_tb\u001b[0m \u001b[1;33m=\u001b[0m \u001b[0m_process_traceback_frames\u001b[0m\u001b[1;33m(\u001b[0m\u001b[0me\u001b[0m\u001b[1;33m.\u001b[0m\u001b[0m__traceback__\u001b[0m\u001b[1;33m)\u001b[0m\u001b[1;33m\u001b[0m\u001b[1;33m\u001b[0m\u001b[0m\n",
      "\u001b[1;32m~\\anaconda3\\lib\\site-packages\\keras\\engine\\training.py\u001b[0m in \u001b[0;36mfit\u001b[1;34m(self, x, y, batch_size, epochs, verbose, callbacks, validation_split, validation_data, shuffle, class_weight, sample_weight, initial_epoch, steps_per_epoch, validation_steps, validation_batch_size, validation_freq, max_queue_size, workers, use_multiprocessing)\u001b[0m\n\u001b[0;32m   1407\u001b[0m                 _r=1):\n\u001b[0;32m   1408\u001b[0m               \u001b[0mcallbacks\u001b[0m\u001b[1;33m.\u001b[0m\u001b[0mon_train_batch_begin\u001b[0m\u001b[1;33m(\u001b[0m\u001b[0mstep\u001b[0m\u001b[1;33m)\u001b[0m\u001b[1;33m\u001b[0m\u001b[1;33m\u001b[0m\u001b[0m\n\u001b[1;32m-> 1409\u001b[1;33m               \u001b[0mtmp_logs\u001b[0m \u001b[1;33m=\u001b[0m \u001b[0mself\u001b[0m\u001b[1;33m.\u001b[0m\u001b[0mtrain_function\u001b[0m\u001b[1;33m(\u001b[0m\u001b[0miterator\u001b[0m\u001b[1;33m)\u001b[0m\u001b[1;33m\u001b[0m\u001b[1;33m\u001b[0m\u001b[0m\n\u001b[0m\u001b[0;32m   1410\u001b[0m               \u001b[1;32mif\u001b[0m \u001b[0mdata_handler\u001b[0m\u001b[1;33m.\u001b[0m\u001b[0mshould_sync\u001b[0m\u001b[1;33m:\u001b[0m\u001b[1;33m\u001b[0m\u001b[1;33m\u001b[0m\u001b[0m\n\u001b[0;32m   1411\u001b[0m                 \u001b[0mcontext\u001b[0m\u001b[1;33m.\u001b[0m\u001b[0masync_wait\u001b[0m\u001b[1;33m(\u001b[0m\u001b[1;33m)\u001b[0m\u001b[1;33m\u001b[0m\u001b[1;33m\u001b[0m\u001b[0m\n",
      "\u001b[1;32m~\\anaconda3\\lib\\site-packages\\tensorflow\\python\\util\\traceback_utils.py\u001b[0m in \u001b[0;36merror_handler\u001b[1;34m(*args, **kwargs)\u001b[0m\n\u001b[0;32m    148\u001b[0m     \u001b[0mfiltered_tb\u001b[0m \u001b[1;33m=\u001b[0m \u001b[1;32mNone\u001b[0m\u001b[1;33m\u001b[0m\u001b[1;33m\u001b[0m\u001b[0m\n\u001b[0;32m    149\u001b[0m     \u001b[1;32mtry\u001b[0m\u001b[1;33m:\u001b[0m\u001b[1;33m\u001b[0m\u001b[1;33m\u001b[0m\u001b[0m\n\u001b[1;32m--> 150\u001b[1;33m       \u001b[1;32mreturn\u001b[0m \u001b[0mfn\u001b[0m\u001b[1;33m(\u001b[0m\u001b[1;33m*\u001b[0m\u001b[0margs\u001b[0m\u001b[1;33m,\u001b[0m \u001b[1;33m**\u001b[0m\u001b[0mkwargs\u001b[0m\u001b[1;33m)\u001b[0m\u001b[1;33m\u001b[0m\u001b[1;33m\u001b[0m\u001b[0m\n\u001b[0m\u001b[0;32m    151\u001b[0m     \u001b[1;32mexcept\u001b[0m \u001b[0mException\u001b[0m \u001b[1;32mas\u001b[0m \u001b[0me\u001b[0m\u001b[1;33m:\u001b[0m\u001b[1;33m\u001b[0m\u001b[1;33m\u001b[0m\u001b[0m\n\u001b[0;32m    152\u001b[0m       \u001b[0mfiltered_tb\u001b[0m \u001b[1;33m=\u001b[0m \u001b[0m_process_traceback_frames\u001b[0m\u001b[1;33m(\u001b[0m\u001b[0me\u001b[0m\u001b[1;33m.\u001b[0m\u001b[0m__traceback__\u001b[0m\u001b[1;33m)\u001b[0m\u001b[1;33m\u001b[0m\u001b[1;33m\u001b[0m\u001b[0m\n",
      "\u001b[1;32m~\\anaconda3\\lib\\site-packages\\tensorflow\\python\\eager\\def_function.py\u001b[0m in \u001b[0;36m__call__\u001b[1;34m(self, *args, **kwds)\u001b[0m\n\u001b[0;32m    913\u001b[0m \u001b[1;33m\u001b[0m\u001b[0m\n\u001b[0;32m    914\u001b[0m       \u001b[1;32mwith\u001b[0m \u001b[0mOptionalXlaContext\u001b[0m\u001b[1;33m(\u001b[0m\u001b[0mself\u001b[0m\u001b[1;33m.\u001b[0m\u001b[0m_jit_compile\u001b[0m\u001b[1;33m)\u001b[0m\u001b[1;33m:\u001b[0m\u001b[1;33m\u001b[0m\u001b[1;33m\u001b[0m\u001b[0m\n\u001b[1;32m--> 915\u001b[1;33m         \u001b[0mresult\u001b[0m \u001b[1;33m=\u001b[0m \u001b[0mself\u001b[0m\u001b[1;33m.\u001b[0m\u001b[0m_call\u001b[0m\u001b[1;33m(\u001b[0m\u001b[1;33m*\u001b[0m\u001b[0margs\u001b[0m\u001b[1;33m,\u001b[0m \u001b[1;33m**\u001b[0m\u001b[0mkwds\u001b[0m\u001b[1;33m)\u001b[0m\u001b[1;33m\u001b[0m\u001b[1;33m\u001b[0m\u001b[0m\n\u001b[0m\u001b[0;32m    916\u001b[0m \u001b[1;33m\u001b[0m\u001b[0m\n\u001b[0;32m    917\u001b[0m       \u001b[0mnew_tracing_count\u001b[0m \u001b[1;33m=\u001b[0m \u001b[0mself\u001b[0m\u001b[1;33m.\u001b[0m\u001b[0mexperimental_get_tracing_count\u001b[0m\u001b[1;33m(\u001b[0m\u001b[1;33m)\u001b[0m\u001b[1;33m\u001b[0m\u001b[1;33m\u001b[0m\u001b[0m\n",
      "\u001b[1;32m~\\anaconda3\\lib\\site-packages\\tensorflow\\python\\eager\\def_function.py\u001b[0m in \u001b[0;36m_call\u001b[1;34m(self, *args, **kwds)\u001b[0m\n\u001b[0;32m    945\u001b[0m       \u001b[1;31m# In this case we have created variables on the first call, so we run the\u001b[0m\u001b[1;33m\u001b[0m\u001b[1;33m\u001b[0m\u001b[0m\n\u001b[0;32m    946\u001b[0m       \u001b[1;31m# defunned version which is guaranteed to never create variables.\u001b[0m\u001b[1;33m\u001b[0m\u001b[1;33m\u001b[0m\u001b[0m\n\u001b[1;32m--> 947\u001b[1;33m       \u001b[1;32mreturn\u001b[0m \u001b[0mself\u001b[0m\u001b[1;33m.\u001b[0m\u001b[0m_stateless_fn\u001b[0m\u001b[1;33m(\u001b[0m\u001b[1;33m*\u001b[0m\u001b[0margs\u001b[0m\u001b[1;33m,\u001b[0m \u001b[1;33m**\u001b[0m\u001b[0mkwds\u001b[0m\u001b[1;33m)\u001b[0m  \u001b[1;31m# pylint: disable=not-callable\u001b[0m\u001b[1;33m\u001b[0m\u001b[1;33m\u001b[0m\u001b[0m\n\u001b[0m\u001b[0;32m    948\u001b[0m     \u001b[1;32melif\u001b[0m \u001b[0mself\u001b[0m\u001b[1;33m.\u001b[0m\u001b[0m_stateful_fn\u001b[0m \u001b[1;32mis\u001b[0m \u001b[1;32mnot\u001b[0m \u001b[1;32mNone\u001b[0m\u001b[1;33m:\u001b[0m\u001b[1;33m\u001b[0m\u001b[1;33m\u001b[0m\u001b[0m\n\u001b[0;32m    949\u001b[0m       \u001b[1;31m# Release the lock early so that multiple threads can perform the call\u001b[0m\u001b[1;33m\u001b[0m\u001b[1;33m\u001b[0m\u001b[0m\n",
      "\u001b[1;32m~\\anaconda3\\lib\\site-packages\\tensorflow\\python\\eager\\function.py\u001b[0m in \u001b[0;36m__call__\u001b[1;34m(self, *args, **kwargs)\u001b[0m\n\u001b[0;32m   2451\u001b[0m       (graph_function,\n\u001b[0;32m   2452\u001b[0m        filtered_flat_args) = self._maybe_define_function(args, kwargs)\n\u001b[1;32m-> 2453\u001b[1;33m     return graph_function._call_flat(\n\u001b[0m\u001b[0;32m   2454\u001b[0m         filtered_flat_args, captured_inputs=graph_function.captured_inputs)  # pylint: disable=protected-access\n\u001b[0;32m   2455\u001b[0m \u001b[1;33m\u001b[0m\u001b[0m\n",
      "\u001b[1;32m~\\anaconda3\\lib\\site-packages\\tensorflow\\python\\eager\\function.py\u001b[0m in \u001b[0;36m_call_flat\u001b[1;34m(self, args, captured_inputs, cancellation_manager)\u001b[0m\n\u001b[0;32m   1858\u001b[0m         and executing_eagerly):\n\u001b[0;32m   1859\u001b[0m       \u001b[1;31m# No tape is watching; skip to running the function.\u001b[0m\u001b[1;33m\u001b[0m\u001b[1;33m\u001b[0m\u001b[0m\n\u001b[1;32m-> 1860\u001b[1;33m       return self._build_call_outputs(self._inference_function.call(\n\u001b[0m\u001b[0;32m   1861\u001b[0m           ctx, args, cancellation_manager=cancellation_manager))\n\u001b[0;32m   1862\u001b[0m     forward_backward = self._select_forward_and_backward_functions(\n",
      "\u001b[1;32m~\\anaconda3\\lib\\site-packages\\tensorflow\\python\\eager\\function.py\u001b[0m in \u001b[0;36mcall\u001b[1;34m(self, ctx, args, cancellation_manager)\u001b[0m\n\u001b[0;32m    495\u001b[0m       \u001b[1;32mwith\u001b[0m \u001b[0m_InterpolateFunctionError\u001b[0m\u001b[1;33m(\u001b[0m\u001b[0mself\u001b[0m\u001b[1;33m)\u001b[0m\u001b[1;33m:\u001b[0m\u001b[1;33m\u001b[0m\u001b[1;33m\u001b[0m\u001b[0m\n\u001b[0;32m    496\u001b[0m         \u001b[1;32mif\u001b[0m \u001b[0mcancellation_manager\u001b[0m \u001b[1;32mis\u001b[0m \u001b[1;32mNone\u001b[0m\u001b[1;33m:\u001b[0m\u001b[1;33m\u001b[0m\u001b[1;33m\u001b[0m\u001b[0m\n\u001b[1;32m--> 497\u001b[1;33m           outputs = execute.execute(\n\u001b[0m\u001b[0;32m    498\u001b[0m               \u001b[0mstr\u001b[0m\u001b[1;33m(\u001b[0m\u001b[0mself\u001b[0m\u001b[1;33m.\u001b[0m\u001b[0msignature\u001b[0m\u001b[1;33m.\u001b[0m\u001b[0mname\u001b[0m\u001b[1;33m)\u001b[0m\u001b[1;33m,\u001b[0m\u001b[1;33m\u001b[0m\u001b[1;33m\u001b[0m\u001b[0m\n\u001b[0;32m    499\u001b[0m               \u001b[0mnum_outputs\u001b[0m\u001b[1;33m=\u001b[0m\u001b[0mself\u001b[0m\u001b[1;33m.\u001b[0m\u001b[0m_num_outputs\u001b[0m\u001b[1;33m,\u001b[0m\u001b[1;33m\u001b[0m\u001b[1;33m\u001b[0m\u001b[0m\n",
      "\u001b[1;32m~\\anaconda3\\lib\\site-packages\\tensorflow\\python\\eager\\execute.py\u001b[0m in \u001b[0;36mquick_execute\u001b[1;34m(op_name, num_outputs, inputs, attrs, ctx, name)\u001b[0m\n\u001b[0;32m     52\u001b[0m   \u001b[1;32mtry\u001b[0m\u001b[1;33m:\u001b[0m\u001b[1;33m\u001b[0m\u001b[1;33m\u001b[0m\u001b[0m\n\u001b[0;32m     53\u001b[0m     \u001b[0mctx\u001b[0m\u001b[1;33m.\u001b[0m\u001b[0mensure_initialized\u001b[0m\u001b[1;33m(\u001b[0m\u001b[1;33m)\u001b[0m\u001b[1;33m\u001b[0m\u001b[1;33m\u001b[0m\u001b[0m\n\u001b[1;32m---> 54\u001b[1;33m     tensors = pywrap_tfe.TFE_Py_Execute(ctx._handle, device_name, op_name,\n\u001b[0m\u001b[0;32m     55\u001b[0m                                         inputs, attrs, num_outputs)\n\u001b[0;32m     56\u001b[0m   \u001b[1;32mexcept\u001b[0m \u001b[0mcore\u001b[0m\u001b[1;33m.\u001b[0m\u001b[0m_NotOkStatusException\u001b[0m \u001b[1;32mas\u001b[0m \u001b[0me\u001b[0m\u001b[1;33m:\u001b[0m\u001b[1;33m\u001b[0m\u001b[1;33m\u001b[0m\u001b[0m\n",
      "\u001b[1;31mKeyboardInterrupt\u001b[0m: "
     ]
    }
   ],
   "source": [
    "history = lstm_model.fit(x_train,\n",
    "                    y_train,\n",
    "                    epochs=10,\n",
    "                    batch_size=512,\n",
    "                    validation_data=(x_val, y_val))"
   ]
  },
  {
   "cell_type": "code",
   "execution_count": 110,
   "metadata": {
    "execution": {
     "iopub.execute_input": "2022-07-09T21:27:53.004874Z",
     "iopub.status.busy": "2022-07-09T21:27:53.004501Z",
     "iopub.status.idle": "2022-07-09T21:27:53.229182Z",
     "shell.execute_reply": "2022-07-09T21:27:53.228019Z",
     "shell.execute_reply.started": "2022-07-09T21:27:53.004843Z"
    },
    "id": "KfNQQyVG3P5C",
    "outputId": "2cab2027-acbb-471e-e625-8d820714f42d"
   },
   "outputs": [],
   "source": [
    "loss = history.history['loss']\n",
    "val_loss = history.history['val_loss']\n",
    "\n",
    "epochs = range(1, len(loss) + 1)\n",
    "\n",
    "plt.plot(epochs, loss, 'bo', label='Training loss')\n",
    "plt.plot(epochs, val_loss, 'b', label='Validation loss')\n",
    "plt.title('Training and validation loss')\n",
    "plt.xlabel('Epochs')\n",
    "plt.ylabel('Loss')\n",
    "plt.legend()\n",
    "\n",
    "plt.show()"
   ]
  },
  {
   "cell_type": "code",
   "execution_count": 111,
   "metadata": {
    "execution": {
     "iopub.execute_input": "2022-07-09T21:27:53.233313Z",
     "iopub.status.busy": "2022-07-09T21:27:53.232137Z",
     "iopub.status.idle": "2022-07-09T21:27:53.438078Z",
     "shell.execute_reply": "2022-07-09T21:27:53.437242Z",
     "shell.execute_reply.started": "2022-07-09T21:27:53.233274Z"
    },
    "id": "bwqvKLHB3U9N",
    "outputId": "c92d4232-8ff6-48ea-9b40-a5672116422d"
   },
   "outputs": [],
   "source": [
    "plt.clf()\n",
    "\n",
    "acc = history.history['binary_accuracy']\n",
    "val_acc = history.history['val_binary_accuracy']\n",
    "\n",
    "plt.plot(epochs, acc, 'bo', label='Training acc')\n",
    "plt.plot(epochs, val_acc, 'b', label='Validation acc')\n",
    "plt.title('Training and validation accuracy')\n",
    "plt.xlabel('Epochs')\n",
    "plt.ylabel('Accuracy')\n",
    "plt.legend()\n",
    "\n",
    "plt.show()"
   ]
  },
  {
   "cell_type": "markdown",
   "metadata": {
    "id": "cysIJrR14piA"
   },
   "source": [
    "#### **4.2.3 Bi-LSTM Model**"
   ]
  },
  {
   "cell_type": "code",
   "execution_count": 112,
   "metadata": {
    "execution": {
     "iopub.execute_input": "2022-07-09T21:27:53.439793Z",
     "iopub.status.busy": "2022-07-09T21:27:53.439313Z",
     "iopub.status.idle": "2022-07-09T21:27:55.815513Z",
     "shell.execute_reply": "2022-07-09T21:27:55.814091Z",
     "shell.execute_reply.started": "2022-07-09T21:27:53.439761Z"
    },
    "id": "QGPqziHr3YKx",
    "outputId": "8ed9b845-b77a-4cdb-b385-5dae0c8099b4"
   },
   "outputs": [],
   "source": [
    "Bilstm_model = models.Sequential()\n",
    "Bilstm_model.add(Embedding(vocab_size, 128, input_length=200, mask_zero=True))\n",
    "Bilstm_model.add(Bidirectional(LSTM(100)))\n",
    "Bilstm_model.add(Dropout(0.5))\n",
    "Bilstm_model.add(layers.Dense(6, activation='sigmoid'))\n",
    "Bilstm_model.summary()"
   ]
  },
  {
   "cell_type": "code",
   "execution_count": 113,
   "metadata": {
    "execution": {
     "iopub.execute_input": "2022-07-09T21:27:55.818071Z",
     "iopub.status.busy": "2022-07-09T21:27:55.817598Z",
     "iopub.status.idle": "2022-07-09T21:27:56.089356Z",
     "shell.execute_reply": "2022-07-09T21:27:56.087948Z",
     "shell.execute_reply.started": "2022-07-09T21:27:55.818023Z"
    },
    "id": "3AfCY9n34uHC",
    "outputId": "b3c9262b-ea99-40ce-fa49-9eaf396f2b6e"
   },
   "outputs": [],
   "source": [
    "plot_model(Bilstm_model, to_file='BiLSTM_model.png', show_shapes=True)"
   ]
  },
  {
   "cell_type": "code",
   "execution_count": 114,
   "metadata": {
    "execution": {
     "iopub.execute_input": "2022-07-09T21:27:56.091616Z",
     "iopub.status.busy": "2022-07-09T21:27:56.091226Z",
     "iopub.status.idle": "2022-07-09T21:27:56.106742Z",
     "shell.execute_reply": "2022-07-09T21:27:56.105523Z",
     "shell.execute_reply.started": "2022-07-09T21:27:56.091574Z"
    },
    "id": "Li_1ch5h4wS8"
   },
   "outputs": [],
   "source": [
    "Bilstm_model.compile(optimizer=optimizers.Adam(),\n",
    "              loss=losses.binary_crossentropy,\n",
    "              metrics=[metrics.binary_accuracy])"
   ]
  },
  {
   "cell_type": "code",
   "execution_count": 115,
   "metadata": {
    "execution": {
     "iopub.execute_input": "2022-07-09T21:27:56.109354Z",
     "iopub.status.busy": "2022-07-09T21:27:56.108195Z",
     "iopub.status.idle": "2022-07-09T21:43:09.999726Z",
     "shell.execute_reply": "2022-07-09T21:43:09.997765Z",
     "shell.execute_reply.started": "2022-07-09T21:27:56.109309Z"
    },
    "id": "9aV8knwQ4x9X",
    "outputId": "e5721218-124b-4dd2-8727-71a422be0eee"
   },
   "outputs": [],
   "source": [
    "history = Bilstm_model.fit(x_train,\n",
    "                    y_train,\n",
    "                    epochs=5,\n",
    "                    batch_size=512,\n",
    "                    validation_data=(x_val, y_val))"
   ]
  },
  {
   "cell_type": "code",
   "execution_count": null,
   "metadata": {
    "execution": {
     "iopub.status.busy": "2022-07-09T21:43:10.000947Z",
     "iopub.status.idle": "2022-07-09T21:43:10.001652Z",
     "shell.execute_reply": "2022-07-09T21:43:10.001443Z",
     "shell.execute_reply.started": "2022-07-09T21:43:10.001420Z"
    },
    "id": "OjWXqEW94zkY",
    "outputId": "2fb41a60-0c9c-4301-fe58-c3880a8fb9d2"
   },
   "outputs": [],
   "source": [
    "loss = history.history['loss']\n",
    "val_loss = history.history['val_loss']\n",
    "\n",
    "epochs = range(1, len(loss) + 1)\n",
    "\n",
    "plt.plot(epochs, loss, 'bo', label='Training loss')\n",
    "plt.plot(epochs, val_loss, 'b', label='Validation loss')\n",
    "plt.title('Training and validation loss')\n",
    "plt.xlabel('Epochs')\n",
    "plt.ylabel('Loss')\n",
    "plt.legend()\n",
    "\n",
    "plt.show()"
   ]
  },
  {
   "cell_type": "code",
   "execution_count": null,
   "metadata": {
    "execution": {
     "iopub.status.busy": "2022-07-09T21:43:10.003566Z",
     "iopub.status.idle": "2022-07-09T21:43:10.003982Z",
     "shell.execute_reply": "2022-07-09T21:43:10.003802Z",
     "shell.execute_reply.started": "2022-07-09T21:43:10.003782Z"
    },
    "id": "D0sAYp-d62Za",
    "outputId": "cd321d16-f679-4a0f-fad7-a1bcd4a6bb7f"
   },
   "outputs": [],
   "source": [
    "plt.clf()\n",
    "\n",
    "acc = history.history['binary_accuracy']\n",
    "val_acc = history.history['val_binary_accuracy']\n",
    "\n",
    "plt.plot(epochs, acc, 'bo', label='Training acc')\n",
    "plt.plot(epochs, val_acc, 'b', label='Validation acc')\n",
    "plt.title('Training and validation accuracy')\n",
    "plt.xlabel('Epochs')\n",
    "plt.ylabel('Accuracy')\n",
    "plt.legend()\n",
    "\n",
    "plt.show()"
   ]
  },
  {
   "cell_type": "markdown",
   "metadata": {
    "id": "mKxsb1Hh_0jC"
   },
   "source": [
    "#### **4.2.4 GRU Model**"
   ]
  },
  {
   "cell_type": "code",
   "execution_count": 116,
   "metadata": {
    "execution": {
     "iopub.execute_input": "2022-07-09T21:43:24.052851Z",
     "iopub.status.busy": "2022-07-09T21:43:24.052438Z",
     "iopub.status.idle": "2022-07-09T21:43:24.403260Z",
     "shell.execute_reply": "2022-07-09T21:43:24.401989Z",
     "shell.execute_reply.started": "2022-07-09T21:43:24.052815Z"
    },
    "id": "BqxIKOV1645l",
    "outputId": "4e7e81bb-20a5-4101-b2a1-7bd15050c8b5"
   },
   "outputs": [],
   "source": [
    "GRUmodel = models.Sequential()\n",
    "GRUmodel.add(Embedding(vocab_size, 128, input_length=max_length))\n",
    "GRUmodel.add(GRU(64))\n",
    "GRUmodel.add(Dropout(0.5))\n",
    "GRUmodel.add(layers.Dense(6, activation='sigmoid'))\n",
    "GRUmodel.summary()"
   ]
  },
  {
   "cell_type": "code",
   "execution_count": 117,
   "metadata": {
    "execution": {
     "iopub.execute_input": "2022-07-09T21:43:28.022637Z",
     "iopub.status.busy": "2022-07-09T21:43:28.022229Z",
     "iopub.status.idle": "2022-07-09T21:43:28.034281Z",
     "shell.execute_reply": "2022-07-09T21:43:28.032848Z",
     "shell.execute_reply.started": "2022-07-09T21:43:28.022602Z"
    },
    "id": "rEU2xA3r_9Lm"
   },
   "outputs": [],
   "source": [
    "# try using different optimizers and different optimizer configs\n",
    "GRUmodel.compile(loss='binary_crossentropy',\n",
    "              optimizer='adam',\n",
    "              metrics=['accuracy'])"
   ]
  },
  {
   "cell_type": "code",
   "execution_count": 118,
   "metadata": {
    "execution": {
     "iopub.execute_input": "2022-07-09T21:43:29.726516Z",
     "iopub.status.busy": "2022-07-09T21:43:29.726151Z",
     "iopub.status.idle": "2022-07-09T21:44:14.399053Z",
     "shell.execute_reply": "2022-07-09T21:44:14.397180Z",
     "shell.execute_reply.started": "2022-07-09T21:43:29.726487Z"
    },
    "id": "Di_wi0cq_9Vj",
    "outputId": "d897523c-080d-4752-dfa9-3d632e296af6"
   },
   "outputs": [],
   "source": [
    "history = GRUmodel.fit(x_train,\n",
    "                    y_train,\n",
    "                    epochs=10,\n",
    "                    batch_size=512,\n",
    "                    validation_data=(x_val, y_val))"
   ]
  },
  {
   "cell_type": "code",
   "execution_count": null,
   "metadata": {
    "execution": {
     "iopub.status.busy": "2022-07-09T21:43:10.013499Z",
     "iopub.status.idle": "2022-07-09T21:43:10.013997Z",
     "shell.execute_reply": "2022-07-09T21:43:10.013728Z",
     "shell.execute_reply.started": "2022-07-09T21:43:10.013709Z"
    },
    "id": "N0ruYZMIAAeF",
    "outputId": "a32c1e47-e936-41cc-99e3-2603c8ad6d0c"
   },
   "outputs": [],
   "source": [
    "loss = history.history['loss']\n",
    "val_loss = history.history['val_loss']\n",
    "\n",
    "epochs = range(1, len(loss) + 1)\n",
    "\n",
    "plt.plot(epochs, loss, 'bo', label='Training loss')\n",
    "plt.plot(epochs, val_loss, 'b', label='Validation loss')\n",
    "plt.title('Training and validation loss')\n",
    "plt.xlabel('Epochs')\n",
    "plt.ylabel('Loss')\n",
    "plt.legend()\n",
    "\n",
    "plt.show()"
   ]
  },
  {
   "cell_type": "code",
   "execution_count": null,
   "metadata": {
    "execution": {
     "iopub.status.busy": "2022-07-09T21:43:10.015503Z",
     "iopub.status.idle": "2022-07-09T21:43:10.015885Z",
     "shell.execute_reply": "2022-07-09T21:43:10.015718Z",
     "shell.execute_reply.started": "2022-07-09T21:43:10.015700Z"
    },
    "id": "P_WRZJW4AwRE",
    "outputId": "537345b9-2b08-48e7-fece-b74fca4afa45"
   },
   "outputs": [],
   "source": [
    "plt.clf()\n",
    "\n",
    "acc = history.history['accuracy']\n",
    "val_acc = history.history['val_accuracy']\n",
    "\n",
    "plt.plot(epochs, acc, 'bo', label='Training acc')\n",
    "plt.plot(epochs, val_acc, 'b', label='Validation acc')\n",
    "plt.title('Training and validation accuracy')\n",
    "plt.xlabel('Epochs')\n",
    "plt.ylabel('Accuracy')\n",
    "plt.legend()\n",
    "\n",
    "plt.show()"
   ]
  },
  {
   "cell_type": "code",
   "execution_count": null,
   "metadata": {
    "execution": {
     "iopub.status.busy": "2022-07-09T21:43:10.018295Z",
     "iopub.status.idle": "2022-07-09T21:43:10.018781Z",
     "shell.execute_reply": "2022-07-09T21:43:10.018535Z",
     "shell.execute_reply.started": "2022-07-09T21:43:10.018516Z"
    },
    "id": "T55oGHZyEa8x"
   },
   "outputs": [],
   "source": [
    "preds = pd.DataFrame(GRUmodel.predict(x_test), index=test.index, columns=target_cols)"
   ]
  },
  {
   "cell_type": "code",
   "execution_count": null,
   "metadata": {
    "execution": {
     "iopub.status.busy": "2022-07-09T21:43:10.020766Z",
     "iopub.status.idle": "2022-07-09T21:43:10.021238Z",
     "shell.execute_reply": "2022-07-09T21:43:10.021030Z",
     "shell.execute_reply.started": "2022-07-09T21:43:10.021011Z"
    },
    "id": "0fAbzN4BEuo1"
   },
   "outputs": [],
   "source": [
    "preds.to_csv('GRU_submission.csv')"
   ]
  },
  {
   "cell_type": "code",
   "execution_count": null,
   "metadata": {
    "execution": {
     "iopub.status.busy": "2022-07-09T21:43:10.023440Z",
     "iopub.status.idle": "2022-07-09T21:43:10.023846Z",
     "shell.execute_reply": "2022-07-09T21:43:10.023674Z",
     "shell.execute_reply.started": "2022-07-09T21:43:10.023656Z"
    },
    "id": "lJxWk3oJGArl",
    "outputId": "68838f86-2330-49a6-b1ab-e1952144a777"
   },
   "outputs": [],
   "source": [
    "preds"
   ]
  },
  {
   "cell_type": "markdown",
   "metadata": {
    "id": "7jppjihQCJJu"
   },
   "source": [
    "#### **4.2.5 Bi-GRU Model**"
   ]
  },
  {
   "cell_type": "code",
   "execution_count": null,
   "metadata": {
    "execution": {
     "iopub.status.busy": "2022-07-09T21:43:10.025462Z",
     "iopub.status.idle": "2022-07-09T21:43:10.025870Z",
     "shell.execute_reply": "2022-07-09T21:43:10.025677Z",
     "shell.execute_reply.started": "2022-07-09T21:43:10.025659Z"
    },
    "id": "vDNo9ao0CWr3",
    "outputId": "8b53c8b4-3e11-44f0-a6cd-1683e9dd6c8f"
   },
   "outputs": [],
   "source": [
    "BiGRUmodel = models.Sequential()\n",
    "BiGRUmodel.add(Embedding(vocab_size, 128, input_length=max_length))\n",
    "BiGRUmodel.add(Bidirectional(GRU(64)))\n",
    "BiGRUmodel.add(Dropout(0.5))\n",
    "BiGRUmodel.add(layers.Dense(6, activation='sigmoid'))\n",
    "BiGRUmodel.summary()"
   ]
  },
  {
   "cell_type": "code",
   "execution_count": null,
   "metadata": {
    "execution": {
     "iopub.status.busy": "2022-07-09T21:43:10.029310Z",
     "iopub.status.idle": "2022-07-09T21:43:10.029910Z",
     "shell.execute_reply": "2022-07-09T21:43:10.029701Z",
     "shell.execute_reply.started": "2022-07-09T21:43:10.029679Z"
    },
    "id": "BQW-P3svCNjm"
   },
   "outputs": [],
   "source": [
    "# try using different optimizers and different optimizer configs\n",
    "BiGRUmodel.compile(loss='binary_crossentropy',\n",
    "              optimizer='adam',\n",
    "              metrics=['accuracy'])"
   ]
  },
  {
   "cell_type": "code",
   "execution_count": null,
   "metadata": {
    "execution": {
     "iopub.status.busy": "2022-07-09T21:43:10.032389Z",
     "iopub.status.idle": "2022-07-09T21:43:10.032998Z",
     "shell.execute_reply": "2022-07-09T21:43:10.032709Z",
     "shell.execute_reply.started": "2022-07-09T21:43:10.032682Z"
    },
    "id": "TAKyaKIeCom-",
    "outputId": "3925c3a6-9044-4651-a166-c20d442565b2"
   },
   "outputs": [],
   "source": [
    "history = BiGRUmodel.fit(x_train,\n",
    "                    y_train,\n",
    "                    epochs=10,\n",
    "                    batch_size=512,\n",
    "                    validation_data=(x_val, y_val))"
   ]
  },
  {
   "cell_type": "code",
   "execution_count": null,
   "metadata": {
    "execution": {
     "iopub.status.busy": "2022-07-09T21:43:10.035410Z",
     "iopub.status.idle": "2022-07-09T21:43:10.036653Z",
     "shell.execute_reply": "2022-07-09T21:43:10.036134Z",
     "shell.execute_reply.started": "2022-07-09T21:43:10.036081Z"
    },
    "id": "u2frqZRFCvJw",
    "outputId": "9a422483-899b-444a-ade7-00fa95c87cd4"
   },
   "outputs": [],
   "source": [
    "loss = history.history['loss']\n",
    "val_loss = history.history['val_loss']\n",
    "\n",
    "epochs = range(1, len(loss) + 1)\n",
    "\n",
    "plt.plot(epochs, loss, 'bo', label='Training loss')\n",
    "plt.plot(epochs, val_loss, 'b', label='Validation loss')\n",
    "plt.title('Training and validation loss')\n",
    "plt.xlabel('Epochs')\n",
    "plt.ylabel('Loss')\n",
    "plt.legend()\n",
    "\n",
    "plt.show()"
   ]
  },
  {
   "cell_type": "code",
   "execution_count": null,
   "metadata": {
    "execution": {
     "iopub.status.busy": "2022-07-09T21:43:10.038299Z",
     "iopub.status.idle": "2022-07-09T21:43:10.039584Z",
     "shell.execute_reply": "2022-07-09T21:43:10.039294Z",
     "shell.execute_reply.started": "2022-07-09T21:43:10.039265Z"
    },
    "id": "Yx863944C7i9",
    "outputId": "fb883968-e9e1-41f2-eebd-bd76ad7571ac"
   },
   "outputs": [],
   "source": [
    "plt.clf()\n",
    "\n",
    "acc = history.history['accuracy']\n",
    "val_acc = history.history['val_accuracy']\n",
    "\n",
    "plt.plot(epochs, acc, 'bo', label='Training acc')\n",
    "plt.plot(epochs, val_acc, 'b', label='Validation acc')\n",
    "plt.title('Training and validation accuracy')\n",
    "plt.xlabel('Epochs')\n",
    "plt.ylabel('Accuracy')\n",
    "plt.legend()\n",
    "\n",
    "plt.show()"
   ]
  }
 ],
 "metadata": {
  "kernelspec": {
   "display_name": "Python 3 (ipykernel)",
   "language": "python",
   "name": "python3"
  },
  "language_info": {
   "codemirror_mode": {
    "name": "ipython",
    "version": 3
   },
   "file_extension": ".py",
   "mimetype": "text/x-python",
   "name": "python",
   "nbconvert_exporter": "python",
   "pygments_lexer": "ipython3",
   "version": "3.9.7"
  }
 },
 "nbformat": 4,
 "nbformat_minor": 4
}
