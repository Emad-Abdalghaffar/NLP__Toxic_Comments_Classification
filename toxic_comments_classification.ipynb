{
  "cells": [
    {
      "cell_type": "markdown",
      "metadata": {
        "id": "yPbrZNmajnIs"
      },
      "source": [
        "### **Imports**"
      ]
    },
    {
      "cell_type": "code",
      "execution_count": 1,
      "metadata": {
        "execution": {
          "iopub.execute_input": "2022-07-09T19:31:07.146414Z",
          "iopub.status.busy": "2022-07-09T19:31:07.145946Z",
          "iopub.status.idle": "2022-07-09T19:31:07.158560Z",
          "shell.execute_reply": "2022-07-09T19:31:07.157440Z",
          "shell.execute_reply.started": "2022-07-09T19:31:07.146382Z"
        },
        "id": "bceTLSmsjnIw",
        "outputId": "1d88b001-b448-417a-ae83-4e33e924e62c",
        "colab": {
          "base_uri": "https://localhost:8080/"
        }
      },
      "outputs": [
        {
          "output_type": "stream",
          "name": "stderr",
          "text": [
            "[nltk_data] Downloading package stopwords to /root/nltk_data...\n",
            "[nltk_data]   Unzipping corpora/stopwords.zip.\n",
            "[nltk_data] Downloading package wordnet to /root/nltk_data...\n"
          ]
        }
      ],
      "source": [
        "import os\n",
        "import numpy as np\n",
        "import pandas as pd\n",
        "import matplotlib.pyplot as plt\n",
        "import seaborn as sns\n",
        "import re\n",
        "import nltk\n",
        "\n",
        "from nltk.corpus import stopwords\n",
        "nltk.download('stopwords')\n",
        "\n",
        "from nltk.stem import WordNetLemmatizer\n",
        "nltk.download('wordnet')\n",
        "\n",
        "from sklearn.model_selection import train_test_split\n",
        "from sklearn.feature_extraction.text import TfidfVectorizer\n",
        "from sklearn.svm import LinearSVC\n",
        "from sklearn.pipeline import make_pipeline\n",
        "\n",
        "from keras import models\n",
        "from keras import layers\n",
        "from tensorflow.keras import losses\n",
        "from tensorflow.keras import metrics\n",
        "from tensorflow.keras import optimizers\n",
        "from keras.preprocessing.text import one_hot\n",
        "from keras_preprocessing.sequence import pad_sequences\n",
        "from keras.preprocessing.text import Tokenizer\n",
        "from keras.utils.vis_utils import plot_model\n",
        "from tensorflow.keras.layers import LSTM, Bidirectional, GRU, Dropout\n",
        "\n",
        "import warnings\n",
        "warnings.filterwarnings('ignore')"
      ]
    },
    {
      "cell_type": "code",
      "execution_count": 3,
      "metadata": {
        "execution": {
          "iopub.execute_input": "2022-07-09T19:31:07.169402Z",
          "iopub.status.busy": "2022-07-09T19:31:07.168954Z",
          "iopub.status.idle": "2022-07-09T19:31:07.174046Z",
          "shell.execute_reply": "2022-07-09T19:31:07.173127Z",
          "shell.execute_reply.started": "2022-07-09T19:31:07.169370Z"
        },
        "id": "5bZtToThjnIx"
      },
      "outputs": [],
      "source": [
        "pd.set_option('display.max_columns', None)\n",
        "pd.set_option('display.max_colwidth', None)"
      ]
    },
    {
      "cell_type": "markdown",
      "metadata": {
        "id": "9zPSny9mjnIy"
      },
      "source": [
        "## **1. Reading Toxic Comments Dataset**"
      ]
    },
    {
      "cell_type": "code",
      "execution_count": 4,
      "metadata": {
        "execution": {
          "iopub.execute_input": "2022-07-09T19:31:07.255218Z",
          "iopub.status.busy": "2022-07-09T19:31:07.254137Z",
          "iopub.status.idle": "2022-07-09T19:31:09.292274Z",
          "shell.execute_reply": "2022-07-09T19:31:09.291155Z",
          "shell.execute_reply.started": "2022-07-09T19:31:07.255175Z"
        },
        "id": "x1B7btAJjnIy"
      },
      "outputs": [],
      "source": [
        "raw_train = pd.read_csv('/content/drive/MyDrive/train.csv', index_col='id')\n",
        "raw_test = pd.read_csv('/content/drive/MyDrive/test.csv', index_col='id')"
      ]
    },
    {
      "cell_type": "code",
      "execution_count": 5,
      "metadata": {
        "execution": {
          "iopub.execute_input": "2022-07-09T19:31:09.294728Z",
          "iopub.status.busy": "2022-07-09T19:31:09.294353Z",
          "iopub.status.idle": "2022-07-09T19:31:09.301673Z",
          "shell.execute_reply": "2022-07-09T19:31:09.300950Z",
          "shell.execute_reply.started": "2022-07-09T19:31:09.294695Z"
        },
        "id": "6h2vI-HOjnIy"
      },
      "outputs": [],
      "source": [
        "raw_train.rename(columns={'comment_text': 'comment'}, inplace=True)\n",
        "raw_test.rename(columns={'comment_text': 'comment'}, inplace=True)"
      ]
    },
    {
      "cell_type": "code",
      "execution_count": 6,
      "metadata": {
        "execution": {
          "iopub.execute_input": "2022-07-09T19:31:09.303625Z",
          "iopub.status.busy": "2022-07-09T19:31:09.302771Z",
          "iopub.status.idle": "2022-07-09T19:31:09.346292Z",
          "shell.execute_reply": "2022-07-09T19:31:09.345114Z",
          "shell.execute_reply.started": "2022-07-09T19:31:09.303592Z"
        },
        "id": "hHGUemF0jnIz",
        "outputId": "a23dc4cf-0a8d-4b4c-9fba-be5ae7595f11",
        "colab": {
          "base_uri": "https://localhost:8080/"
        }
      },
      "outputs": [
        {
          "output_type": "stream",
          "name": "stdout",
          "text": [
            "<class 'pandas.core.frame.DataFrame'>\n",
            "Index: 159571 entries, 0000997932d777bf to fff46fc426af1f9a\n",
            "Data columns (total 7 columns):\n",
            " #   Column         Non-Null Count   Dtype \n",
            "---  ------         --------------   ----- \n",
            " 0   comment        159571 non-null  object\n",
            " 1   toxic          159571 non-null  int64 \n",
            " 2   severe_toxic   159571 non-null  int64 \n",
            " 3   obscene        159571 non-null  int64 \n",
            " 4   threat         159571 non-null  int64 \n",
            " 5   insult         159571 non-null  int64 \n",
            " 6   identity_hate  159571 non-null  int64 \n",
            "dtypes: int64(6), object(1)\n",
            "memory usage: 9.7+ MB\n"
          ]
        }
      ],
      "source": [
        "raw_train.info()"
      ]
    },
    {
      "cell_type": "code",
      "execution_count": 7,
      "metadata": {
        "execution": {
          "iopub.execute_input": "2022-07-09T19:31:09.349152Z",
          "iopub.status.busy": "2022-07-09T19:31:09.348723Z",
          "iopub.status.idle": "2022-07-09T19:31:09.383016Z",
          "shell.execute_reply": "2022-07-09T19:31:09.381988Z",
          "shell.execute_reply.started": "2022-07-09T19:31:09.349119Z"
        },
        "id": "y-ZvBJqPjnIz",
        "outputId": "90ba40de-00b6-4746-954d-9e88e2f9808b",
        "colab": {
          "base_uri": "https://localhost:8080/"
        }
      },
      "outputs": [
        {
          "output_type": "stream",
          "name": "stdout",
          "text": [
            "<class 'pandas.core.frame.DataFrame'>\n",
            "Index: 153164 entries, 00001cee341fdb12 to ffffce3fb183ee80\n",
            "Data columns (total 1 columns):\n",
            " #   Column   Non-Null Count   Dtype \n",
            "---  ------   --------------   ----- \n",
            " 0   comment  153164 non-null  object\n",
            "dtypes: object(1)\n",
            "memory usage: 2.3+ MB\n"
          ]
        }
      ],
      "source": [
        "raw_test.info()"
      ]
    },
    {
      "cell_type": "markdown",
      "metadata": {
        "id": "AxI99-hFjnI0"
      },
      "source": [
        "## **2. EDA**"
      ]
    },
    {
      "cell_type": "markdown",
      "metadata": {
        "id": "XEwhhk0RjnI0"
      },
      "source": [
        "#### **2.1 Show a sample of data**\n",
        "(to find out the required text preprocessing steps)"
      ]
    },
    {
      "cell_type": "code",
      "execution_count": 8,
      "metadata": {
        "execution": {
          "iopub.execute_input": "2022-07-09T19:31:09.385428Z",
          "iopub.status.busy": "2022-07-09T19:31:09.384953Z",
          "iopub.status.idle": "2022-07-09T19:31:09.400516Z",
          "shell.execute_reply": "2022-07-09T19:31:09.399371Z",
          "shell.execute_reply.started": "2022-07-09T19:31:09.385385Z"
        },
        "id": "IufiWn8ijnI0",
        "outputId": "bd5370e9-dfeb-4681-f838-b2b5d796e442",
        "colab": {
          "base_uri": "https://localhost:8080/",
          "height": 386
        }
      },
      "outputs": [
        {
          "output_type": "execute_result",
          "data": {
            "text/plain": [
              "                                                                                                                                                                                                                                                                                                                                                                                                                                                                                                                                                                                                                                                             comment  \\\n",
              "id                                                                                                                                                                                                                                                                                                                                                                                                                                                                                                                                                                                                                                                                     \n",
              "0000997932d777bf                                                                                                                                                                                                                                                                                                                                                                           Explanation\\nWhy the edits made under my username Hardcore Metallica Fan were reverted? They weren't vandalisms, just closure on some GAs after I voted at New York Dolls FAC. And please don't remove the template from the talk page since I'm retired now.89.205.38.27   \n",
              "000103f0d9cfb60f                                                                                                                                                                                                                                                                                                                                                                                                                                                                                                                                    D'aww! He matches this background colour I'm seemingly stuck with. Thanks.  (talk) 21:51, January 11, 2016 (UTC)   \n",
              "000113f07ec002fd                                                                                                                                                                                                                                                                                                                                                                                                           Hey man, I'm really not trying to edit war. It's just that this guy is constantly removing relevant information and talking to me through edits instead of my talk page. He seems to care more about the formatting than the actual info.   \n",
              "0001b41b1c6bb37e  \"\\nMore\\nI can't make any real suggestions on improvement - I wondered if the section statistics should be later on, or a subsection of \"\"types of accidents\"\"  -I think the references may need tidying so that they are all in the exact same format ie date format etc. I can do that later on, if no-one else does first - if you have any preferences for formatting style on references or want to do it yourself please let me know.\\n\\nThere appears to be a backlog on articles for review so I guess there may be a delay until a reviewer turns up. It's listed in the relevant form eg Wikipedia:Good_article_nominations#Transport  \"   \n",
              "0001d958c54c6e35                                                                                                                                                                                                                                                                                                                                                                                                                                                                                                                                                                                 You, sir, are my hero. Any chance you remember what page that's on?   \n",
              "\n",
              "                  toxic  severe_toxic  obscene  threat  insult  identity_hate  \n",
              "id                                                                             \n",
              "0000997932d777bf      0             0        0       0       0              0  \n",
              "000103f0d9cfb60f      0             0        0       0       0              0  \n",
              "000113f07ec002fd      0             0        0       0       0              0  \n",
              "0001b41b1c6bb37e      0             0        0       0       0              0  \n",
              "0001d958c54c6e35      0             0        0       0       0              0  "
            ],
            "text/html": [
              "\n",
              "  <div id=\"df-fe685c24-628a-436a-a618-0e77bc016825\">\n",
              "    <div class=\"colab-df-container\">\n",
              "      <div>\n",
              "<style scoped>\n",
              "    .dataframe tbody tr th:only-of-type {\n",
              "        vertical-align: middle;\n",
              "    }\n",
              "\n",
              "    .dataframe tbody tr th {\n",
              "        vertical-align: top;\n",
              "    }\n",
              "\n",
              "    .dataframe thead th {\n",
              "        text-align: right;\n",
              "    }\n",
              "</style>\n",
              "<table border=\"1\" class=\"dataframe\">\n",
              "  <thead>\n",
              "    <tr style=\"text-align: right;\">\n",
              "      <th></th>\n",
              "      <th>comment</th>\n",
              "      <th>toxic</th>\n",
              "      <th>severe_toxic</th>\n",
              "      <th>obscene</th>\n",
              "      <th>threat</th>\n",
              "      <th>insult</th>\n",
              "      <th>identity_hate</th>\n",
              "    </tr>\n",
              "    <tr>\n",
              "      <th>id</th>\n",
              "      <th></th>\n",
              "      <th></th>\n",
              "      <th></th>\n",
              "      <th></th>\n",
              "      <th></th>\n",
              "      <th></th>\n",
              "      <th></th>\n",
              "    </tr>\n",
              "  </thead>\n",
              "  <tbody>\n",
              "    <tr>\n",
              "      <th>0000997932d777bf</th>\n",
              "      <td>Explanation\\nWhy the edits made under my username Hardcore Metallica Fan were reverted? They weren't vandalisms, just closure on some GAs after I voted at New York Dolls FAC. And please don't remove the template from the talk page since I'm retired now.89.205.38.27</td>\n",
              "      <td>0</td>\n",
              "      <td>0</td>\n",
              "      <td>0</td>\n",
              "      <td>0</td>\n",
              "      <td>0</td>\n",
              "      <td>0</td>\n",
              "    </tr>\n",
              "    <tr>\n",
              "      <th>000103f0d9cfb60f</th>\n",
              "      <td>D'aww! He matches this background colour I'm seemingly stuck with. Thanks.  (talk) 21:51, January 11, 2016 (UTC)</td>\n",
              "      <td>0</td>\n",
              "      <td>0</td>\n",
              "      <td>0</td>\n",
              "      <td>0</td>\n",
              "      <td>0</td>\n",
              "      <td>0</td>\n",
              "    </tr>\n",
              "    <tr>\n",
              "      <th>000113f07ec002fd</th>\n",
              "      <td>Hey man, I'm really not trying to edit war. It's just that this guy is constantly removing relevant information and talking to me through edits instead of my talk page. He seems to care more about the formatting than the actual info.</td>\n",
              "      <td>0</td>\n",
              "      <td>0</td>\n",
              "      <td>0</td>\n",
              "      <td>0</td>\n",
              "      <td>0</td>\n",
              "      <td>0</td>\n",
              "    </tr>\n",
              "    <tr>\n",
              "      <th>0001b41b1c6bb37e</th>\n",
              "      <td>\"\\nMore\\nI can't make any real suggestions on improvement - I wondered if the section statistics should be later on, or a subsection of \"\"types of accidents\"\"  -I think the references may need tidying so that they are all in the exact same format ie date format etc. I can do that later on, if no-one else does first - if you have any preferences for formatting style on references or want to do it yourself please let me know.\\n\\nThere appears to be a backlog on articles for review so I guess there may be a delay until a reviewer turns up. It's listed in the relevant form eg Wikipedia:Good_article_nominations#Transport  \"</td>\n",
              "      <td>0</td>\n",
              "      <td>0</td>\n",
              "      <td>0</td>\n",
              "      <td>0</td>\n",
              "      <td>0</td>\n",
              "      <td>0</td>\n",
              "    </tr>\n",
              "    <tr>\n",
              "      <th>0001d958c54c6e35</th>\n",
              "      <td>You, sir, are my hero. Any chance you remember what page that's on?</td>\n",
              "      <td>0</td>\n",
              "      <td>0</td>\n",
              "      <td>0</td>\n",
              "      <td>0</td>\n",
              "      <td>0</td>\n",
              "      <td>0</td>\n",
              "    </tr>\n",
              "  </tbody>\n",
              "</table>\n",
              "</div>\n",
              "      <button class=\"colab-df-convert\" onclick=\"convertToInteractive('df-fe685c24-628a-436a-a618-0e77bc016825')\"\n",
              "              title=\"Convert this dataframe to an interactive table.\"\n",
              "              style=\"display:none;\">\n",
              "        \n",
              "  <svg xmlns=\"http://www.w3.org/2000/svg\" height=\"24px\"viewBox=\"0 0 24 24\"\n",
              "       width=\"24px\">\n",
              "    <path d=\"M0 0h24v24H0V0z\" fill=\"none\"/>\n",
              "    <path d=\"M18.56 5.44l.94 2.06.94-2.06 2.06-.94-2.06-.94-.94-2.06-.94 2.06-2.06.94zm-11 1L8.5 8.5l.94-2.06 2.06-.94-2.06-.94L8.5 2.5l-.94 2.06-2.06.94zm10 10l.94 2.06.94-2.06 2.06-.94-2.06-.94-.94-2.06-.94 2.06-2.06.94z\"/><path d=\"M17.41 7.96l-1.37-1.37c-.4-.4-.92-.59-1.43-.59-.52 0-1.04.2-1.43.59L10.3 9.45l-7.72 7.72c-.78.78-.78 2.05 0 2.83L4 21.41c.39.39.9.59 1.41.59.51 0 1.02-.2 1.41-.59l7.78-7.78 2.81-2.81c.8-.78.8-2.07 0-2.86zM5.41 20L4 18.59l7.72-7.72 1.47 1.35L5.41 20z\"/>\n",
              "  </svg>\n",
              "      </button>\n",
              "      \n",
              "  <style>\n",
              "    .colab-df-container {\n",
              "      display:flex;\n",
              "      flex-wrap:wrap;\n",
              "      gap: 12px;\n",
              "    }\n",
              "\n",
              "    .colab-df-convert {\n",
              "      background-color: #E8F0FE;\n",
              "      border: none;\n",
              "      border-radius: 50%;\n",
              "      cursor: pointer;\n",
              "      display: none;\n",
              "      fill: #1967D2;\n",
              "      height: 32px;\n",
              "      padding: 0 0 0 0;\n",
              "      width: 32px;\n",
              "    }\n",
              "\n",
              "    .colab-df-convert:hover {\n",
              "      background-color: #E2EBFA;\n",
              "      box-shadow: 0px 1px 2px rgba(60, 64, 67, 0.3), 0px 1px 3px 1px rgba(60, 64, 67, 0.15);\n",
              "      fill: #174EA6;\n",
              "    }\n",
              "\n",
              "    [theme=dark] .colab-df-convert {\n",
              "      background-color: #3B4455;\n",
              "      fill: #D2E3FC;\n",
              "    }\n",
              "\n",
              "    [theme=dark] .colab-df-convert:hover {\n",
              "      background-color: #434B5C;\n",
              "      box-shadow: 0px 1px 3px 1px rgba(0, 0, 0, 0.15);\n",
              "      filter: drop-shadow(0px 1px 2px rgba(0, 0, 0, 0.3));\n",
              "      fill: #FFFFFF;\n",
              "    }\n",
              "  </style>\n",
              "\n",
              "      <script>\n",
              "        const buttonEl =\n",
              "          document.querySelector('#df-fe685c24-628a-436a-a618-0e77bc016825 button.colab-df-convert');\n",
              "        buttonEl.style.display =\n",
              "          google.colab.kernel.accessAllowed ? 'block' : 'none';\n",
              "\n",
              "        async function convertToInteractive(key) {\n",
              "          const element = document.querySelector('#df-fe685c24-628a-436a-a618-0e77bc016825');\n",
              "          const dataTable =\n",
              "            await google.colab.kernel.invokeFunction('convertToInteractive',\n",
              "                                                     [key], {});\n",
              "          if (!dataTable) return;\n",
              "\n",
              "          const docLinkHtml = 'Like what you see? Visit the ' +\n",
              "            '<a target=\"_blank\" href=https://colab.research.google.com/notebooks/data_table.ipynb>data table notebook</a>'\n",
              "            + ' to learn more about interactive tables.';\n",
              "          element.innerHTML = '';\n",
              "          dataTable['output_type'] = 'display_data';\n",
              "          await google.colab.output.renderOutput(dataTable, element);\n",
              "          const docLink = document.createElement('div');\n",
              "          docLink.innerHTML = docLinkHtml;\n",
              "          element.appendChild(docLink);\n",
              "        }\n",
              "      </script>\n",
              "    </div>\n",
              "  </div>\n",
              "  "
            ]
          },
          "metadata": {},
          "execution_count": 8
        }
      ],
      "source": [
        "raw_train.head()"
      ]
    },
    {
      "cell_type": "code",
      "execution_count": 9,
      "metadata": {
        "execution": {
          "iopub.execute_input": "2022-07-09T19:31:09.402562Z",
          "iopub.status.busy": "2022-07-09T19:31:09.402255Z",
          "iopub.status.idle": "2022-07-09T19:31:09.411888Z",
          "shell.execute_reply": "2022-07-09T19:31:09.410621Z",
          "shell.execute_reply.started": "2022-07-09T19:31:09.402535Z"
        },
        "id": "FI5Pzf3HjnI1",
        "outputId": "53f52607-79f0-4c7f-c0f6-a75709595665",
        "colab": {
          "base_uri": "https://localhost:8080/",
          "height": 299
        }
      },
      "outputs": [
        {
          "output_type": "execute_result",
          "data": {
            "text/plain": [
              "                                                                                                                                                                                                                                                                                                                                                                                          comment\n",
              "id                                                                                                                                                                                                                                                                                                                                                                                               \n",
              "00001cee341fdb12  Yo bitch Ja Rule is more succesful then you'll ever be whats up with you and hating you sad mofuckas...i should bitch slap ur pethedic white faces and get you to kiss my ass you guys sicken me. Ja rule is about pride in da music man. dont diss that shit on him. and nothin is wrong bein like tupac he was a brother too...fuckin white boys get things right next time.,\n",
              "0000247867823ef7                                                                                                                                                                                                                                                                                                                             == From RfC == \\n\\n The title is fine as it is, IMO.\n",
              "00013b17ad220c46                                                                                                                                                                                                                                                                                                                       \" \\n\\n == Sources == \\n\\n * Zawe Ashton on Lapland —  /  \"\n",
              "00017563c3f7919a                                                                                                                                                                    :If you have a look back at the source, the information I updated was the correct form. I can only guess the source hadn't updated. I shall update the information once again but thank you for your message.\n",
              "00017695ad8997eb                                                                                                                                                                                                                                                                                                                                        I don't anonymously edit articles at all."
            ],
            "text/html": [
              "\n",
              "  <div id=\"df-6c574fe3-120b-46c7-9221-e50a43aba6cf\">\n",
              "    <div class=\"colab-df-container\">\n",
              "      <div>\n",
              "<style scoped>\n",
              "    .dataframe tbody tr th:only-of-type {\n",
              "        vertical-align: middle;\n",
              "    }\n",
              "\n",
              "    .dataframe tbody tr th {\n",
              "        vertical-align: top;\n",
              "    }\n",
              "\n",
              "    .dataframe thead th {\n",
              "        text-align: right;\n",
              "    }\n",
              "</style>\n",
              "<table border=\"1\" class=\"dataframe\">\n",
              "  <thead>\n",
              "    <tr style=\"text-align: right;\">\n",
              "      <th></th>\n",
              "      <th>comment</th>\n",
              "    </tr>\n",
              "    <tr>\n",
              "      <th>id</th>\n",
              "      <th></th>\n",
              "    </tr>\n",
              "  </thead>\n",
              "  <tbody>\n",
              "    <tr>\n",
              "      <th>00001cee341fdb12</th>\n",
              "      <td>Yo bitch Ja Rule is more succesful then you'll ever be whats up with you and hating you sad mofuckas...i should bitch slap ur pethedic white faces and get you to kiss my ass you guys sicken me. Ja rule is about pride in da music man. dont diss that shit on him. and nothin is wrong bein like tupac he was a brother too...fuckin white boys get things right next time.,</td>\n",
              "    </tr>\n",
              "    <tr>\n",
              "      <th>0000247867823ef7</th>\n",
              "      <td>== From RfC == \\n\\n The title is fine as it is, IMO.</td>\n",
              "    </tr>\n",
              "    <tr>\n",
              "      <th>00013b17ad220c46</th>\n",
              "      <td>\" \\n\\n == Sources == \\n\\n * Zawe Ashton on Lapland —  /  \"</td>\n",
              "    </tr>\n",
              "    <tr>\n",
              "      <th>00017563c3f7919a</th>\n",
              "      <td>:If you have a look back at the source, the information I updated was the correct form. I can only guess the source hadn't updated. I shall update the information once again but thank you for your message.</td>\n",
              "    </tr>\n",
              "    <tr>\n",
              "      <th>00017695ad8997eb</th>\n",
              "      <td>I don't anonymously edit articles at all.</td>\n",
              "    </tr>\n",
              "  </tbody>\n",
              "</table>\n",
              "</div>\n",
              "      <button class=\"colab-df-convert\" onclick=\"convertToInteractive('df-6c574fe3-120b-46c7-9221-e50a43aba6cf')\"\n",
              "              title=\"Convert this dataframe to an interactive table.\"\n",
              "              style=\"display:none;\">\n",
              "        \n",
              "  <svg xmlns=\"http://www.w3.org/2000/svg\" height=\"24px\"viewBox=\"0 0 24 24\"\n",
              "       width=\"24px\">\n",
              "    <path d=\"M0 0h24v24H0V0z\" fill=\"none\"/>\n",
              "    <path d=\"M18.56 5.44l.94 2.06.94-2.06 2.06-.94-2.06-.94-.94-2.06-.94 2.06-2.06.94zm-11 1L8.5 8.5l.94-2.06 2.06-.94-2.06-.94L8.5 2.5l-.94 2.06-2.06.94zm10 10l.94 2.06.94-2.06 2.06-.94-2.06-.94-.94-2.06-.94 2.06-2.06.94z\"/><path d=\"M17.41 7.96l-1.37-1.37c-.4-.4-.92-.59-1.43-.59-.52 0-1.04.2-1.43.59L10.3 9.45l-7.72 7.72c-.78.78-.78 2.05 0 2.83L4 21.41c.39.39.9.59 1.41.59.51 0 1.02-.2 1.41-.59l7.78-7.78 2.81-2.81c.8-.78.8-2.07 0-2.86zM5.41 20L4 18.59l7.72-7.72 1.47 1.35L5.41 20z\"/>\n",
              "  </svg>\n",
              "      </button>\n",
              "      \n",
              "  <style>\n",
              "    .colab-df-container {\n",
              "      display:flex;\n",
              "      flex-wrap:wrap;\n",
              "      gap: 12px;\n",
              "    }\n",
              "\n",
              "    .colab-df-convert {\n",
              "      background-color: #E8F0FE;\n",
              "      border: none;\n",
              "      border-radius: 50%;\n",
              "      cursor: pointer;\n",
              "      display: none;\n",
              "      fill: #1967D2;\n",
              "      height: 32px;\n",
              "      padding: 0 0 0 0;\n",
              "      width: 32px;\n",
              "    }\n",
              "\n",
              "    .colab-df-convert:hover {\n",
              "      background-color: #E2EBFA;\n",
              "      box-shadow: 0px 1px 2px rgba(60, 64, 67, 0.3), 0px 1px 3px 1px rgba(60, 64, 67, 0.15);\n",
              "      fill: #174EA6;\n",
              "    }\n",
              "\n",
              "    [theme=dark] .colab-df-convert {\n",
              "      background-color: #3B4455;\n",
              "      fill: #D2E3FC;\n",
              "    }\n",
              "\n",
              "    [theme=dark] .colab-df-convert:hover {\n",
              "      background-color: #434B5C;\n",
              "      box-shadow: 0px 1px 3px 1px rgba(0, 0, 0, 0.15);\n",
              "      filter: drop-shadow(0px 1px 2px rgba(0, 0, 0, 0.3));\n",
              "      fill: #FFFFFF;\n",
              "    }\n",
              "  </style>\n",
              "\n",
              "      <script>\n",
              "        const buttonEl =\n",
              "          document.querySelector('#df-6c574fe3-120b-46c7-9221-e50a43aba6cf button.colab-df-convert');\n",
              "        buttonEl.style.display =\n",
              "          google.colab.kernel.accessAllowed ? 'block' : 'none';\n",
              "\n",
              "        async function convertToInteractive(key) {\n",
              "          const element = document.querySelector('#df-6c574fe3-120b-46c7-9221-e50a43aba6cf');\n",
              "          const dataTable =\n",
              "            await google.colab.kernel.invokeFunction('convertToInteractive',\n",
              "                                                     [key], {});\n",
              "          if (!dataTable) return;\n",
              "\n",
              "          const docLinkHtml = 'Like what you see? Visit the ' +\n",
              "            '<a target=\"_blank\" href=https://colab.research.google.com/notebooks/data_table.ipynb>data table notebook</a>'\n",
              "            + ' to learn more about interactive tables.';\n",
              "          element.innerHTML = '';\n",
              "          dataTable['output_type'] = 'display_data';\n",
              "          await google.colab.output.renderOutput(dataTable, element);\n",
              "          const docLink = document.createElement('div');\n",
              "          docLink.innerHTML = docLinkHtml;\n",
              "          element.appendChild(docLink);\n",
              "        }\n",
              "      </script>\n",
              "    </div>\n",
              "  </div>\n",
              "  "
            ]
          },
          "metadata": {},
          "execution_count": 9
        }
      ],
      "source": [
        "raw_test.head()"
      ]
    },
    {
      "cell_type": "code",
      "execution_count": 10,
      "metadata": {
        "execution": {
          "iopub.execute_input": "2022-07-09T19:31:09.414117Z",
          "iopub.status.busy": "2022-07-09T19:31:09.413215Z",
          "iopub.status.idle": "2022-07-09T19:31:09.429480Z",
          "shell.execute_reply": "2022-07-09T19:31:09.428318Z",
          "shell.execute_reply.started": "2022-07-09T19:31:09.414063Z"
        },
        "id": "Zpypa0mgjnI1",
        "outputId": "ac65cb86-31ae-4318-d441-a86bfea0b1e6",
        "colab": {
          "base_uri": "https://localhost:8080/"
        }
      },
      "outputs": [
        {
          "output_type": "execute_result",
          "data": {
            "text/plain": [
              "id\n",
              "7ca72b5b9c688e9e    Geez, are you forgetful!  We've already discussed why Marx  was  not an anarchist, i.e. he wanted to use a State to mold his 'socialist man.'  Ergo, he is a statist - the opposite of an  anarchist.  I know a guy who says that, when he gets old and his teeth fall out, he'll quit eating meat.  Would you call him a vegetarian?\n",
              "Name: comment, dtype: object"
            ]
          },
          "metadata": {},
          "execution_count": 10
        }
      ],
      "source": [
        "raw_train.comment.sample(random_state=42)"
      ]
    },
    {
      "cell_type": "markdown",
      "metadata": {
        "id": "1V9H0oGWjnI1"
      },
      "source": [
        "#### **2.2 Check for duplicates**"
      ]
    },
    {
      "cell_type": "code",
      "execution_count": 11,
      "metadata": {
        "execution": {
          "iopub.execute_input": "2022-07-09T19:31:09.431753Z",
          "iopub.status.busy": "2022-07-09T19:31:09.430786Z",
          "iopub.status.idle": "2022-07-09T19:31:09.709134Z",
          "shell.execute_reply": "2022-07-09T19:31:09.708000Z",
          "shell.execute_reply.started": "2022-07-09T19:31:09.431710Z"
        },
        "id": "KqQOEI8NjnI1",
        "outputId": "7c4654b9-d8d2-4fcf-a150-baf96abc2348",
        "colab": {
          "base_uri": "https://localhost:8080/"
        }
      },
      "outputs": [
        {
          "output_type": "execute_result",
          "data": {
            "text/plain": [
              "0"
            ]
          },
          "metadata": {},
          "execution_count": 11
        }
      ],
      "source": [
        "raw_train.duplicated().sum()"
      ]
    },
    {
      "cell_type": "code",
      "execution_count": 12,
      "metadata": {
        "execution": {
          "iopub.execute_input": "2022-07-09T19:31:09.711362Z",
          "iopub.status.busy": "2022-07-09T19:31:09.710679Z",
          "iopub.status.idle": "2022-07-09T19:31:09.929393Z",
          "shell.execute_reply": "2022-07-09T19:31:09.928518Z",
          "shell.execute_reply.started": "2022-07-09T19:31:09.711312Z"
        },
        "id": "jtAlBAwsjnI2",
        "outputId": "3cf7de41-e3d8-48e9-c3ca-3582b3514204",
        "colab": {
          "base_uri": "https://localhost:8080/"
        }
      },
      "outputs": [
        {
          "output_type": "execute_result",
          "data": {
            "text/plain": [
              "0"
            ]
          },
          "metadata": {},
          "execution_count": 12
        }
      ],
      "source": [
        "raw_train.duplicated(subset=['comment']).sum()"
      ]
    },
    {
      "cell_type": "code",
      "execution_count": 13,
      "metadata": {
        "execution": {
          "iopub.execute_input": "2022-07-09T19:31:09.933414Z",
          "iopub.status.busy": "2022-07-09T19:31:09.932802Z",
          "iopub.status.idle": "2022-07-09T19:31:10.156142Z",
          "shell.execute_reply": "2022-07-09T19:31:10.155024Z",
          "shell.execute_reply.started": "2022-07-09T19:31:09.933375Z"
        },
        "id": "PGAKbyNkjnI2",
        "outputId": "339d3ecc-b097-437c-81fc-f7019ee38b5f",
        "colab": {
          "base_uri": "https://localhost:8080/"
        }
      },
      "outputs": [
        {
          "output_type": "execute_result",
          "data": {
            "text/plain": [
              "0"
            ]
          },
          "metadata": {},
          "execution_count": 13
        }
      ],
      "source": [
        "raw_test.duplicated().sum()"
      ]
    },
    {
      "cell_type": "markdown",
      "metadata": {
        "id": "uVFzYvlhjnI2"
      },
      "source": [
        "#### **2.3 Check for URLs**"
      ]
    },
    {
      "cell_type": "code",
      "execution_count": 14,
      "metadata": {
        "execution": {
          "iopub.execute_input": "2022-07-09T19:31:10.159536Z",
          "iopub.status.busy": "2022-07-09T19:31:10.157563Z",
          "iopub.status.idle": "2022-07-09T19:31:11.654241Z",
          "shell.execute_reply": "2022-07-09T19:31:11.653059Z",
          "shell.execute_reply.started": "2022-07-09T19:31:10.159493Z"
        },
        "id": "Zkp8rbPDjnI2",
        "outputId": "32f7d6e6-a67a-4d48-bec3-f78d341a6b57",
        "colab": {
          "base_uri": "https://localhost:8080/"
        }
      },
      "outputs": [
        {
          "output_type": "execute_result",
          "data": {
            "text/plain": [
              "id\n",
              "000c0dfd995809fa                                                                                                                                                                                       [http://www.its.caltech.edu/~atomic/snowcrystals/myths/myths.htm#perfection]\n",
              "001363e1dbe91225                                                                                                                                                                                               [http://digg.com/music/Wikipedia_has_free_classical_music_downloads]\n",
              "002c9cccf2f1d05b                                                                                                                                        [http://www.constitution.ie/reports/ConstitutionofIreland.pdf, http://www.constitution.ie/reports/mbunreachtnaheireann.pdf]\n",
              "0038f191ffc93d75                                                                                                                                                                                                              [https://ml.wikipedia.org/wiki/സംവാദം:മോസ്കോ_മെട്രോ.]\n",
              "003fa0c68deca750                                                                                                             [http://www.iranchamber.com/personalities/farabi/farabi.php, http://www.islam.org.br/%C2%A0al_farabi.htm, http://www.superbeyin.com/sohbet/sohbet.htm]\n",
              "                                                                                                                                                 ...                                                                                                                               \n",
              "fbf8672ea3b4ddf7                                                                                                                                                                                                                               [http://www.nysun.com/article/23698]\n",
              "fca6db97dde470bc                                                                                                                                                                                                                    [http://en.wikipedia.org/wiki/Talk:Nissan_GT-R]\n",
              "fd5773ec2e4bcf3a    [http://rexcurry.net/wikipedialies.html, http://rexcurry.net/pledgesalute.html, http://rexcurry.net/pledge2.html, http://rexcurry.net/pledge_military.html, http://rexcurry.net/book1a1contents-pledge.html, http://rexcurry.net/book1a1contents-swastika.html]\n",
              "fd58d3a74b75da85                                                                                                                                                                                                                 [http://www.the-scorpions.com/english/history.asp]\n",
              "ff1fd5721a58e8c7                                                     [http://www.nvidia.com/object/IO_20021017_4141.html, http://www.amazon.com/tag/palit%20microsystems, http://www.pcuniverse.com/Palit-Microsystems/bs/h/3158, http://en.wikipedia.org/wiki/Talk:EVGA_(Company)]\n",
              "Name: comment, Length: 4337, dtype: object"
            ]
          },
          "metadata": {},
          "execution_count": 14
        }
      ],
      "source": [
        "raw_train.comment.str.findall(r'https?:\\/\\/\\S*').drop_duplicates(keep=False)"
      ]
    },
    {
      "cell_type": "markdown",
      "metadata": {
        "id": "O4MhTJE0jnI2"
      },
      "source": [
        "#### **2.4 Check for Emails and mentions**"
      ]
    },
    {
      "cell_type": "code",
      "execution_count": 15,
      "metadata": {
        "execution": {
          "iopub.execute_input": "2022-07-09T19:31:11.655859Z",
          "iopub.status.busy": "2022-07-09T19:31:11.655572Z",
          "iopub.status.idle": "2022-07-09T19:31:17.996283Z",
          "shell.execute_reply": "2022-07-09T19:31:17.994977Z",
          "shell.execute_reply.started": "2022-07-09T19:31:11.655832Z"
        },
        "id": "6WRo6xz0jnI3",
        "outputId": "e94d1e9f-0643-4eed-f0fe-76ef6adf9f17",
        "colab": {
          "base_uri": "https://localhost:8080/"
        }
      },
      "outputs": [
        {
          "output_type": "execute_result",
          "data": {
            "text/plain": [
              "id\n",
              "0236f714de182059                      [apriljohnson6868@gmail.com]\n",
              "03585d8dd27a3653                            [animeking237@aol.com]\n",
              "055c9cafcdb359f9    [bathory@bathory.org, bathory@maltedmedia.com]\n",
              "05ee06363d9dda77                                  [jeff@fugly.com]\n",
              "0675ca47f054c2c0                                           [@Matt]\n",
              "                                         ...                      \n",
              "ea17eecb83be13ee                             [manasgarg@gmail.com]\n",
              "ee831c8c79c9984f                                         [@'''''']\n",
              "ef12914c33ab46b5                                     [@Powergate:]\n",
              "f1ac66faba2e5bae                             [@Tznkai:, @Snowman:]\n",
              "f5379a104a9276a2                                 [last@yourhouse.]\n",
              "Name: comment, Length: 621, dtype: object"
            ]
          },
          "metadata": {},
          "execution_count": 15
        }
      ],
      "source": [
        "raw_train.comment.str.findall(r'\\S*@\\S+').drop_duplicates(keep=False)"
      ]
    },
    {
      "cell_type": "markdown",
      "metadata": {
        "id": "jec8_AH-jnI3"
      },
      "source": [
        "#### **2.5 Check for Hashtags**"
      ]
    },
    {
      "cell_type": "code",
      "execution_count": 16,
      "metadata": {
        "execution": {
          "iopub.execute_input": "2022-07-09T19:31:17.999545Z",
          "iopub.status.busy": "2022-07-09T19:31:17.999066Z",
          "iopub.status.idle": "2022-07-09T19:31:18.404072Z",
          "shell.execute_reply": "2022-07-09T19:31:18.402870Z",
          "shell.execute_reply.started": "2022-07-09T19:31:17.999504Z"
        },
        "id": "R9LhHmgajnI3",
        "outputId": "7ea9d863-8196-4513-b8e6-fbd3d364acc5",
        "colab": {
          "base_uri": "https://localhost:8080/"
        }
      },
      "outputs": [
        {
          "output_type": "execute_result",
          "data": {
            "text/plain": [
              "id\n",
              "0001b41b1c6bb37e                                                                                                                                                [#Transport]\n",
              "000c0dfd995809fa                                                                                                                                               [#perfection]\n",
              "001363e1dbe91225    [#Need_help.21Wikipedia_talk:WikiProject_Music/Archive_3#I_could_use_some_helpWikipedia_talk:WikiProject_Music/Archive_2#Raulbot.2C_and_the_music_list)]\n",
              "003b9f448ee4a29d                                                                                             [#WP:V_-_comparing_Jewish_Virtual_Library_and_Dissident_Voice.]\n",
              "00585c1da10b448b                                                                                                                                                    [#5-5-5]\n",
              "                                                                                              ...                                                                           \n",
              "f71b76e3de13609a                                                                                                                                                  [#3, #4).]\n",
              "f7f582a4b0c7f860        [#Deeptrivia.2C_Al-Khwarizmi_was_an_Arab, #Deeptrivia.2C_why_did_you_remove_this_verifiable_content.3F.21, #I_find_serious_fault_with_this_phrasing]\n",
              "f9321888a2ca1c37                                                                                                                                     [##ee9000;border:solid]\n",
              "fa9626486b24f0f6                                                                                                                                         [#An, #Anachronous]\n",
              "fc8ca591ef6bc42c                                                                                                                                                 [#Non-free]\n",
              "Name: comment, Length: 2110, dtype: object"
            ]
          },
          "metadata": {},
          "execution_count": 16
        }
      ],
      "source": [
        "raw_train.comment.str.findall(r'#\\S+').drop_duplicates(keep=False)"
      ]
    },
    {
      "cell_type": "markdown",
      "metadata": {
        "id": "7n4N0zTBjnI3"
      },
      "source": [
        "#### **2.6 Check for HTML tags**"
      ]
    },
    {
      "cell_type": "code",
      "execution_count": 17,
      "metadata": {
        "execution": {
          "iopub.execute_input": "2022-07-09T19:31:18.405627Z",
          "iopub.status.busy": "2022-07-09T19:31:18.405327Z",
          "iopub.status.idle": "2022-07-09T19:31:18.825163Z",
          "shell.execute_reply": "2022-07-09T19:31:18.824116Z",
          "shell.execute_reply.started": "2022-07-09T19:31:18.405601Z"
        },
        "id": "Z_bKKjBFjnI3",
        "outputId": "898cba53-1427-439a-c5e7-878af7a7b543",
        "colab": {
          "base_uri": "https://localhost:8080/"
        }
      },
      "outputs": [
        {
          "output_type": "execute_result",
          "data": {
            "text/plain": [
              "id\n",
              "0e343b7f449df75a                                                                                                                                                                                                   [<  | ∂drini >]\n",
              "1905ca9ef49186a3                                                                          [< http://theregister.co.uk/2008/02/01/woolworths_bed_outrage >, < http://www.woolworths.co.uk/web/jsp/product/index.jsp?pid=11401556 >]\n",
              "1ae9fbf8d8bc558c                                                                                                                     [<ɰ> is a more appropriate symbol.  was useful because it was found on typewriters while <ɰ>]\n",
              "1c60ea64111132c6                                                                                                                                                                                         [<| 09.10.2007 | Monday>]\n",
              "2917d00d75fa9c1d                                                                                                              [<<... a world in which every single human being can freely share in the sum of all knowledge ...>>]\n",
              "                                                                                                                         ...                                                                                                      \n",
              "3049d085bc0f83a8    [< http://en.wikipedia.org/w/index.php?title=Wikipedia:Administrators%27_noticeboard/Wiki_editor_DonFphrnqTaub_Persina&diff;=178429228&oldid;=178383952 >, < | http://en.wikipedia.org/wiki/special:search/ >]\n",
              "799af7635b509ac5                                                                                                                                                                                                            [<<>>]\n",
              "b713a791ef0ef0c5                                                                                                                                                                                                          [<')))>]\n",
              "d484ee4c8c8aefcc                                                                                                                                                                                    [<[ freakofnurxture]|[ talk]>]\n",
              "e9e45f79d94fd41f                                                                                                                                                                                                          [< !  >]\n",
              "Name: comment, Length: 73, dtype: object"
            ]
          },
          "metadata": {},
          "execution_count": 17
        }
      ],
      "source": [
        "raw_train.comment.str.findall(r'<.*>').drop_duplicates(keep=False)"
      ]
    },
    {
      "cell_type": "markdown",
      "metadata": {
        "id": "ts3JgZkijnI3"
      },
      "source": [
        "#### **2.7 Check for dataset imbalance**"
      ]
    },
    {
      "cell_type": "code",
      "execution_count": 18,
      "metadata": {
        "execution": {
          "iopub.execute_input": "2022-07-09T19:31:18.826926Z",
          "iopub.status.busy": "2022-07-09T19:31:18.826619Z",
          "iopub.status.idle": "2022-07-09T19:31:19.666320Z",
          "shell.execute_reply": "2022-07-09T19:31:19.665060Z",
          "shell.execute_reply.started": "2022-07-09T19:31:18.826898Z"
        },
        "id": "0EovY7jxjnI4",
        "outputId": "caaf6551-d552-43d6-e908-de2c641c1141",
        "colab": {
          "base_uri": "https://localhost:8080/",
          "height": 878
        }
      },
      "outputs": [
        {
          "output_type": "display_data",
          "data": {
            "text/plain": [
              "<Figure size 1800x1080 with 6 Axes>"
            ],
            "image/png": "[encoded data removed]"
          },
          "metadata": {
            "needs_background": "light"
          }
        }
      ],
      "source": [
        "target_cols = raw_train.select_dtypes(include=np.number).columns\n",
        "fig, ax = plt.subplots(2, 3, figsize=(25, 15))\n",
        "\n",
        "for col, subplot in zip(target_cols, ax.flatten()):\n",
        "    sns.countplot(x=raw_train[col], ax=subplot)\n",
        "    for p in subplot.patches:\n",
        "        x_ = p.get_bbox().get_points()[:,0]\n",
        "        y_ = p.get_bbox().get_points()[1,1]\n",
        "        subplot.annotate(p.get_height(), (x_.mean(), y_), ha='center', va='bottom')\n",
        "        \n",
        "plt.show()"
      ]
    },
    {
      "cell_type": "markdown",
      "metadata": {
        "id": "j3Vc6N-vjnI4"
      },
      "source": [
        "#### **2.8 Number of comments in each category**"
      ]
    },
    {
      "cell_type": "code",
      "execution_count": 19,
      "metadata": {
        "execution": {
          "iopub.execute_input": "2022-07-09T19:31:19.668057Z",
          "iopub.status.busy": "2022-07-09T19:31:19.667642Z",
          "iopub.status.idle": "2022-07-09T19:31:19.894013Z",
          "shell.execute_reply": "2022-07-09T19:31:19.893006Z",
          "shell.execute_reply.started": "2022-07-09T19:31:19.668025Z"
        },
        "id": "WA7dVjOLjnI4",
        "outputId": "cf90931b-a65a-4344-833a-fdb05f53746e",
        "colab": {
          "base_uri": "https://localhost:8080/",
          "height": 269
        }
      },
      "outputs": [
        {
          "output_type": "display_data",
          "data": {
            "text/plain": [
              "<Figure size 432x288 with 1 Axes>"
            ],
            "image/png": "[encoded data removed]"
          },
          "metadata": {
            "needs_background": "light"
          }
        }
      ],
      "source": [
        "ax = sns.barplot(x=target_cols, y=raw_train[target_cols].sum(axis=0))\n",
        "for p in ax.patches:\n",
        "    x_ = p.get_bbox().get_points()[:,0]\n",
        "    y_ = p.get_bbox().get_points()[1,1]\n",
        "    ax.annotate(p.get_height(), (x_.mean(), y_), ha='center', va='bottom')"
      ]
    },
    {
      "cell_type": "markdown",
      "metadata": {
        "id": "5KekO-rxjnI4"
      },
      "source": [
        "#### **2.9 Comments with multi-labels**"
      ]
    },
    {
      "cell_type": "code",
      "execution_count": 20,
      "metadata": {
        "execution": {
          "iopub.execute_input": "2022-07-09T19:31:19.895789Z",
          "iopub.status.busy": "2022-07-09T19:31:19.895484Z",
          "iopub.status.idle": "2022-07-09T19:31:20.141993Z",
          "shell.execute_reply": "2022-07-09T19:31:20.141170Z",
          "shell.execute_reply.started": "2022-07-09T19:31:19.895760Z"
        },
        "id": "TuSjA__KjnI4",
        "outputId": "fbbad2bf-e6c7-4c23-efa7-066dd522b68b",
        "colab": {
          "base_uri": "https://localhost:8080/",
          "height": 315
        }
      },
      "outputs": [
        {
          "output_type": "execute_result",
          "data": {
            "text/plain": [
              "Text(0, 0.5, 'No. of Comments')"
            ]
          },
          "metadata": {},
          "execution_count": 20
        },
        {
          "output_type": "display_data",
          "data": {
            "text/plain": [
              "<Figure size 432x288 with 1 Axes>"
            ],
            "image/png": "[encoded data removed]"
          },
          "metadata": {
            "needs_background": "light"
          }
        }
      ],
      "source": [
        "nLabels = raw_train[target_cols].sum(axis=1).value_counts()\n",
        "\n",
        "ax = sns.barplot(x=nLabels.index, y=nLabels.values)\n",
        "for p in ax.patches:\n",
        "    x_ = p.get_bbox().get_points()[:,0]\n",
        "    y_ = p.get_bbox().get_points()[1,1]\n",
        "    ax.annotate(p.get_height(), (x_.mean(), y_), ha='center', va='bottom')\n",
        "    \n",
        "plt.title(\"Multi-labels per comment\")\n",
        "plt.xlabel('No. of categories', fontsize=12)\n",
        "plt.ylabel('No. of Comments', fontsize=12)"
      ]
    },
    {
      "cell_type": "markdown",
      "metadata": {
        "id": "FjF2_qaIjnI5"
      },
      "source": [
        "## **3. Text Preprocessing**"
      ]
    },
    {
      "cell_type": "markdown",
      "metadata": {
        "id": "MbOYDe0sjnI5"
      },
      "source": [
        "#### **3.1 Remove URLs**"
      ]
    },
    {
      "cell_type": "code",
      "execution_count": 21,
      "metadata": {
        "execution": {
          "iopub.execute_input": "2022-07-09T19:31:20.143753Z",
          "iopub.status.busy": "2022-07-09T19:31:20.143447Z",
          "iopub.status.idle": "2022-07-09T19:31:20.149643Z",
          "shell.execute_reply": "2022-07-09T19:31:20.148448Z",
          "shell.execute_reply.started": "2022-07-09T19:31:20.143726Z"
        },
        "id": "ww8rHWgZjnI5"
      },
      "outputs": [],
      "source": [
        "def remove_urls(text):\n",
        "    return re.sub(r'https?:\\/\\/\\S*', '', text, flags=re.MULTILINE)"
      ]
    },
    {
      "cell_type": "markdown",
      "metadata": {
        "id": "jyb-oZ6SjnI5"
      },
      "source": [
        "#### **3.2 Remove Emails and Mentions**"
      ]
    },
    {
      "cell_type": "code",
      "execution_count": 22,
      "metadata": {
        "execution": {
          "iopub.execute_input": "2022-07-09T19:31:20.152012Z",
          "iopub.status.busy": "2022-07-09T19:31:20.151370Z",
          "iopub.status.idle": "2022-07-09T19:31:20.161635Z",
          "shell.execute_reply": "2022-07-09T19:31:20.160542Z",
          "shell.execute_reply.started": "2022-07-09T19:31:20.151975Z"
        },
        "id": "8q2RU89SjnI5"
      },
      "outputs": [],
      "source": [
        "def remove_emails_and_mentions(text):\n",
        "    return re.sub(r'\\S*@\\S+', '', text, flags=re.MULTILINE)"
      ]
    },
    {
      "cell_type": "markdown",
      "metadata": {
        "id": "SC2opuJvjnI6"
      },
      "source": [
        "#### **3.3 Remove Hashtags**"
      ]
    },
    {
      "cell_type": "code",
      "execution_count": 23,
      "metadata": {
        "execution": {
          "iopub.execute_input": "2022-07-09T19:31:20.163847Z",
          "iopub.status.busy": "2022-07-09T19:31:20.163244Z",
          "iopub.status.idle": "2022-07-09T19:31:20.173983Z",
          "shell.execute_reply": "2022-07-09T19:31:20.172930Z",
          "shell.execute_reply.started": "2022-07-09T19:31:20.163815Z"
        },
        "id": "Ed15b-iSjnI6"
      },
      "outputs": [],
      "source": [
        "def remove_hashtags(text):\n",
        "    return re.sub(r'#\\S+', '', text, flags=re.MULTILINE)"
      ]
    },
    {
      "cell_type": "markdown",
      "metadata": {
        "id": "DheBUa-DjnI6"
      },
      "source": [
        "#### **3.4 Remove HTML tags**"
      ]
    },
    {
      "cell_type": "code",
      "execution_count": 24,
      "metadata": {
        "execution": {
          "iopub.execute_input": "2022-07-09T19:31:20.175775Z",
          "iopub.status.busy": "2022-07-09T19:31:20.175374Z",
          "iopub.status.idle": "2022-07-09T19:31:20.184123Z",
          "shell.execute_reply": "2022-07-09T19:31:20.183169Z",
          "shell.execute_reply.started": "2022-07-09T19:31:20.175746Z"
        },
        "id": "rS51TafNjnI6"
      },
      "outputs": [],
      "source": [
        "def remove_html_tags(text):\n",
        "    return re.sub(r'<+.*>+', '', text, flags=re.MULTILINE)"
      ]
    },
    {
      "cell_type": "markdown",
      "metadata": {
        "id": "WmhCwWp0jnI6"
      },
      "source": [
        "#### **3.5 Remove whitespaces**"
      ]
    },
    {
      "cell_type": "code",
      "execution_count": 25,
      "metadata": {
        "execution": {
          "iopub.execute_input": "2022-07-09T19:31:20.189149Z",
          "iopub.status.busy": "2022-07-09T19:31:20.188130Z",
          "iopub.status.idle": "2022-07-09T19:31:20.197703Z",
          "shell.execute_reply": "2022-07-09T19:31:20.196505Z",
          "shell.execute_reply.started": "2022-07-09T19:31:20.189091Z"
        },
        "id": "l6UQ_LqwjnI6"
      },
      "outputs": [],
      "source": [
        "def remove_whitespaces(text):\n",
        "    text = re.sub(r'\\s+', ' ', text, flags=re.MULTILINE)\n",
        "    return text.strip()"
      ]
    },
    {
      "cell_type": "markdown",
      "metadata": {
        "id": "aQncZZRYjnI7"
      },
      "source": [
        "#### **3.6 Convert text to lower case**"
      ]
    },
    {
      "cell_type": "code",
      "execution_count": 26,
      "metadata": {
        "execution": {
          "iopub.execute_input": "2022-07-09T19:31:20.199570Z",
          "iopub.status.busy": "2022-07-09T19:31:20.198975Z",
          "iopub.status.idle": "2022-07-09T19:31:20.213734Z",
          "shell.execute_reply": "2022-07-09T19:31:20.212843Z",
          "shell.execute_reply.started": "2022-07-09T19:31:20.199535Z"
        },
        "id": "SpapVBScjnI7"
      },
      "outputs": [],
      "source": [
        "def to_lowercase(text):\n",
        "    return text.lower()"
      ]
    },
    {
      "cell_type": "markdown",
      "metadata": {
        "id": "6oNS4tyCjnI7"
      },
      "source": [
        "#### **3.7 Remove all special characters**"
      ]
    },
    {
      "cell_type": "code",
      "execution_count": 27,
      "metadata": {
        "execution": {
          "iopub.execute_input": "2022-07-09T19:31:20.215552Z",
          "iopub.status.busy": "2022-07-09T19:31:20.214776Z",
          "iopub.status.idle": "2022-07-09T19:31:20.225798Z",
          "shell.execute_reply": "2022-07-09T19:31:20.224909Z",
          "shell.execute_reply.started": "2022-07-09T19:31:20.215516Z"
        },
        "id": "N4i-O0fyjnI7"
      },
      "outputs": [],
      "source": [
        "def remove_special_chars(text):\n",
        "    return re.findall(r'[a-z]{3,}', text)"
      ]
    },
    {
      "cell_type": "markdown",
      "metadata": {
        "id": "wHMAxpIcjnI7"
      },
      "source": [
        "#### **3.8 Remove stopwords**"
      ]
    },
    {
      "cell_type": "code",
      "execution_count": 28,
      "metadata": {
        "execution": {
          "iopub.execute_input": "2022-07-09T19:31:20.227627Z",
          "iopub.status.busy": "2022-07-09T19:31:20.227135Z",
          "iopub.status.idle": "2022-07-09T19:31:20.236860Z",
          "shell.execute_reply": "2022-07-09T19:31:20.236009Z",
          "shell.execute_reply.started": "2022-07-09T19:31:20.227595Z"
        },
        "id": "Vt5IYEcljnI7"
      },
      "outputs": [],
      "source": [
        "def remove_stopwords(words):\n",
        "    stop_words = set(stopwords.words('english'))\n",
        "    return [word for word in words if word not in stop_words]"
      ]
    },
    {
      "cell_type": "markdown",
      "metadata": {
        "id": "chViD401jnI8"
      },
      "source": [
        "#### **3.9 Lemmatization**"
      ]
    },
    {
      "cell_type": "code",
      "execution_count": 29,
      "metadata": {
        "execution": {
          "iopub.execute_input": "2022-07-09T19:31:20.239146Z",
          "iopub.status.busy": "2022-07-09T19:31:20.238187Z",
          "iopub.status.idle": "2022-07-09T19:31:20.248342Z",
          "shell.execute_reply": "2022-07-09T19:31:20.247538Z",
          "shell.execute_reply.started": "2022-07-09T19:31:20.239082Z"
        },
        "id": "TSev0HROjnI8"
      },
      "outputs": [],
      "source": [
        "def lemmatization(words):\n",
        "    lemmatizer = WordNetLemmatizer()\n",
        "    return ' '.join(lemmatizer.lemmatize(word) for word in words)"
      ]
    },
    {
      "cell_type": "markdown",
      "metadata": {
        "id": "bxxjxK43jnI8"
      },
      "source": [
        "#### **Putting all the pipeline together**"
      ]
    },
    {
      "cell_type": "code",
      "execution_count": 30,
      "metadata": {
        "execution": {
          "iopub.execute_input": "2022-07-09T19:31:20.250657Z",
          "iopub.status.busy": "2022-07-09T19:31:20.249642Z",
          "iopub.status.idle": "2022-07-09T19:31:20.262025Z",
          "shell.execute_reply": "2022-07-09T19:31:20.261158Z",
          "shell.execute_reply.started": "2022-07-09T19:31:20.250605Z"
        },
        "id": "g6zWSHFWjnI8"
      },
      "outputs": [],
      "source": [
        "def text_preprocessing(text):\n",
        "    text = remove_urls(text)\n",
        "    text = remove_emails_and_mentions(text)\n",
        "    text = remove_hashtags(text)\n",
        "    text = remove_html_tags(text)\n",
        "    text = remove_whitespaces(text)\n",
        "    text = to_lowercase(text)\n",
        "    words = remove_special_chars(text)\n",
        "    words = remove_stopwords(words)\n",
        "    text = lemmatization(words)\n",
        "    return text"
      ]
    },
    {
      "cell_type": "markdown",
      "metadata": {
        "id": "PJ7GLWKejnI8"
      },
      "source": [
        "#### **Applying text preprocessing on train and test sets**"
      ]
    },
    {
      "cell_type": "code",
      "execution_count": 31,
      "metadata": {
        "execution": {
          "iopub.execute_input": "2022-07-09T19:31:20.271471Z",
          "iopub.status.busy": "2022-07-09T19:31:20.270770Z",
          "iopub.status.idle": "2022-07-09T19:31:20.283967Z",
          "shell.execute_reply": "2022-07-09T19:31:20.283136Z",
          "shell.execute_reply.started": "2022-07-09T19:31:20.271433Z"
        },
        "id": "lnhG3T3sjnI8"
      },
      "outputs": [],
      "source": [
        "train = raw_train.copy()\n",
        "test = raw_test.copy()"
      ]
    },
    {
      "cell_type": "code",
      "execution_count": 32,
      "metadata": {
        "execution": {
          "iopub.execute_input": "2022-07-09T19:31:20.287175Z",
          "iopub.status.busy": "2022-07-09T19:31:20.286552Z",
          "iopub.status.idle": "2022-07-09T19:31:20.534840Z",
          "shell.execute_reply": "2022-07-09T19:31:20.533500Z",
          "shell.execute_reply.started": "2022-07-09T19:31:20.287124Z"
        },
        "id": "QGeEIFYEnnTY",
        "outputId": "cf1f5a00-6c17-41d8-8d9f-cb18d2620cbb",
        "colab": {
          "base_uri": "https://localhost:8080/"
        }
      },
      "outputs": [
        {
          "output_type": "stream",
          "name": "stderr",
          "text": [
            "[nltk_data] Downloading package omw-1.4 to /root/nltk_data...\n"
          ]
        },
        {
          "output_type": "execute_result",
          "data": {
            "text/plain": [
              "True"
            ]
          },
          "metadata": {},
          "execution_count": 32
        }
      ],
      "source": [
        "nltk.download('omw-1.4')"
      ]
    },
    {
      "cell_type": "code",
      "execution_count": 33,
      "metadata": {
        "execution": {
          "iopub.execute_input": "2022-07-09T19:31:20.536848Z",
          "iopub.status.busy": "2022-07-09T19:31:20.536502Z",
          "iopub.status.idle": "2022-07-09T19:32:38.395082Z",
          "shell.execute_reply": "2022-07-09T19:32:38.394068Z",
          "shell.execute_reply.started": "2022-07-09T19:31:20.536816Z"
        },
        "id": "tE-bXwwLjnI8"
      },
      "outputs": [],
      "source": [
        "train.comment = train.comment.apply(text_preprocessing)"
      ]
    },
    {
      "cell_type": "code",
      "execution_count": 34,
      "metadata": {
        "execution": {
          "iopub.execute_input": "2022-07-09T19:32:38.401023Z",
          "iopub.status.busy": "2022-07-09T19:32:38.396409Z",
          "iopub.status.idle": "2022-07-09T19:33:49.707588Z",
          "shell.execute_reply": "2022-07-09T19:33:49.706765Z",
          "shell.execute_reply.started": "2022-07-09T19:32:38.400984Z"
        },
        "id": "sRbqMx6djnI8"
      },
      "outputs": [],
      "source": [
        "test.comment = test.comment.apply(text_preprocessing)"
      ]
    },
    {
      "cell_type": "markdown",
      "metadata": {
        "id": "SqtGIqNDjnI9"
      },
      "source": [
        "#### **Showing a sample of data before and after cleaning**"
      ]
    },
    {
      "cell_type": "code",
      "execution_count": 35,
      "metadata": {
        "execution": {
          "iopub.execute_input": "2022-07-09T19:33:49.709458Z",
          "iopub.status.busy": "2022-07-09T19:33:49.708952Z",
          "iopub.status.idle": "2022-07-09T19:33:49.724484Z",
          "shell.execute_reply": "2022-07-09T19:33:49.723256Z",
          "shell.execute_reply.started": "2022-07-09T19:33:49.709421Z"
        },
        "id": "CD-GRMbEjnI9",
        "colab": {
          "base_uri": "https://localhost:8080/"
        },
        "outputId": "16c0738b-6317-406c-e47a-a52b37c07e1e"
      },
      "outputs": [
        {
          "output_type": "execute_result",
          "data": {
            "text/plain": [
              "id\n",
              "7ca72b5b9c688e9e    Geez, are you forgetful!  We've already discussed why Marx  was  not an anarchist, i.e. he wanted to use a State to mold his 'socialist man.'  Ergo, he is a statist - the opposite of an  anarchist.  I know a guy who says that, when he gets old and his teeth fall out, he'll quit eating meat.  Would you call him a vegetarian?\n",
              "Name: comment, dtype: object"
            ]
          },
          "metadata": {},
          "execution_count": 35
        }
      ],
      "source": [
        "raw_train.comment.sample(random_state=42)"
      ]
    },
    {
      "cell_type": "code",
      "execution_count": 36,
      "metadata": {
        "execution": {
          "iopub.execute_input": "2022-07-09T19:33:49.727353Z",
          "iopub.status.busy": "2022-07-09T19:33:49.726986Z",
          "iopub.status.idle": "2022-07-09T19:33:49.743724Z",
          "shell.execute_reply": "2022-07-09T19:33:49.742645Z",
          "shell.execute_reply.started": "2022-07-09T19:33:49.727322Z"
        },
        "id": "Fl73GIsxjnI9",
        "colab": {
          "base_uri": "https://localhost:8080/"
        },
        "outputId": "cc3ec178-71a5-4fb6-8717-184a33d33a3c"
      },
      "outputs": [
        {
          "output_type": "execute_result",
          "data": {
            "text/plain": [
              "id\n",
              "7ca72b5b9c688e9e    geez forgetful already discussed marx anarchist wanted use state mold socialist man ergo statist opposite anarchist know guy say get old teeth fall quit eating meat would call vegetarian\n",
              "Name: comment, dtype: object"
            ]
          },
          "metadata": {},
          "execution_count": 36
        }
      ],
      "source": [
        "train.comment.sample(random_state=42)"
      ]
    },
    {
      "cell_type": "markdown",
      "metadata": {
        "id": "zyAeWcyUjnI9"
      },
      "source": [
        "#### **Splitting data**"
      ]
    },
    {
      "cell_type": "code",
      "execution_count": 37,
      "metadata": {
        "execution": {
          "iopub.execute_input": "2022-07-09T19:33:49.745948Z",
          "iopub.status.busy": "2022-07-09T19:33:49.744837Z",
          "iopub.status.idle": "2022-07-09T19:33:49.823317Z",
          "shell.execute_reply": "2022-07-09T19:33:49.822340Z",
          "shell.execute_reply.started": "2022-07-09T19:33:49.745913Z"
        },
        "id": "2BzwcdIWjnI9"
      },
      "outputs": [],
      "source": [
        "x_train_df, x_val_df, y_train_df, y_val_df = train_test_split(train.comment, train[target_cols], test_size=0.2, random_state=42)"
      ]
    },
    {
      "cell_type": "code",
      "execution_count": 38,
      "metadata": {
        "execution": {
          "iopub.execute_input": "2022-07-09T19:33:49.825773Z",
          "iopub.status.busy": "2022-07-09T19:33:49.824700Z",
          "iopub.status.idle": "2022-07-09T19:33:49.831409Z",
          "shell.execute_reply": "2022-07-09T19:33:49.830290Z",
          "shell.execute_reply.started": "2022-07-09T19:33:49.825725Z"
        },
        "id": "4Tp11f8JjnI9"
      },
      "outputs": [],
      "source": [
        "x_test_df = test.comment"
      ]
    },
    {
      "cell_type": "code",
      "execution_count": 39,
      "metadata": {
        "execution": {
          "iopub.execute_input": "2022-07-09T19:33:49.833388Z",
          "iopub.status.busy": "2022-07-09T19:33:49.832890Z",
          "iopub.status.idle": "2022-07-09T19:33:49.845633Z",
          "shell.execute_reply": "2022-07-09T19:33:49.844406Z",
          "shell.execute_reply.started": "2022-07-09T19:33:49.833357Z"
        },
        "id": "F4sgKRFcjnI9",
        "colab": {
          "base_uri": "https://localhost:8080/"
        },
        "outputId": "363a3f99-2a26-40fe-8500-f15b06bf81bb"
      },
      "outputs": [
        {
          "output_type": "stream",
          "name": "stdout",
          "text": [
            "x_train shape: (127656,)\n",
            "y_train shape: (127656, 6)\n",
            "x_valid shape: (31915,)\n",
            "y_valid shape: (31915, 6)\n",
            "x_test shape:  (153164,)\n"
          ]
        }
      ],
      "source": [
        "print('x_train shape: {}'.format(x_train_df.shape))\n",
        "print('y_train shape: {}'.format(y_train_df.shape))\n",
        "print('x_valid shape: {}'.format(x_val_df.shape))\n",
        "print('y_valid shape: {}'.format(y_val_df.shape))\n",
        "print('x_test shape:  {}'.format(x_test_df.shape))"
      ]
    },
    {
      "cell_type": "markdown",
      "metadata": {
        "id": "rK55ZxANjnI9"
      },
      "source": [
        "## **4. Model**"
      ]
    },
    {
      "cell_type": "markdown",
      "metadata": {
        "id": "tzTja-4EjnI-"
      },
      "source": [
        "### **4.1 FFNN Model with BoW (TF-IDF) Text Representation**"
      ]
    },
    {
      "cell_type": "markdown",
      "metadata": {
        "id": "6EDsDwtRjnI-"
      },
      "source": [
        "#### **4.1.1 BoW**"
      ]
    },
    {
      "cell_type": "code",
      "execution_count": 40,
      "metadata": {
        "execution": {
          "iopub.execute_input": "2022-07-09T19:33:49.847465Z",
          "iopub.status.busy": "2022-07-09T19:33:49.847157Z",
          "iopub.status.idle": "2022-07-09T19:34:03.730563Z",
          "shell.execute_reply": "2022-07-09T19:34:03.729416Z",
          "shell.execute_reply.started": "2022-07-09T19:33:49.847438Z"
        },
        "id": "Bd_UReXMjnI-",
        "colab": {
          "base_uri": "https://localhost:8080/"
        },
        "outputId": "0457f58d-43a5-43af-a9c7-80b6dff299a6"
      },
      "outputs": [
        {
          "output_type": "execute_result",
          "data": {
            "text/plain": [
              "TfidfVectorizer(max_features=1000)"
            ]
          },
          "metadata": {},
          "execution_count": 40
        }
      ],
      "source": [
        "vocab_size = 1000\n",
        "vectorizer = TfidfVectorizer(max_features=vocab_size)\n",
        "vectorizer.fit(pd.concat([train.comment, test.comment], axis=0))"
      ]
    },
    {
      "cell_type": "code",
      "execution_count": 41,
      "metadata": {
        "execution": {
          "iopub.execute_input": "2022-07-09T19:34:03.732918Z",
          "iopub.status.busy": "2022-07-09T19:34:03.732031Z",
          "iopub.status.idle": "2022-07-09T19:34:19.883637Z",
          "shell.execute_reply": "2022-07-09T19:34:19.882528Z",
          "shell.execute_reply.started": "2022-07-09T19:34:03.732877Z"
        },
        "id": "O1aAs00MjnI-"
      },
      "outputs": [],
      "source": [
        "x_train = vectorizer.transform(x_train_df).toarray()\n",
        "x_val = vectorizer.transform(x_val_df).toarray()\n",
        "x_test = vectorizer.transform(x_test_df).toarray()"
      ]
    },
    {
      "cell_type": "code",
      "execution_count": 42,
      "metadata": {
        "execution": {
          "iopub.execute_input": "2022-07-09T19:34:19.885686Z",
          "iopub.status.busy": "2022-07-09T19:34:19.885255Z",
          "iopub.status.idle": "2022-07-09T19:34:19.892675Z",
          "shell.execute_reply": "2022-07-09T19:34:19.891478Z",
          "shell.execute_reply.started": "2022-07-09T19:34:19.885646Z"
        },
        "id": "vDjvbI1_jnI-"
      },
      "outputs": [],
      "source": [
        "y_train = np.asarray(y_train_df).astype('float32')\n",
        "y_val = np.asarray(y_val_df).astype('float32')"
      ]
    },
    {
      "cell_type": "code",
      "execution_count": 43,
      "metadata": {
        "execution": {
          "iopub.execute_input": "2022-07-09T19:34:19.894668Z",
          "iopub.status.busy": "2022-07-09T19:34:19.894022Z",
          "iopub.status.idle": "2022-07-09T19:34:19.906316Z",
          "shell.execute_reply": "2022-07-09T19:34:19.905143Z",
          "shell.execute_reply.started": "2022-07-09T19:34:19.894635Z"
        },
        "id": "RUFcln9EjnI-",
        "colab": {
          "base_uri": "https://localhost:8080/"
        },
        "outputId": "26d78a7f-70c0-470d-9eaf-9a42382da6c5"
      },
      "outputs": [
        {
          "output_type": "stream",
          "name": "stdout",
          "text": [
            "x_train shape: (127656, 1000)\n",
            "y_train shape: (127656, 6)\n",
            "x_valid shape: (31915, 1000)\n",
            "y_valid shape: (31915, 6)\n",
            "x_test shape:  (153164, 1000)\n"
          ]
        }
      ],
      "source": [
        "print('x_train shape: {}'.format(x_train.shape))\n",
        "print('y_train shape: {}'.format(y_train.shape))\n",
        "print('x_valid shape: {}'.format(x_val.shape))\n",
        "print('y_valid shape: {}'.format(y_val.shape))\n",
        "print('x_test shape:  {}'.format(x_test.shape))"
      ]
    },
    {
      "cell_type": "markdown",
      "metadata": {
        "id": "tqlI6nG8jnI-"
      },
      "source": [
        "#### **4.1.2 FFNN Model**"
      ]
    },
    {
      "cell_type": "code",
      "execution_count": 44,
      "metadata": {
        "execution": {
          "iopub.execute_input": "2022-07-09T19:34:19.908482Z",
          "iopub.status.busy": "2022-07-09T19:34:19.908040Z",
          "iopub.status.idle": "2022-07-09T19:34:19.995284Z",
          "shell.execute_reply": "2022-07-09T19:34:19.994272Z",
          "shell.execute_reply.started": "2022-07-09T19:34:19.908441Z"
        },
        "id": "FvcXfpNKjnI_",
        "colab": {
          "base_uri": "https://localhost:8080/"
        },
        "outputId": "4e31ccb8-6bd7-4089-9284-4f234f9977fd"
      },
      "outputs": [
        {
          "output_type": "stream",
          "name": "stdout",
          "text": [
            "Model: \"sequential\"\n",
            "_________________________________________________________________\n",
            " Layer (type)                Output Shape              Param #   \n",
            "=================================================================\n",
            " dense (Dense)               (None, 16)                16016     \n",
            "                                                                 \n",
            " dense_1 (Dense)             (None, 32)                544       \n",
            "                                                                 \n",
            " dense_2 (Dense)             (None, 6)                 198       \n",
            "                                                                 \n",
            "=================================================================\n",
            "Total params: 16,758\n",
            "Trainable params: 16,758\n",
            "Non-trainable params: 0\n",
            "_________________________________________________________________\n"
          ]
        }
      ],
      "source": [
        "nn_model = models.Sequential()\n",
        "nn_model.add(layers.Dense(16, activation='relu', input_shape=(vocab_size,)))\n",
        "nn_model.add(layers.Dense(32, activation='relu'))\n",
        "nn_model.add(layers.Dense(6, activation='sigmoid'))\n",
        "nn_model.summary()"
      ]
    },
    {
      "cell_type": "code",
      "execution_count": 45,
      "metadata": {
        "execution": {
          "iopub.execute_input": "2022-07-09T19:34:19.996714Z",
          "iopub.status.busy": "2022-07-09T19:34:19.996435Z",
          "iopub.status.idle": "2022-07-09T19:34:21.256920Z",
          "shell.execute_reply": "2022-07-09T19:34:21.255439Z",
          "shell.execute_reply.started": "2022-07-09T19:34:19.996688Z"
        },
        "id": "aD52oZsKjnI_",
        "colab": {
          "base_uri": "https://localhost:8080/",
          "height": 422
        },
        "outputId": "682fd461-b073-4f60-c3b3-f0cff8ec397c"
      },
      "outputs": [
        {
          "output_type": "execute_result",
          "data": {
            "image/png": "[encoded data removed]",
            "text/plain": [
              "<IPython.core.display.Image object>"
            ]
          },
          "metadata": {},
          "execution_count": 45
        }
      ],
      "source": [
        "plot_model(nn_model, to_file='nn_model.png', show_shapes=True)"
      ]
    },
    {
      "cell_type": "code",
      "execution_count": 46,
      "metadata": {
        "execution": {
          "iopub.execute_input": "2022-07-09T19:34:21.259911Z",
          "iopub.status.busy": "2022-07-09T19:34:21.259025Z",
          "iopub.status.idle": "2022-07-09T19:34:21.280415Z",
          "shell.execute_reply": "2022-07-09T19:34:21.279305Z",
          "shell.execute_reply.started": "2022-07-09T19:34:21.259868Z"
        },
        "id": "_x48B1yfjnI_"
      },
      "outputs": [],
      "source": [
        "nn_model.compile(optimizer=optimizers.Adam(),\n",
        "              loss=losses.binary_crossentropy,\n",
        "              metrics=[metrics.binary_accuracy])"
      ]
    },
    {
      "cell_type": "code",
      "execution_count": 47,
      "metadata": {
        "execution": {
          "iopub.execute_input": "2022-07-09T19:34:21.283135Z",
          "iopub.status.busy": "2022-07-09T19:34:21.282656Z",
          "iopub.status.idle": "2022-07-09T19:34:38.591874Z",
          "shell.execute_reply": "2022-07-09T19:34:38.590261Z",
          "shell.execute_reply.started": "2022-07-09T19:34:21.283069Z"
        },
        "id": "2OvnB3DYjnI_",
        "colab": {
          "base_uri": "https://localhost:8080/"
        },
        "outputId": "ce6a492e-2e95-4845-95a3-d3a36a592cdf"
      },
      "outputs": [
        {
          "output_type": "stream",
          "name": "stdout",
          "text": [
            "Epoch 1/10\n",
            "250/250 [==============================] - 5s 7ms/step - loss: 0.2429 - binary_accuracy: 0.9552 - val_loss: 0.0885 - val_binary_accuracy: 0.9726\n",
            "Epoch 2/10\n",
            "250/250 [==============================] - 1s 6ms/step - loss: 0.0704 - binary_accuracy: 0.9778 - val_loss: 0.0647 - val_binary_accuracy: 0.9792\n",
            "Epoch 3/10\n",
            "250/250 [==============================] - 1s 5ms/step - loss: 0.0619 - binary_accuracy: 0.9798 - val_loss: 0.0626 - val_binary_accuracy: 0.9798\n",
            "Epoch 4/10\n",
            "250/250 [==============================] - 1s 5ms/step - loss: 0.0602 - binary_accuracy: 0.9803 - val_loss: 0.0615 - val_binary_accuracy: 0.9801\n",
            "Epoch 5/10\n",
            "250/250 [==============================] - 1s 6ms/step - loss: 0.0590 - binary_accuracy: 0.9805 - val_loss: 0.0607 - val_binary_accuracy: 0.9803\n",
            "Epoch 6/10\n",
            "250/250 [==============================] - 1s 5ms/step - loss: 0.0580 - binary_accuracy: 0.9806 - val_loss: 0.0600 - val_binary_accuracy: 0.9804\n",
            "Epoch 7/10\n",
            "250/250 [==============================] - 1s 6ms/step - loss: 0.0571 - binary_accuracy: 0.9809 - val_loss: 0.0595 - val_binary_accuracy: 0.9806\n",
            "Epoch 8/10\n",
            "250/250 [==============================] - 1s 5ms/step - loss: 0.0564 - binary_accuracy: 0.9810 - val_loss: 0.0592 - val_binary_accuracy: 0.9808\n",
            "Epoch 9/10\n",
            "250/250 [==============================] - 1s 5ms/step - loss: 0.0559 - binary_accuracy: 0.9812 - val_loss: 0.0589 - val_binary_accuracy: 0.9809\n",
            "Epoch 10/10\n",
            "250/250 [==============================] - 1s 6ms/step - loss: 0.0554 - binary_accuracy: 0.9814 - val_loss: 0.0588 - val_binary_accuracy: 0.9809\n"
          ]
        }
      ],
      "source": [
        "history = nn_model.fit(x_train,\n",
        "                    y_train,\n",
        "                    epochs=10,\n",
        "                    batch_size=512,\n",
        "                    validation_data=(x_val, y_val))"
      ]
    },
    {
      "cell_type": "code",
      "execution_count": 48,
      "metadata": {
        "execution": {
          "iopub.execute_input": "2022-07-09T19:34:38.594768Z",
          "iopub.status.busy": "2022-07-09T19:34:38.594381Z",
          "iopub.status.idle": "2022-07-09T19:34:38.884446Z",
          "shell.execute_reply": "2022-07-09T19:34:38.883191Z",
          "shell.execute_reply.started": "2022-07-09T19:34:38.594729Z"
        },
        "id": "Kzqgbww9jnI_",
        "colab": {
          "base_uri": "https://localhost:8080/",
          "height": 295
        },
        "outputId": "4e3455b2-a65e-49ed-dfd5-1e2ee9327b10"
      },
      "outputs": [
        {
          "output_type": "display_data",
          "data": {
            "text/plain": [
              "<Figure size 432x288 with 1 Axes>"
            ],
            "image/png": "[encoded data removed]"
          },
          "metadata": {
            "needs_background": "light"
          }
        }
      ],
      "source": [
        "loss = history.history['loss']\n",
        "val_loss = history.history['val_loss']\n",
        "\n",
        "epochs = range(1, len(loss) + 1)\n",
        "\n",
        "plt.plot(epochs, loss, 'bo', label='Training loss')\n",
        "plt.plot(epochs, val_loss, 'b', label='Validation loss')\n",
        "plt.title('Training and validation loss')\n",
        "plt.xlabel('Epochs')\n",
        "plt.ylabel('Loss')\n",
        "plt.legend()\n",
        "\n",
        "plt.show()"
      ]
    },
    {
      "cell_type": "code",
      "execution_count": 49,
      "metadata": {
        "execution": {
          "iopub.execute_input": "2022-07-09T19:34:38.886921Z",
          "iopub.status.busy": "2022-07-09T19:34:38.886460Z",
          "iopub.status.idle": "2022-07-09T19:34:39.098285Z",
          "shell.execute_reply": "2022-07-09T19:34:39.097000Z",
          "shell.execute_reply.started": "2022-07-09T19:34:38.886874Z"
        },
        "id": "yQtWGoQwjnI_",
        "colab": {
          "base_uri": "https://localhost:8080/",
          "height": 295
        },
        "outputId": "cba536a5-d526-4fcf-84b6-0e3679032bb8"
      },
      "outputs": [
        {
          "output_type": "display_data",
          "data": {
            "text/plain": [
              "<Figure size 432x288 with 1 Axes>"
            ],
            "image/png": "[encoded data removed]"
          },
          "metadata": {
            "needs_background": "light"
          }
        }
      ],
      "source": [
        "plt.clf()\n",
        "\n",
        "acc = history.history['binary_accuracy']\n",
        "val_acc = history.history['val_binary_accuracy']\n",
        "\n",
        "plt.plot(epochs, acc, 'bo', label='Training acc')\n",
        "plt.plot(epochs, val_acc, 'b', label='Validation acc')\n",
        "plt.title('Training and validation accuracy')\n",
        "plt.xlabel('Epochs')\n",
        "plt.ylabel('Accuracy')\n",
        "plt.legend()\n",
        "\n",
        "plt.show()"
      ]
    },
    {
      "cell_type": "code",
      "execution_count": 50,
      "metadata": {
        "execution": {
          "iopub.execute_input": "2022-07-09T19:34:39.100159Z",
          "iopub.status.busy": "2022-07-09T19:34:39.099684Z",
          "iopub.status.idle": "2022-07-09T19:34:45.821670Z",
          "shell.execute_reply": "2022-07-09T19:34:45.820657Z",
          "shell.execute_reply.started": "2022-07-09T19:34:39.100060Z"
        },
        "id": "eWsNdzF_jnI_"
      },
      "outputs": [],
      "source": [
        "preds = pd.DataFrame(nn_model.predict(x_test), index=test.index, columns=target_cols)"
      ]
    },
    {
      "cell_type": "code",
      "execution_count": 51,
      "metadata": {
        "execution": {
          "iopub.execute_input": "2022-07-09T19:34:45.824533Z",
          "iopub.status.busy": "2022-07-09T19:34:45.823424Z",
          "iopub.status.idle": "2022-07-09T19:34:45.846207Z",
          "shell.execute_reply": "2022-07-09T19:34:45.845041Z",
          "shell.execute_reply.started": "2022-07-09T19:34:45.824487Z"
        },
        "id": "QThVTl1_jnJA",
        "colab": {
          "base_uri": "https://localhost:8080/",
          "height": 455
        },
        "outputId": "69477c10-bd42-4913-eb0f-57bc1f082158"
      },
      "outputs": [
        {
          "output_type": "execute_result",
          "data": {
            "text/plain": [
              "                     toxic  severe_toxic   obscene    threat    insult  \\\n",
              "id                                                                       \n",
              "00001cee341fdb12  0.993785      0.345389  0.977582  0.045365  0.911712   \n",
              "0000247867823ef7  0.005100      0.000075  0.000603  0.000141  0.001573   \n",
              "00013b17ad220c46  0.010648      0.000188  0.002866  0.000318  0.003538   \n",
              "00017563c3f7919a  0.003619      0.000047  0.001078  0.000076  0.001635   \n",
              "00017695ad8997eb  0.021331      0.000286  0.003730  0.000507  0.005966   \n",
              "...                    ...           ...       ...       ...       ...   \n",
              "fffcd0960ee309b5  0.552106      0.001887  0.119785  0.001491  0.075318   \n",
              "fffd7a9a6eb32c16  0.087020      0.001134  0.017768  0.001587  0.020310   \n",
              "fffda9e8d6fafa9e  0.001107      0.000028  0.000567  0.000040  0.000739   \n",
              "fffe8f1340a79fc2  0.047952      0.002088  0.009209  0.003084  0.027149   \n",
              "ffffce3fb183ee80  0.860234      0.004375  0.658079  0.002125  0.103750   \n",
              "\n",
              "                  identity_hate  \n",
              "id                               \n",
              "00001cee341fdb12       0.242051  \n",
              "0000247867823ef7       0.000484  \n",
              "00013b17ad220c46       0.000566  \n",
              "00017563c3f7919a       0.000208  \n",
              "00017695ad8997eb       0.001031  \n",
              "...                         ...  \n",
              "fffcd0960ee309b5       0.002113  \n",
              "fffd7a9a6eb32c16       0.002255  \n",
              "fffda9e8d6fafa9e       0.000149  \n",
              "fffe8f1340a79fc2       0.016906  \n",
              "ffffce3fb183ee80       0.001072  \n",
              "\n",
              "[153164 rows x 6 columns]"
            ],
            "text/html": [
              "\n",
              "  <div id=\"df-27708250-1e48-473a-84af-d52efa217b16\">\n",
              "    <div class=\"colab-df-container\">\n",
              "      <div>\n",
              "<style scoped>\n",
              "    .dataframe tbody tr th:only-of-type {\n",
              "        vertical-align: middle;\n",
              "    }\n",
              "\n",
              "    .dataframe tbody tr th {\n",
              "        vertical-align: top;\n",
              "    }\n",
              "\n",
              "    .dataframe thead th {\n",
              "        text-align: right;\n",
              "    }\n",
              "</style>\n",
              "<table border=\"1\" class=\"dataframe\">\n",
              "  <thead>\n",
              "    <tr style=\"text-align: right;\">\n",
              "      <th></th>\n",
              "      <th>toxic</th>\n",
              "      <th>severe_toxic</th>\n",
              "      <th>obscene</th>\n",
              "      <th>threat</th>\n",
              "      <th>insult</th>\n",
              "      <th>identity_hate</th>\n",
              "    </tr>\n",
              "    <tr>\n",
              "      <th>id</th>\n",
              "      <th></th>\n",
              "      <th></th>\n",
              "      <th></th>\n",
              "      <th></th>\n",
              "      <th></th>\n",
              "      <th></th>\n",
              "    </tr>\n",
              "  </thead>\n",
              "  <tbody>\n",
              "    <tr>\n",
              "      <th>00001cee341fdb12</th>\n",
              "      <td>0.993785</td>\n",
              "      <td>0.345389</td>\n",
              "      <td>0.977582</td>\n",
              "      <td>0.045365</td>\n",
              "      <td>0.911712</td>\n",
              "      <td>0.242051</td>\n",
              "    </tr>\n",
              "    <tr>\n",
              "      <th>0000247867823ef7</th>\n",
              "      <td>0.005100</td>\n",
              "      <td>0.000075</td>\n",
              "      <td>0.000603</td>\n",
              "      <td>0.000141</td>\n",
              "      <td>0.001573</td>\n",
              "      <td>0.000484</td>\n",
              "    </tr>\n",
              "    <tr>\n",
              "      <th>00013b17ad220c46</th>\n",
              "      <td>0.010648</td>\n",
              "      <td>0.000188</td>\n",
              "      <td>0.002866</td>\n",
              "      <td>0.000318</td>\n",
              "      <td>0.003538</td>\n",
              "      <td>0.000566</td>\n",
              "    </tr>\n",
              "    <tr>\n",
              "      <th>00017563c3f7919a</th>\n",
              "      <td>0.003619</td>\n",
              "      <td>0.000047</td>\n",
              "      <td>0.001078</td>\n",
              "      <td>0.000076</td>\n",
              "      <td>0.001635</td>\n",
              "      <td>0.000208</td>\n",
              "    </tr>\n",
              "    <tr>\n",
              "      <th>00017695ad8997eb</th>\n",
              "      <td>0.021331</td>\n",
              "      <td>0.000286</td>\n",
              "      <td>0.003730</td>\n",
              "      <td>0.000507</td>\n",
              "      <td>0.005966</td>\n",
              "      <td>0.001031</td>\n",
              "    </tr>\n",
              "    <tr>\n",
              "      <th>...</th>\n",
              "      <td>...</td>\n",
              "      <td>...</td>\n",
              "      <td>...</td>\n",
              "      <td>...</td>\n",
              "      <td>...</td>\n",
              "      <td>...</td>\n",
              "    </tr>\n",
              "    <tr>\n",
              "      <th>fffcd0960ee309b5</th>\n",
              "      <td>0.552106</td>\n",
              "      <td>0.001887</td>\n",
              "      <td>0.119785</td>\n",
              "      <td>0.001491</td>\n",
              "      <td>0.075318</td>\n",
              "      <td>0.002113</td>\n",
              "    </tr>\n",
              "    <tr>\n",
              "      <th>fffd7a9a6eb32c16</th>\n",
              "      <td>0.087020</td>\n",
              "      <td>0.001134</td>\n",
              "      <td>0.017768</td>\n",
              "      <td>0.001587</td>\n",
              "      <td>0.020310</td>\n",
              "      <td>0.002255</td>\n",
              "    </tr>\n",
              "    <tr>\n",
              "      <th>fffda9e8d6fafa9e</th>\n",
              "      <td>0.001107</td>\n",
              "      <td>0.000028</td>\n",
              "      <td>0.000567</td>\n",
              "      <td>0.000040</td>\n",
              "      <td>0.000739</td>\n",
              "      <td>0.000149</td>\n",
              "    </tr>\n",
              "    <tr>\n",
              "      <th>fffe8f1340a79fc2</th>\n",
              "      <td>0.047952</td>\n",
              "      <td>0.002088</td>\n",
              "      <td>0.009209</td>\n",
              "      <td>0.003084</td>\n",
              "      <td>0.027149</td>\n",
              "      <td>0.016906</td>\n",
              "    </tr>\n",
              "    <tr>\n",
              "      <th>ffffce3fb183ee80</th>\n",
              "      <td>0.860234</td>\n",
              "      <td>0.004375</td>\n",
              "      <td>0.658079</td>\n",
              "      <td>0.002125</td>\n",
              "      <td>0.103750</td>\n",
              "      <td>0.001072</td>\n",
              "    </tr>\n",
              "  </tbody>\n",
              "</table>\n",
              "<p>153164 rows × 6 columns</p>\n",
              "</div>\n",
              "      <button class=\"colab-df-convert\" onclick=\"convertToInteractive('df-27708250-1e48-473a-84af-d52efa217b16')\"\n",
              "              title=\"Convert this dataframe to an interactive table.\"\n",
              "              style=\"display:none;\">\n",
              "        \n",
              "  <svg xmlns=\"http://www.w3.org/2000/svg\" height=\"24px\"viewBox=\"0 0 24 24\"\n",
              "       width=\"24px\">\n",
              "    <path d=\"M0 0h24v24H0V0z\" fill=\"none\"/>\n",
              "    <path d=\"M18.56 5.44l.94 2.06.94-2.06 2.06-.94-2.06-.94-.94-2.06-.94 2.06-2.06.94zm-11 1L8.5 8.5l.94-2.06 2.06-.94-2.06-.94L8.5 2.5l-.94 2.06-2.06.94zm10 10l.94 2.06.94-2.06 2.06-.94-2.06-.94-.94-2.06-.94 2.06-2.06.94z\"/><path d=\"M17.41 7.96l-1.37-1.37c-.4-.4-.92-.59-1.43-.59-.52 0-1.04.2-1.43.59L10.3 9.45l-7.72 7.72c-.78.78-.78 2.05 0 2.83L4 21.41c.39.39.9.59 1.41.59.51 0 1.02-.2 1.41-.59l7.78-7.78 2.81-2.81c.8-.78.8-2.07 0-2.86zM5.41 20L4 18.59l7.72-7.72 1.47 1.35L5.41 20z\"/>\n",
              "  </svg>\n",
              "      </button>\n",
              "      \n",
              "  <style>\n",
              "    .colab-df-container {\n",
              "      display:flex;\n",
              "      flex-wrap:wrap;\n",
              "      gap: 12px;\n",
              "    }\n",
              "\n",
              "    .colab-df-convert {\n",
              "      background-color: #E8F0FE;\n",
              "      border: none;\n",
              "      border-radius: 50%;\n",
              "      cursor: pointer;\n",
              "      display: none;\n",
              "      fill: #1967D2;\n",
              "      height: 32px;\n",
              "      padding: 0 0 0 0;\n",
              "      width: 32px;\n",
              "    }\n",
              "\n",
              "    .colab-df-convert:hover {\n",
              "      background-color: #E2EBFA;\n",
              "      box-shadow: 0px 1px 2px rgba(60, 64, 67, 0.3), 0px 1px 3px 1px rgba(60, 64, 67, 0.15);\n",
              "      fill: #174EA6;\n",
              "    }\n",
              "\n",
              "    [theme=dark] .colab-df-convert {\n",
              "      background-color: #3B4455;\n",
              "      fill: #D2E3FC;\n",
              "    }\n",
              "\n",
              "    [theme=dark] .colab-df-convert:hover {\n",
              "      background-color: #434B5C;\n",
              "      box-shadow: 0px 1px 3px 1px rgba(0, 0, 0, 0.15);\n",
              "      filter: drop-shadow(0px 1px 2px rgba(0, 0, 0, 0.3));\n",
              "      fill: #FFFFFF;\n",
              "    }\n",
              "  </style>\n",
              "\n",
              "      <script>\n",
              "        const buttonEl =\n",
              "          document.querySelector('#df-27708250-1e48-473a-84af-d52efa217b16 button.colab-df-convert');\n",
              "        buttonEl.style.display =\n",
              "          google.colab.kernel.accessAllowed ? 'block' : 'none';\n",
              "\n",
              "        async function convertToInteractive(key) {\n",
              "          const element = document.querySelector('#df-27708250-1e48-473a-84af-d52efa217b16');\n",
              "          const dataTable =\n",
              "            await google.colab.kernel.invokeFunction('convertToInteractive',\n",
              "                                                     [key], {});\n",
              "          if (!dataTable) return;\n",
              "\n",
              "          const docLinkHtml = 'Like what you see? Visit the ' +\n",
              "            '<a target=\"_blank\" href=https://colab.research.google.com/notebooks/data_table.ipynb>data table notebook</a>'\n",
              "            + ' to learn more about interactive tables.';\n",
              "          element.innerHTML = '';\n",
              "          dataTable['output_type'] = 'display_data';\n",
              "          await google.colab.output.renderOutput(dataTable, element);\n",
              "          const docLink = document.createElement('div');\n",
              "          docLink.innerHTML = docLinkHtml;\n",
              "          element.appendChild(docLink);\n",
              "        }\n",
              "      </script>\n",
              "    </div>\n",
              "  </div>\n",
              "  "
            ]
          },
          "metadata": {},
          "execution_count": 51
        }
      ],
      "source": [
        "preds"
      ]
    },
    {
      "cell_type": "code",
      "execution_count": 52,
      "metadata": {
        "execution": {
          "iopub.execute_input": "2022-07-09T19:34:45.849436Z",
          "iopub.status.busy": "2022-07-09T19:34:45.847763Z",
          "iopub.status.idle": "2022-07-09T19:34:47.298585Z",
          "shell.execute_reply": "2022-07-09T19:34:47.297539Z",
          "shell.execute_reply.started": "2022-07-09T19:34:45.849384Z"
        },
        "id": "UZjJ06nujnJA"
      },
      "outputs": [],
      "source": [
        "preds.to_csv('FFNN2_submission.csv')"
      ]
    },
    {
      "cell_type": "markdown",
      "metadata": {
        "id": "ZUD_o2tgV4V_"
      },
      "source": [
        "### **4.2 Sequential Models with Word Embeddings Text Representation**"
      ]
    },
    {
      "cell_type": "code",
      "execution_count": 53,
      "metadata": {
        "execution": {
          "iopub.execute_input": "2022-07-09T19:34:47.300488Z",
          "iopub.status.busy": "2022-07-09T19:34:47.300009Z",
          "iopub.status.idle": "2022-07-09T19:35:00.252398Z",
          "shell.execute_reply": "2022-07-09T19:35:00.251020Z",
          "shell.execute_reply.started": "2022-07-09T19:34:47.300444Z"
        },
        "id": "svwwO4x3V4WA",
        "colab": {
          "base_uri": "https://localhost:8080/"
        },
        "outputId": "7e22d896-3985-496b-b02b-140db5e24da7"
      },
      "outputs": [
        {
          "output_type": "execute_result",
          "data": {
            "text/plain": [
              "262565"
            ]
          },
          "metadata": {},
          "execution_count": 53
        }
      ],
      "source": [
        "tokenizer = Tokenizer()\n",
        "tokenizer.fit_on_texts(pd.concat([train.comment, test.comment], axis=0))\n",
        "vocab_size = len(tokenizer.word_index) + 1\n",
        "vocab_size"
      ]
    },
    {
      "cell_type": "code",
      "execution_count": 54,
      "metadata": {
        "execution": {
          "iopub.execute_input": "2022-07-09T19:35:00.255471Z",
          "iopub.status.busy": "2022-07-09T19:35:00.255057Z",
          "iopub.status.idle": "2022-07-09T19:35:09.886884Z",
          "shell.execute_reply": "2022-07-09T19:35:09.885472Z",
          "shell.execute_reply.started": "2022-07-09T19:35:00.255439Z"
        },
        "id": "TgBA7oXWV4WB"
      },
      "outputs": [],
      "source": [
        "x_train = tokenizer.texts_to_sequences(x_train_df)\n",
        "x_val = tokenizer.texts_to_sequences(x_val_df)\n",
        "x_test = tokenizer.texts_to_sequences(x_test_df)"
      ]
    },
    {
      "cell_type": "code",
      "execution_count": 55,
      "metadata": {
        "execution": {
          "iopub.execute_input": "2022-07-09T19:35:09.888945Z",
          "iopub.status.busy": "2022-07-09T19:35:09.888586Z",
          "iopub.status.idle": "2022-07-09T19:35:09.905476Z",
          "shell.execute_reply": "2022-07-09T19:35:09.904256Z",
          "shell.execute_reply.started": "2022-07-09T19:35:09.888914Z"
        },
        "id": "m4xsXPBDV4WB",
        "colab": {
          "base_uri": "https://localhost:8080/"
        },
        "outputId": "69371b00-a9db-442e-8ab1-e849b7d11e20"
      },
      "outputs": [
        {
          "output_type": "execute_result",
          "data": {
            "text/plain": [
              "1250"
            ]
          },
          "metadata": {},
          "execution_count": 55
        }
      ],
      "source": [
        "max_length = len(max(x_train, key=len))\n",
        "max_length"
      ]
    },
    {
      "cell_type": "code",
      "execution_count": 56,
      "metadata": {
        "execution": {
          "iopub.execute_input": "2022-07-09T19:35:09.908640Z",
          "iopub.status.busy": "2022-07-09T19:35:09.907389Z",
          "iopub.status.idle": "2022-07-09T19:35:12.120119Z",
          "shell.execute_reply": "2022-07-09T19:35:12.118929Z",
          "shell.execute_reply.started": "2022-07-09T19:35:09.908591Z"
        },
        "id": "tcCByxsyV4WC"
      },
      "outputs": [],
      "source": [
        "max_length = 200\n",
        "x_train = pad_sequences(x_train, maxlen=max_length, padding='post', truncating='post')\n",
        "x_val = pad_sequences(x_val, maxlen=max_length, padding='post', truncating='post')\n",
        "x_test = pad_sequences(x_test, maxlen=max_length, padding='post', truncating='post')"
      ]
    },
    {
      "cell_type": "markdown",
      "metadata": {
        "id": "NxJquI2KV4WD"
      },
      "source": [
        "#### **4.2.1 Simple RNN Model**"
      ]
    },
    {
      "cell_type": "code",
      "execution_count": 57,
      "metadata": {
        "execution": {
          "iopub.execute_input": "2022-07-09T19:35:12.121700Z",
          "iopub.status.busy": "2022-07-09T19:35:12.121377Z",
          "iopub.status.idle": "2022-07-09T19:35:12.251503Z",
          "shell.execute_reply": "2022-07-09T19:35:12.250313Z",
          "shell.execute_reply.started": "2022-07-09T19:35:12.121670Z"
        },
        "id": "PRzIUTlaV4WE",
        "colab": {
          "base_uri": "https://localhost:8080/"
        },
        "outputId": "eaa486ad-1eef-45b2-d40f-84a9b295b430"
      },
      "outputs": [
        {
          "output_type": "stream",
          "name": "stdout",
          "text": [
            "Model: \"sequential_1\"\n",
            "_________________________________________________________________\n",
            " Layer (type)                Output Shape              Param #   \n",
            "=================================================================\n",
            " embedding (Embedding)       (None, 200, 8)            2100520   \n",
            "                                                                 \n",
            " simple_rnn (SimpleRNN)      (None, 8)                 136       \n",
            "                                                                 \n",
            " dense_3 (Dense)             (None, 16)                144       \n",
            "                                                                 \n",
            " dense_4 (Dense)             (None, 6)                 102       \n",
            "                                                                 \n",
            "=================================================================\n",
            "Total params: 2,100,902\n",
            "Trainable params: 2,100,902\n",
            "Non-trainable params: 0\n",
            "_________________________________________________________________\n"
          ]
        }
      ],
      "source": [
        "rnn_model = models.Sequential()\n",
        "rnn_model.add(layers.Embedding(vocab_size, 8, input_length=max_length))\n",
        "rnn_model.add(layers.SimpleRNN(8))\n",
        "rnn_model.add(layers.Dense(16, activation='relu'))\n",
        "rnn_model.add(layers.Dense(6, activation='sigmoid'))\n",
        "rnn_model.summary()"
      ]
    },
    {
      "cell_type": "code",
      "execution_count": 58,
      "metadata": {
        "execution": {
          "iopub.execute_input": "2022-07-09T19:35:12.253280Z",
          "iopub.status.busy": "2022-07-09T19:35:12.252932Z",
          "iopub.status.idle": "2022-07-09T19:35:12.843194Z",
          "shell.execute_reply": "2022-07-09T19:35:12.841860Z",
          "shell.execute_reply.started": "2022-07-09T19:35:12.253249Z"
        },
        "id": "o1OA4D4LV4WF",
        "colab": {
          "base_uri": "https://localhost:8080/",
          "height": 533
        },
        "outputId": "df202081-ff2c-4da9-9e68-d95e93cdaea8"
      },
      "outputs": [
        {
          "output_type": "execute_result",
          "data": {
            "image/png": "[encoded data removed]",
            "text/plain": [
              "<IPython.core.display.Image object>"
            ]
          },
          "metadata": {},
          "execution_count": 58
        }
      ],
      "source": [
        "plot_model(rnn_model, to_file='rnn_model.png', show_shapes=True)"
      ]
    },
    {
      "cell_type": "code",
      "execution_count": 59,
      "metadata": {
        "execution": {
          "iopub.execute_input": "2022-07-09T19:35:12.845737Z",
          "iopub.status.busy": "2022-07-09T19:35:12.845371Z",
          "iopub.status.idle": "2022-07-09T19:35:12.860564Z",
          "shell.execute_reply": "2022-07-09T19:35:12.859342Z",
          "shell.execute_reply.started": "2022-07-09T19:35:12.845701Z"
        },
        "id": "sYWa5mvOV4WG"
      },
      "outputs": [],
      "source": [
        "rnn_model.compile(optimizer=optimizers.Adam(),\n",
        "              loss=losses.binary_crossentropy,\n",
        "              metrics=[metrics.binary_accuracy])"
      ]
    },
    {
      "cell_type": "code",
      "execution_count": 60,
      "metadata": {
        "execution": {
          "iopub.execute_input": "2022-07-09T19:35:12.862750Z",
          "iopub.status.busy": "2022-07-09T19:35:12.862246Z",
          "iopub.status.idle": "2022-07-09T19:39:00.905212Z",
          "shell.execute_reply": "2022-07-09T19:39:00.904190Z",
          "shell.execute_reply.started": "2022-07-09T19:35:12.862720Z"
        },
        "id": "QjrYqyOMV4WH",
        "colab": {
          "base_uri": "https://localhost:8080/"
        },
        "outputId": "d043fc6e-4d1f-444c-bd25-275b68f8874a"
      },
      "outputs": [
        {
          "output_type": "stream",
          "name": "stdout",
          "text": [
            "Epoch 1/10\n",
            "250/250 [==============================] - 50s 194ms/step - loss: 0.2993 - binary_accuracy: 0.8996 - val_loss: 0.1316 - val_binary_accuracy: 0.9618\n",
            "Epoch 2/10\n",
            "250/250 [==============================] - 63s 253ms/step - loss: 0.1052 - binary_accuracy: 0.9695 - val_loss: 0.0958 - val_binary_accuracy: 0.9734\n",
            "Epoch 3/10\n",
            "250/250 [==============================] - 53s 210ms/step - loss: 0.0798 - binary_accuracy: 0.9761 - val_loss: 0.0929 - val_binary_accuracy: 0.9729\n",
            "Epoch 4/10\n",
            "250/250 [==============================] - 49s 194ms/step - loss: 0.0683 - binary_accuracy: 0.9785 - val_loss: 0.0954 - val_binary_accuracy: 0.9725\n",
            "Epoch 5/10\n",
            "250/250 [==============================] - 53s 213ms/step - loss: 0.0612 - binary_accuracy: 0.9802 - val_loss: 0.1005 - val_binary_accuracy: 0.9694\n",
            "Epoch 6/10\n",
            "250/250 [==============================] - 49s 194ms/step - loss: 0.0571 - binary_accuracy: 0.9813 - val_loss: 0.1012 - val_binary_accuracy: 0.9697\n",
            "Epoch 7/10\n",
            "250/250 [==============================] - 53s 212ms/step - loss: 0.0540 - binary_accuracy: 0.9822 - val_loss: 0.1084 - val_binary_accuracy: 0.9664\n",
            "Epoch 8/10\n",
            "250/250 [==============================] - 48s 193ms/step - loss: 0.0509 - binary_accuracy: 0.9831 - val_loss: 0.1095 - val_binary_accuracy: 0.9670\n",
            "Epoch 9/10\n",
            "250/250 [==============================] - 48s 193ms/step - loss: 0.0492 - binary_accuracy: 0.9836 - val_loss: 0.1217 - val_binary_accuracy: 0.9613\n",
            "Epoch 10/10\n",
            "250/250 [==============================] - 50s 199ms/step - loss: 0.0490 - binary_accuracy: 0.9835 - val_loss: 0.1127 - val_binary_accuracy: 0.9665\n"
          ]
        }
      ],
      "source": [
        "history = rnn_model.fit(x_train,\n",
        "                    y_train,\n",
        "                    epochs=10,\n",
        "                    batch_size=512,\n",
        "                    validation_data=(x_val, y_val))"
      ]
    },
    {
      "cell_type": "code",
      "execution_count": 61,
      "metadata": {
        "execution": {
          "iopub.execute_input": "2022-07-09T19:39:00.909376Z",
          "iopub.status.busy": "2022-07-09T19:39:00.908818Z",
          "iopub.status.idle": "2022-07-09T19:39:01.140461Z",
          "shell.execute_reply": "2022-07-09T19:39:01.139120Z",
          "shell.execute_reply.started": "2022-07-09T19:39:00.909325Z"
        },
        "id": "Q4nrPfAPV4WI",
        "colab": {
          "base_uri": "https://localhost:8080/",
          "height": 295
        },
        "outputId": "61a2d24c-07a5-4ed2-9146-0d4a0327f542"
      },
      "outputs": [
        {
          "output_type": "display_data",
          "data": {
            "text/plain": [
              "<Figure size 432x288 with 1 Axes>"
            ],
            "image/png": "[encoded data removed]"
          },
          "metadata": {
            "needs_background": "light"
          }
        }
      ],
      "source": [
        "loss = history.history['loss']\n",
        "val_loss = history.history['val_loss']\n",
        "\n",
        "epochs = range(1, len(loss) + 1)\n",
        "\n",
        "plt.plot(epochs, loss, 'bo', label='Training loss')\n",
        "plt.plot(epochs, val_loss, 'b', label='Validation loss')\n",
        "plt.title('Training and validation loss')\n",
        "plt.xlabel('Epochs')\n",
        "plt.ylabel('Loss')\n",
        "plt.legend()\n",
        "\n",
        "plt.show()"
      ]
    },
    {
      "cell_type": "code",
      "execution_count": 62,
      "metadata": {
        "execution": {
          "iopub.execute_input": "2022-07-09T19:39:01.142602Z",
          "iopub.status.busy": "2022-07-09T19:39:01.142214Z",
          "iopub.status.idle": "2022-07-09T19:39:01.364501Z",
          "shell.execute_reply": "2022-07-09T19:39:01.363349Z",
          "shell.execute_reply.started": "2022-07-09T19:39:01.142571Z"
        },
        "id": "AYlOQDc7V4WI",
        "colab": {
          "base_uri": "https://localhost:8080/",
          "height": 295
        },
        "outputId": "cec8d2bb-e9c5-41cd-d1b6-4bd40771bb5c"
      },
      "outputs": [
        {
          "output_type": "display_data",
          "data": {
            "text/plain": [
              "<Figure size 432x288 with 1 Axes>"
            ],
            "image/png": "[encoded data removed]"
          },
          "metadata": {
            "needs_background": "light"
          }
        }
      ],
      "source": [
        "plt.clf()\n",
        "\n",
        "acc = history.history['binary_accuracy']\n",
        "val_acc = history.history['val_binary_accuracy']\n",
        "\n",
        "plt.plot(epochs, acc, 'bo', label='Training acc')\n",
        "plt.plot(epochs, val_acc, 'b', label='Validation acc')\n",
        "plt.title('Training and validation accuracy')\n",
        "plt.xlabel('Epochs')\n",
        "plt.ylabel('Accuracy')\n",
        "plt.legend()\n",
        "\n",
        "plt.show()"
      ]
    },
    {
      "cell_type": "markdown",
      "metadata": {
        "id": "dyx0Zgbl4lLg"
      },
      "source": [
        "#### **4.2.2 LSTM Model**"
      ]
    },
    {
      "cell_type": "code",
      "execution_count": 64,
      "metadata": {
        "execution": {
          "iopub.execute_input": "2022-07-09T19:39:01.366229Z",
          "iopub.status.busy": "2022-07-09T19:39:01.365897Z",
          "iopub.status.idle": "2022-07-09T19:39:03.306023Z",
          "shell.execute_reply": "2022-07-09T19:39:03.304872Z",
          "shell.execute_reply.started": "2022-07-09T19:39:01.366199Z"
        },
        "id": "KXb7Xx3Bjsni",
        "colab": {
          "base_uri": "https://localhost:8080/"
        },
        "outputId": "4403ee36-f93e-4f8f-95f0-b711153ae6ea"
      },
      "outputs": [
        {
          "output_type": "stream",
          "name": "stdout",
          "text": [
            "Model: \"sequential_3\"\n",
            "_________________________________________________________________\n",
            " Layer (type)                Output Shape              Param #   \n",
            "=================================================================\n",
            " embedding_2 (Embedding)     (None, 200, 128)          33608320  \n",
            "                                                                 \n",
            " lstm_2 (LSTM)               (None, 200, 100)          91600     \n",
            "                                                                 \n",
            " lstm_3 (LSTM)               (None, 50)                30200     \n",
            "                                                                 \n",
            " dense_6 (Dense)             (None, 6)                 306       \n",
            "                                                                 \n",
            "=================================================================\n",
            "Total params: 33,730,426\n",
            "Trainable params: 33,730,426\n",
            "Non-trainable params: 0\n",
            "_________________________________________________________________\n"
          ]
        }
      ],
      "source": [
        "from tensorflow.keras.layers import Embedding\n",
        "from tensorflow.keras.layers import LSTM\n",
        "\n",
        "lstm_model = models.Sequential()\n",
        "lstm_model.add(Embedding(vocab_size, 128, input_length=max_length, mask_zero=True))\n",
        "lstm_model.add(LSTM(100, return_sequences=True))\n",
        "lstm_model.add(LSTM(50))\n",
        "\n",
        "lstm_model.add(layers.Dense(6, activation='sigmoid'))\n",
        "lstm_model.summary()"
      ]
    },
    {
      "cell_type": "code",
      "execution_count": 65,
      "metadata": {
        "execution": {
          "iopub.execute_input": "2022-07-09T19:39:03.308055Z",
          "iopub.status.busy": "2022-07-09T19:39:03.307759Z",
          "iopub.status.idle": "2022-07-09T19:39:03.532461Z",
          "shell.execute_reply": "2022-07-09T19:39:03.530924Z",
          "shell.execute_reply.started": "2022-07-09T19:39:03.308027Z"
        },
        "id": "T8e1qN6ipOxa",
        "colab": {
          "base_uri": "https://localhost:8080/",
          "height": 533
        },
        "outputId": "34883fdf-ef0e-46ba-9fdb-f28fa1bb8d6e"
      },
      "outputs": [
        {
          "output_type": "execute_result",
          "data": {
            "image/png": "[encoded data removed]",
            "text/plain": [
              "<IPython.core.display.Image object>"
            ]
          },
          "metadata": {},
          "execution_count": 65
        }
      ],
      "source": [
        "plot_model(lstm_model, to_file='LSTM_model.png', show_shapes=True)"
      ]
    },
    {
      "cell_type": "code",
      "execution_count": 66,
      "metadata": {
        "execution": {
          "iopub.execute_input": "2022-07-09T19:39:03.535048Z",
          "iopub.status.busy": "2022-07-09T19:39:03.534586Z",
          "iopub.status.idle": "2022-07-09T19:39:03.549498Z",
          "shell.execute_reply": "2022-07-09T19:39:03.548354Z",
          "shell.execute_reply.started": "2022-07-09T19:39:03.534996Z"
        },
        "id": "DFZUryTupTes"
      },
      "outputs": [],
      "source": [
        "lstm_model.compile(optimizer=optimizers.Adam(),\n",
        "              loss=losses.binary_crossentropy,\n",
        "              metrics=[metrics.binary_accuracy])"
      ]
    },
    {
      "cell_type": "code",
      "execution_count": 67,
      "metadata": {
        "execution": {
          "iopub.execute_input": "2022-07-09T19:39:03.551768Z",
          "iopub.status.busy": "2022-07-09T19:39:03.550975Z",
          "iopub.status.idle": "2022-07-09T21:27:53.000858Z",
          "shell.execute_reply": "2022-07-09T21:27:52.999710Z",
          "shell.execute_reply.started": "2022-07-09T19:39:03.551733Z"
        },
        "id": "uyht4tGWpVYq",
        "colab": {
          "base_uri": "https://localhost:8080/"
        },
        "outputId": "94d81dc3-0182-4cef-ac3c-8d074e2fe787"
      },
      "outputs": [
        {
          "output_type": "stream",
          "name": "stdout",
          "text": [
            "Epoch 1/5\n",
            "250/250 [==============================] - 108s 390ms/step - loss: 0.1601 - binary_accuracy: 0.9628 - val_loss: 0.1091 - val_binary_accuracy: 0.9667\n",
            "Epoch 2/5\n",
            "250/250 [==============================] - 94s 376ms/step - loss: 0.0747 - binary_accuracy: 0.9752 - val_loss: 0.0635 - val_binary_accuracy: 0.9781\n",
            "Epoch 3/5\n",
            "250/250 [==============================] - 95s 381ms/step - loss: 0.0511 - binary_accuracy: 0.9814 - val_loss: 0.0546 - val_binary_accuracy: 0.9800\n",
            "Epoch 4/5\n",
            "250/250 [==============================] - 91s 362ms/step - loss: 0.0432 - binary_accuracy: 0.9837 - val_loss: 0.0531 - val_binary_accuracy: 0.9805\n",
            "Epoch 5/5\n",
            "250/250 [==============================] - 92s 370ms/step - loss: 0.0391 - binary_accuracy: 0.9852 - val_loss: 0.0544 - val_binary_accuracy: 0.9807\n"
          ]
        }
      ],
      "source": [
        "history = lstm_model.fit(x_train,\n",
        "                    y_train,\n",
        "                    epochs=5,\n",
        "                    batch_size=512,\n",
        "                    validation_data=(x_val, y_val))"
      ]
    },
    {
      "cell_type": "code",
      "execution_count": 68,
      "metadata": {
        "execution": {
          "iopub.execute_input": "2022-07-09T21:27:53.004874Z",
          "iopub.status.busy": "2022-07-09T21:27:53.004501Z",
          "iopub.status.idle": "2022-07-09T21:27:53.229182Z",
          "shell.execute_reply": "2022-07-09T21:27:53.228019Z",
          "shell.execute_reply.started": "2022-07-09T21:27:53.004843Z"
        },
        "id": "KfNQQyVG3P5C",
        "colab": {
          "base_uri": "https://localhost:8080/",
          "height": 295
        },
        "outputId": "6f18f1c5-b79e-48ea-f6d7-f3a4cf86373d"
      },
      "outputs": [
        {
          "output_type": "display_data",
          "data": {
            "text/plain": [
              "<Figure size 432x288 with 1 Axes>"
            ],
            "image/png": "[encoded data removed]"
          },
          "metadata": {
            "needs_background": "light"
          }
        }
      ],
      "source": [
        "loss = history.history['loss']\n",
        "val_loss = history.history['val_loss']\n",
        "\n",
        "epochs = range(1, len(loss) + 1)\n",
        "\n",
        "plt.plot(epochs, loss, 'bo', label='Training loss')\n",
        "plt.plot(epochs, val_loss, 'b', label='Validation loss')\n",
        "plt.title('Training and validation loss')\n",
        "plt.xlabel('Epochs')\n",
        "plt.ylabel('Loss')\n",
        "plt.legend()\n",
        "\n",
        "plt.show()"
      ]
    },
    {
      "cell_type": "code",
      "execution_count": 69,
      "metadata": {
        "execution": {
          "iopub.execute_input": "2022-07-09T21:27:53.233313Z",
          "iopub.status.busy": "2022-07-09T21:27:53.232137Z",
          "iopub.status.idle": "2022-07-09T21:27:53.438078Z",
          "shell.execute_reply": "2022-07-09T21:27:53.437242Z",
          "shell.execute_reply.started": "2022-07-09T21:27:53.233274Z"
        },
        "id": "bwqvKLHB3U9N",
        "colab": {
          "base_uri": "https://localhost:8080/",
          "height": 295
        },
        "outputId": "1022654e-f2f8-463e-d300-dd8af4d54299"
      },
      "outputs": [
        {
          "output_type": "display_data",
          "data": {
            "text/plain": [
              "<Figure size 432x288 with 1 Axes>"
            ],
            "image/png": "[encoded data removed]"
          },
          "metadata": {
            "needs_background": "light"
          }
        }
      ],
      "source": [
        "plt.clf()\n",
        "\n",
        "acc = history.history['binary_accuracy']\n",
        "val_acc = history.history['val_binary_accuracy']\n",
        "\n",
        "plt.plot(epochs, acc, 'bo', label='Training acc')\n",
        "plt.plot(epochs, val_acc, 'b', label='Validation acc')\n",
        "plt.title('Training and validation accuracy')\n",
        "plt.xlabel('Epochs')\n",
        "plt.ylabel('Accuracy')\n",
        "plt.legend()\n",
        "\n",
        "plt.show()"
      ]
    },
    {
      "cell_type": "markdown",
      "metadata": {
        "id": "cysIJrR14piA"
      },
      "source": [
        "#### **4.2.3 Bi-LSTM Model**"
      ]
    },
    {
      "cell_type": "code",
      "execution_count": 70,
      "metadata": {
        "execution": {
          "iopub.execute_input": "2022-07-09T21:27:53.439793Z",
          "iopub.status.busy": "2022-07-09T21:27:53.439313Z",
          "iopub.status.idle": "2022-07-09T21:27:55.815513Z",
          "shell.execute_reply": "2022-07-09T21:27:55.814091Z",
          "shell.execute_reply.started": "2022-07-09T21:27:53.439761Z"
        },
        "id": "QGPqziHr3YKx",
        "colab": {
          "base_uri": "https://localhost:8080/"
        },
        "outputId": "3f55a2f5-1ce8-4130-bd1c-be23e7d85d61"
      },
      "outputs": [
        {
          "output_type": "stream",
          "name": "stdout",
          "text": [
            "Model: \"sequential_4\"\n",
            "_________________________________________________________________\n",
            " Layer (type)                Output Shape              Param #   \n",
            "=================================================================\n",
            " embedding_3 (Embedding)     (None, 200, 128)          33608320  \n",
            "                                                                 \n",
            " bidirectional (Bidirectiona  (None, 200)              183200    \n",
            " l)                                                              \n",
            "                                                                 \n",
            " dropout (Dropout)           (None, 200)               0         \n",
            "                                                                 \n",
            " dense_7 (Dense)             (None, 6)                 1206      \n",
            "                                                                 \n",
            "=================================================================\n",
            "Total params: 33,792,726\n",
            "Trainable params: 33,792,726\n",
            "Non-trainable params: 0\n",
            "_________________________________________________________________\n"
          ]
        }
      ],
      "source": [
        "Bilstm_model = models.Sequential()\n",
        "Bilstm_model.add(Embedding(vocab_size, 128, input_length=200, mask_zero=True))\n",
        "Bilstm_model.add(Bidirectional(LSTM(100)))\n",
        "Bilstm_model.add(Dropout(0.5))\n",
        "Bilstm_model.add(layers.Dense(6, activation='sigmoid'))\n",
        "Bilstm_model.summary()"
      ]
    },
    {
      "cell_type": "code",
      "execution_count": 71,
      "metadata": {
        "execution": {
          "iopub.execute_input": "2022-07-09T21:27:55.818071Z",
          "iopub.status.busy": "2022-07-09T21:27:55.817598Z",
          "iopub.status.idle": "2022-07-09T21:27:56.089356Z",
          "shell.execute_reply": "2022-07-09T21:27:56.087948Z",
          "shell.execute_reply.started": "2022-07-09T21:27:55.818023Z"
        },
        "id": "3AfCY9n34uHC",
        "colab": {
          "base_uri": "https://localhost:8080/",
          "height": 533
        },
        "outputId": "c2c95920-06f9-47ae-910a-8f9e956b90d4"
      },
      "outputs": [
        {
          "output_type": "execute_result",
          "data": {
            "image/png": "[encoded data removed]",
            "text/plain": [
              "<IPython.core.display.Image object>"
            ]
          },
          "metadata": {},
          "execution_count": 71
        }
      ],
      "source": [
        "plot_model(Bilstm_model, to_file='BiLSTM_model.png', show_shapes=True)"
      ]
    },
    {
      "cell_type": "code",
      "execution_count": 72,
      "metadata": {
        "execution": {
          "iopub.execute_input": "2022-07-09T21:27:56.091616Z",
          "iopub.status.busy": "2022-07-09T21:27:56.091226Z",
          "iopub.status.idle": "2022-07-09T21:27:56.106742Z",
          "shell.execute_reply": "2022-07-09T21:27:56.105523Z",
          "shell.execute_reply.started": "2022-07-09T21:27:56.091574Z"
        },
        "id": "Li_1ch5h4wS8"
      },
      "outputs": [],
      "source": [
        "Bilstm_model.compile(optimizer=optimizers.Adam(),\n",
        "              loss=losses.binary_crossentropy,\n",
        "              metrics=[metrics.binary_accuracy])"
      ]
    },
    {
      "cell_type": "code",
      "execution_count": 73,
      "metadata": {
        "execution": {
          "iopub.execute_input": "2022-07-09T21:27:56.109354Z",
          "iopub.status.busy": "2022-07-09T21:27:56.108195Z",
          "iopub.status.idle": "2022-07-09T21:43:09.999726Z",
          "shell.execute_reply": "2022-07-09T21:43:09.997765Z",
          "shell.execute_reply.started": "2022-07-09T21:27:56.109309Z"
        },
        "id": "9aV8knwQ4x9X",
        "colab": {
          "base_uri": "https://localhost:8080/"
        },
        "outputId": "0b5acacb-b219-4c34-e508-e24d60aab34c"
      },
      "outputs": [
        {
          "output_type": "stream",
          "name": "stdout",
          "text": [
            "Epoch 1/5\n",
            "250/250 [==============================] - 106s 393ms/step - loss: 0.1470 - binary_accuracy: 0.9646 - val_loss: 0.0878 - val_binary_accuracy: 0.9726\n",
            "Epoch 2/5\n",
            "250/250 [==============================] - 84s 335ms/step - loss: 0.0720 - binary_accuracy: 0.9765 - val_loss: 0.0643 - val_binary_accuracy: 0.9770\n",
            "Epoch 3/5\n",
            "250/250 [==============================] - 94s 379ms/step - loss: 0.0539 - binary_accuracy: 0.9806 - val_loss: 0.0581 - val_binary_accuracy: 0.9795\n",
            "Epoch 4/5\n",
            "250/250 [==============================] - 96s 386ms/step - loss: 0.0461 - binary_accuracy: 0.9831 - val_loss: 0.0573 - val_binary_accuracy: 0.9793\n",
            "Epoch 5/5\n",
            "250/250 [==============================] - 87s 344ms/step - loss: 0.0413 - binary_accuracy: 0.9846 - val_loss: 0.0567 - val_binary_accuracy: 0.9799\n"
          ]
        }
      ],
      "source": [
        "history = Bilstm_model.fit(x_train,\n",
        "                    y_train,\n",
        "                    epochs=5,\n",
        "                    batch_size=512,\n",
        "                    validation_data=(x_val, y_val))"
      ]
    },
    {
      "cell_type": "code",
      "execution_count": 74,
      "metadata": {
        "execution": {
          "iopub.status.busy": "2022-07-09T21:43:10.000947Z",
          "iopub.status.idle": "2022-07-09T21:43:10.001652Z",
          "shell.execute_reply": "2022-07-09T21:43:10.001443Z",
          "shell.execute_reply.started": "2022-07-09T21:43:10.001420Z"
        },
        "id": "OjWXqEW94zkY",
        "colab": {
          "base_uri": "https://localhost:8080/",
          "height": 295
        },
        "outputId": "004d9544-0407-4e4a-b33c-60fe50b72fd4"
      },
      "outputs": [
        {
          "output_type": "display_data",
          "data": {
            "text/plain": [
              "<Figure size 432x288 with 1 Axes>"
            ],
            "image/png": "[encoded data removed]"
          },
          "metadata": {
            "needs_background": "light"
          }
        }
      ],
      "source": [
        "loss = history.history['loss']\n",
        "val_loss = history.history['val_loss']\n",
        "\n",
        "epochs = range(1, len(loss) + 1)\n",
        "\n",
        "plt.plot(epochs, loss, 'bo', label='Training loss')\n",
        "plt.plot(epochs, val_loss, 'b', label='Validation loss')\n",
        "plt.title('Training and validation loss')\n",
        "plt.xlabel('Epochs')\n",
        "plt.ylabel('Loss')\n",
        "plt.legend()\n",
        "\n",
        "plt.show()"
      ]
    },
    {
      "cell_type": "code",
      "execution_count": 75,
      "metadata": {
        "execution": {
          "iopub.status.busy": "2022-07-09T21:43:10.003566Z",
          "iopub.status.idle": "2022-07-09T21:43:10.003982Z",
          "shell.execute_reply": "2022-07-09T21:43:10.003802Z",
          "shell.execute_reply.started": "2022-07-09T21:43:10.003782Z"
        },
        "id": "D0sAYp-d62Za",
        "colab": {
          "base_uri": "https://localhost:8080/",
          "height": 295
        },
        "outputId": "1dc343c6-5c55-442c-e354-48b646fad2e2"
      },
      "outputs": [
        {
          "output_type": "display_data",
          "data": {
            "text/plain": [
              "<Figure size 432x288 with 1 Axes>"
            ],
            "image/png": "[encoded data removed]"
          },
          "metadata": {
            "needs_background": "light"
          }
        }
      ],
      "source": [
        "plt.clf()\n",
        "\n",
        "acc = history.history['binary_accuracy']\n",
        "val_acc = history.history['val_binary_accuracy']\n",
        "\n",
        "plt.plot(epochs, acc, 'bo', label='Training acc')\n",
        "plt.plot(epochs, val_acc, 'b', label='Validation acc')\n",
        "plt.title('Training and validation accuracy')\n",
        "plt.xlabel('Epochs')\n",
        "plt.ylabel('Accuracy')\n",
        "plt.legend()\n",
        "\n",
        "plt.show()"
      ]
    },
    {
      "cell_type": "markdown",
      "metadata": {
        "id": "mKxsb1Hh_0jC"
      },
      "source": [
        "#### **4.2.4 GRU Model**"
      ]
    },
    {
      "cell_type": "code",
      "execution_count": 76,
      "metadata": {
        "execution": {
          "iopub.execute_input": "2022-07-09T21:43:24.052851Z",
          "iopub.status.busy": "2022-07-09T21:43:24.052438Z",
          "iopub.status.idle": "2022-07-09T21:43:24.403260Z",
          "shell.execute_reply": "2022-07-09T21:43:24.401989Z",
          "shell.execute_reply.started": "2022-07-09T21:43:24.052815Z"
        },
        "id": "BqxIKOV1645l",
        "colab": {
          "base_uri": "https://localhost:8080/"
        },
        "outputId": "0b1aaedd-4c63-49e2-a737-8f8d7179ef13"
      },
      "outputs": [
        {
          "output_type": "stream",
          "name": "stdout",
          "text": [
            "Model: \"sequential_5\"\n",
            "_________________________________________________________________\n",
            " Layer (type)                Output Shape              Param #   \n",
            "=================================================================\n",
            " embedding_4 (Embedding)     (None, 200, 128)          33608320  \n",
            "                                                                 \n",
            " gru (GRU)                   (None, 64)                37248     \n",
            "                                                                 \n",
            " dropout_1 (Dropout)         (None, 64)                0         \n",
            "                                                                 \n",
            " dense_8 (Dense)             (None, 6)                 390       \n",
            "                                                                 \n",
            "=================================================================\n",
            "Total params: 33,645,958\n",
            "Trainable params: 33,645,958\n",
            "Non-trainable params: 0\n",
            "_________________________________________________________________\n"
          ]
        }
      ],
      "source": [
        "GRUmodel = models.Sequential()\n",
        "GRUmodel.add(Embedding(vocab_size, 128, input_length=max_length))\n",
        "GRUmodel.add(GRU(64))\n",
        "GRUmodel.add(Dropout(0.5))\n",
        "GRUmodel.add(layers.Dense(6, activation='sigmoid'))\n",
        "GRUmodel.summary()"
      ]
    },
    {
      "cell_type": "code",
      "execution_count": 77,
      "metadata": {
        "execution": {
          "iopub.execute_input": "2022-07-09T21:43:28.022637Z",
          "iopub.status.busy": "2022-07-09T21:43:28.022229Z",
          "iopub.status.idle": "2022-07-09T21:43:28.034281Z",
          "shell.execute_reply": "2022-07-09T21:43:28.032848Z",
          "shell.execute_reply.started": "2022-07-09T21:43:28.022602Z"
        },
        "id": "rEU2xA3r_9Lm"
      },
      "outputs": [],
      "source": [
        "# try using different optimizers and different optimizer configs\n",
        "GRUmodel.compile(loss='binary_crossentropy',\n",
        "              optimizer='adam',\n",
        "              metrics=['accuracy'])"
      ]
    },
    {
      "cell_type": "code",
      "execution_count": 78,
      "metadata": {
        "execution": {
          "iopub.execute_input": "2022-07-09T21:43:29.726516Z",
          "iopub.status.busy": "2022-07-09T21:43:29.726151Z",
          "iopub.status.idle": "2022-07-09T21:44:14.399053Z",
          "shell.execute_reply": "2022-07-09T21:44:14.397180Z",
          "shell.execute_reply.started": "2022-07-09T21:43:29.726487Z"
        },
        "id": "Di_wi0cq_9Vj",
        "colab": {
          "base_uri": "https://localhost:8080/"
        },
        "outputId": "f6515e4f-3675-4e4f-dbf4-729b23e7b8bb"
      },
      "outputs": [
        {
          "output_type": "stream",
          "name": "stdout",
          "text": [
            "Epoch 1/5\n",
            "250/250 [==============================] - 13s 43ms/step - loss: 0.1872 - accuracy: 0.5469 - val_loss: 0.1424 - val_accuracy: 0.9938\n",
            "Epoch 2/5\n",
            "250/250 [==============================] - 10s 42ms/step - loss: 0.1462 - accuracy: 0.7970 - val_loss: 0.1411 - val_accuracy: 0.9939\n",
            "Epoch 3/5\n",
            "250/250 [==============================] - 10s 42ms/step - loss: 0.1190 - accuracy: 0.8838 - val_loss: 0.0635 - val_accuracy: 0.9934\n",
            "Epoch 4/5\n",
            "250/250 [==============================] - 10s 41ms/step - loss: 0.0538 - accuracy: 0.9231 - val_loss: 0.0504 - val_accuracy: 0.9927\n",
            "Epoch 5/5\n",
            "250/250 [==============================] - 10s 41ms/step - loss: 0.0426 - accuracy: 0.8520 - val_loss: 0.0512 - val_accuracy: 0.9853\n"
          ]
        }
      ],
      "source": [
        "history = GRUmodel.fit(x_train,\n",
        "                    y_train,\n",
        "                    epochs=5,\n",
        "                    batch_size=512,\n",
        "                    validation_data=(x_val, y_val))"
      ]
    },
    {
      "cell_type": "code",
      "execution_count": 79,
      "metadata": {
        "execution": {
          "iopub.status.busy": "2022-07-09T21:43:10.013499Z",
          "iopub.status.idle": "2022-07-09T21:43:10.013997Z",
          "shell.execute_reply": "2022-07-09T21:43:10.013728Z",
          "shell.execute_reply.started": "2022-07-09T21:43:10.013709Z"
        },
        "id": "N0ruYZMIAAeF",
        "colab": {
          "base_uri": "https://localhost:8080/",
          "height": 295
        },
        "outputId": "afd33462-6c90-4b34-c59c-0e9887501d80"
      },
      "outputs": [
        {
          "output_type": "display_data",
          "data": {
            "text/plain": [
              "<Figure size 432x288 with 1 Axes>"
            ],
            "image/png": "[encoded data removed]"
          },
          "metadata": {
            "needs_background": "light"
          }
        }
      ],
      "source": [
        "loss = history.history['loss']\n",
        "val_loss = history.history['val_loss']\n",
        "\n",
        "epochs = range(1, len(loss) + 1)\n",
        "\n",
        "plt.plot(epochs, loss, 'bo', label='Training loss')\n",
        "plt.plot(epochs, val_loss, 'b', label='Validation loss')\n",
        "plt.title('Training and validation loss')\n",
        "plt.xlabel('Epochs')\n",
        "plt.ylabel('Loss')\n",
        "plt.legend()\n",
        "\n",
        "plt.show()"
      ]
    },
    {
      "cell_type": "code",
      "execution_count": 80,
      "metadata": {
        "execution": {
          "iopub.status.busy": "2022-07-09T21:43:10.015503Z",
          "iopub.status.idle": "2022-07-09T21:43:10.015885Z",
          "shell.execute_reply": "2022-07-09T21:43:10.015718Z",
          "shell.execute_reply.started": "2022-07-09T21:43:10.015700Z"
        },
        "id": "P_WRZJW4AwRE",
        "colab": {
          "base_uri": "https://localhost:8080/",
          "height": 295
        },
        "outputId": "0fc83c0b-340b-4653-9688-fa4ac3204e2b"
      },
      "outputs": [
        {
          "output_type": "display_data",
          "data": {
            "text/plain": [
              "<Figure size 432x288 with 1 Axes>"
            ],
            "image/png": "[encoded data removed]"
          },
          "metadata": {
            "needs_background": "light"
          }
        }
      ],
      "source": [
        "plt.clf()\n",
        "\n",
        "acc = history.history['accuracy']\n",
        "val_acc = history.history['val_accuracy']\n",
        "\n",
        "plt.plot(epochs, acc, 'bo', label='Training acc')\n",
        "plt.plot(epochs, val_acc, 'b', label='Validation acc')\n",
        "plt.title('Training and validation accuracy')\n",
        "plt.xlabel('Epochs')\n",
        "plt.ylabel('Accuracy')\n",
        "plt.legend()\n",
        "\n",
        "plt.show()"
      ]
    },
    {
      "cell_type": "code",
      "execution_count": 81,
      "metadata": {
        "execution": {
          "iopub.status.busy": "2022-07-09T21:43:10.018295Z",
          "iopub.status.idle": "2022-07-09T21:43:10.018781Z",
          "shell.execute_reply": "2022-07-09T21:43:10.018535Z",
          "shell.execute_reply.started": "2022-07-09T21:43:10.018516Z"
        },
        "id": "T55oGHZyEa8x"
      },
      "outputs": [],
      "source": [
        "preds = pd.DataFrame(GRUmodel.predict(x_test), index=test.index, columns=target_cols)"
      ]
    },
    {
      "cell_type": "code",
      "execution_count": 82,
      "metadata": {
        "execution": {
          "iopub.status.busy": "2022-07-09T21:43:10.020766Z",
          "iopub.status.idle": "2022-07-09T21:43:10.021238Z",
          "shell.execute_reply": "2022-07-09T21:43:10.021030Z",
          "shell.execute_reply.started": "2022-07-09T21:43:10.021011Z"
        },
        "id": "0fAbzN4BEuo1"
      },
      "outputs": [],
      "source": [
        "preds.to_csv('GRU_submission.csv')"
      ]
    },
    {
      "cell_type": "code",
      "execution_count": 83,
      "metadata": {
        "execution": {
          "iopub.status.busy": "2022-07-09T21:43:10.023440Z",
          "iopub.status.idle": "2022-07-09T21:43:10.023846Z",
          "shell.execute_reply": "2022-07-09T21:43:10.023674Z",
          "shell.execute_reply.started": "2022-07-09T21:43:10.023656Z"
        },
        "id": "lJxWk3oJGArl",
        "colab": {
          "base_uri": "https://localhost:8080/",
          "height": 455
        },
        "outputId": "e9f56e6f-3169-40b0-b725-dbfe17dcd69e"
      },
      "outputs": [
        {
          "output_type": "execute_result",
          "data": {
            "text/plain": [
              "                     toxic  severe_toxic   obscene    threat    insult  \\\n",
              "id                                                                       \n",
              "00001cee341fdb12  0.984629      0.217589  0.931684  0.037243  0.842821   \n",
              "0000247867823ef7  0.000962      0.000047  0.000096  0.000074  0.000356   \n",
              "00013b17ad220c46  0.017910      0.000163  0.001144  0.000243  0.003029   \n",
              "00017563c3f7919a  0.000667      0.000046  0.000076  0.000069  0.000288   \n",
              "00017695ad8997eb  0.001150      0.000049  0.000111  0.000074  0.000400   \n",
              "...                    ...           ...       ...       ...       ...   \n",
              "fffcd0960ee309b5  0.657542      0.006479  0.120293  0.004491  0.143090   \n",
              "fffd7a9a6eb32c16  0.033062      0.000237  0.002032  0.000343  0.005087   \n",
              "fffda9e8d6fafa9e  0.003569      0.000075  0.000263  0.000099  0.000902   \n",
              "fffe8f1340a79fc2  0.002228      0.000062  0.000176  0.000083  0.000664   \n",
              "ffffce3fb183ee80  0.952802      0.074680  0.743629  0.019985  0.626156   \n",
              "\n",
              "                  identity_hate  \n",
              "id                               \n",
              "00001cee341fdb12       0.132970  \n",
              "0000247867823ef7       0.000154  \n",
              "00013b17ad220c46       0.000652  \n",
              "00017563c3f7919a       0.000134  \n",
              "00017695ad8997eb       0.000158  \n",
              "...                         ...  \n",
              "fffcd0960ee309b5       0.015808  \n",
              "fffd7a9a6eb32c16       0.001000  \n",
              "fffda9e8d6fafa9e       0.000234  \n",
              "fffe8f1340a79fc2       0.000189  \n",
              "ffffce3fb183ee80       0.070690  \n",
              "\n",
              "[153164 rows x 6 columns]"
            ],
            "text/html": [
              "\n",
              "  <div id=\"df-bb94442a-7c55-4842-afd6-0ce28f338652\">\n",
              "    <div class=\"colab-df-container\">\n",
              "      <div>\n",
              "<style scoped>\n",
              "    .dataframe tbody tr th:only-of-type {\n",
              "        vertical-align: middle;\n",
              "    }\n",
              "\n",
              "    .dataframe tbody tr th {\n",
              "        vertical-align: top;\n",
              "    }\n",
              "\n",
              "    .dataframe thead th {\n",
              "        text-align: right;\n",
              "    }\n",
              "</style>\n",
              "<table border=\"1\" class=\"dataframe\">\n",
              "  <thead>\n",
              "    <tr style=\"text-align: right;\">\n",
              "      <th></th>\n",
              "      <th>toxic</th>\n",
              "      <th>severe_toxic</th>\n",
              "      <th>obscene</th>\n",
              "      <th>threat</th>\n",
              "      <th>insult</th>\n",
              "      <th>identity_hate</th>\n",
              "    </tr>\n",
              "    <tr>\n",
              "      <th>id</th>\n",
              "      <th></th>\n",
              "      <th></th>\n",
              "      <th></th>\n",
              "      <th></th>\n",
              "      <th></th>\n",
              "      <th></th>\n",
              "    </tr>\n",
              "  </thead>\n",
              "  <tbody>\n",
              "    <tr>\n",
              "      <th>00001cee341fdb12</th>\n",
              "      <td>0.984629</td>\n",
              "      <td>0.217589</td>\n",
              "      <td>0.931684</td>\n",
              "      <td>0.037243</td>\n",
              "      <td>0.842821</td>\n",
              "      <td>0.132970</td>\n",
              "    </tr>\n",
              "    <tr>\n",
              "      <th>0000247867823ef7</th>\n",
              "      <td>0.000962</td>\n",
              "      <td>0.000047</td>\n",
              "      <td>0.000096</td>\n",
              "      <td>0.000074</td>\n",
              "      <td>0.000356</td>\n",
              "      <td>0.000154</td>\n",
              "    </tr>\n",
              "    <tr>\n",
              "      <th>00013b17ad220c46</th>\n",
              "      <td>0.017910</td>\n",
              "      <td>0.000163</td>\n",
              "      <td>0.001144</td>\n",
              "      <td>0.000243</td>\n",
              "      <td>0.003029</td>\n",
              "      <td>0.000652</td>\n",
              "    </tr>\n",
              "    <tr>\n",
              "      <th>00017563c3f7919a</th>\n",
              "      <td>0.000667</td>\n",
              "      <td>0.000046</td>\n",
              "      <td>0.000076</td>\n",
              "      <td>0.000069</td>\n",
              "      <td>0.000288</td>\n",
              "      <td>0.000134</td>\n",
              "    </tr>\n",
              "    <tr>\n",
              "      <th>00017695ad8997eb</th>\n",
              "      <td>0.001150</td>\n",
              "      <td>0.000049</td>\n",
              "      <td>0.000111</td>\n",
              "      <td>0.000074</td>\n",
              "      <td>0.000400</td>\n",
              "      <td>0.000158</td>\n",
              "    </tr>\n",
              "    <tr>\n",
              "      <th>...</th>\n",
              "      <td>...</td>\n",
              "      <td>...</td>\n",
              "      <td>...</td>\n",
              "      <td>...</td>\n",
              "      <td>...</td>\n",
              "      <td>...</td>\n",
              "    </tr>\n",
              "    <tr>\n",
              "      <th>fffcd0960ee309b5</th>\n",
              "      <td>0.657542</td>\n",
              "      <td>0.006479</td>\n",
              "      <td>0.120293</td>\n",
              "      <td>0.004491</td>\n",
              "      <td>0.143090</td>\n",
              "      <td>0.015808</td>\n",
              "    </tr>\n",
              "    <tr>\n",
              "      <th>fffd7a9a6eb32c16</th>\n",
              "      <td>0.033062</td>\n",
              "      <td>0.000237</td>\n",
              "      <td>0.002032</td>\n",
              "      <td>0.000343</td>\n",
              "      <td>0.005087</td>\n",
              "      <td>0.001000</td>\n",
              "    </tr>\n",
              "    <tr>\n",
              "      <th>fffda9e8d6fafa9e</th>\n",
              "      <td>0.003569</td>\n",
              "      <td>0.000075</td>\n",
              "      <td>0.000263</td>\n",
              "      <td>0.000099</td>\n",
              "      <td>0.000902</td>\n",
              "      <td>0.000234</td>\n",
              "    </tr>\n",
              "    <tr>\n",
              "      <th>fffe8f1340a79fc2</th>\n",
              "      <td>0.002228</td>\n",
              "      <td>0.000062</td>\n",
              "      <td>0.000176</td>\n",
              "      <td>0.000083</td>\n",
              "      <td>0.000664</td>\n",
              "      <td>0.000189</td>\n",
              "    </tr>\n",
              "    <tr>\n",
              "      <th>ffffce3fb183ee80</th>\n",
              "      <td>0.952802</td>\n",
              "      <td>0.074680</td>\n",
              "      <td>0.743629</td>\n",
              "      <td>0.019985</td>\n",
              "      <td>0.626156</td>\n",
              "      <td>0.070690</td>\n",
              "    </tr>\n",
              "  </tbody>\n",
              "</table>\n",
              "<p>153164 rows × 6 columns</p>\n",
              "</div>\n",
              "      <button class=\"colab-df-convert\" onclick=\"convertToInteractive('df-bb94442a-7c55-4842-afd6-0ce28f338652')\"\n",
              "              title=\"Convert this dataframe to an interactive table.\"\n",
              "              style=\"display:none;\">\n",
              "        \n",
              "  <svg xmlns=\"http://www.w3.org/2000/svg\" height=\"24px\"viewBox=\"0 0 24 24\"\n",
              "       width=\"24px\">\n",
              "    <path d=\"M0 0h24v24H0V0z\" fill=\"none\"/>\n",
              "    <path d=\"M18.56 5.44l.94 2.06.94-2.06 2.06-.94-2.06-.94-.94-2.06-.94 2.06-2.06.94zm-11 1L8.5 8.5l.94-2.06 2.06-.94-2.06-.94L8.5 2.5l-.94 2.06-2.06.94zm10 10l.94 2.06.94-2.06 2.06-.94-2.06-.94-.94-2.06-.94 2.06-2.06.94z\"/><path d=\"M17.41 7.96l-1.37-1.37c-.4-.4-.92-.59-1.43-.59-.52 0-1.04.2-1.43.59L10.3 9.45l-7.72 7.72c-.78.78-.78 2.05 0 2.83L4 21.41c.39.39.9.59 1.41.59.51 0 1.02-.2 1.41-.59l7.78-7.78 2.81-2.81c.8-.78.8-2.07 0-2.86zM5.41 20L4 18.59l7.72-7.72 1.47 1.35L5.41 20z\"/>\n",
              "  </svg>\n",
              "      </button>\n",
              "      \n",
              "  <style>\n",
              "    .colab-df-container {\n",
              "      display:flex;\n",
              "      flex-wrap:wrap;\n",
              "      gap: 12px;\n",
              "    }\n",
              "\n",
              "    .colab-df-convert {\n",
              "      background-color: #E8F0FE;\n",
              "      border: none;\n",
              "      border-radius: 50%;\n",
              "      cursor: pointer;\n",
              "      display: none;\n",
              "      fill: #1967D2;\n",
              "      height: 32px;\n",
              "      padding: 0 0 0 0;\n",
              "      width: 32px;\n",
              "    }\n",
              "\n",
              "    .colab-df-convert:hover {\n",
              "      background-color: #E2EBFA;\n",
              "      box-shadow: 0px 1px 2px rgba(60, 64, 67, 0.3), 0px 1px 3px 1px rgba(60, 64, 67, 0.15);\n",
              "      fill: #174EA6;\n",
              "    }\n",
              "\n",
              "    [theme=dark] .colab-df-convert {\n",
              "      background-color: #3B4455;\n",
              "      fill: #D2E3FC;\n",
              "    }\n",
              "\n",
              "    [theme=dark] .colab-df-convert:hover {\n",
              "      background-color: #434B5C;\n",
              "      box-shadow: 0px 1px 3px 1px rgba(0, 0, 0, 0.15);\n",
              "      filter: drop-shadow(0px 1px 2px rgba(0, 0, 0, 0.3));\n",
              "      fill: #FFFFFF;\n",
              "    }\n",
              "  </style>\n",
              "\n",
              "      <script>\n",
              "        const buttonEl =\n",
              "          document.querySelector('#df-bb94442a-7c55-4842-afd6-0ce28f338652 button.colab-df-convert');\n",
              "        buttonEl.style.display =\n",
              "          google.colab.kernel.accessAllowed ? 'block' : 'none';\n",
              "\n",
              "        async function convertToInteractive(key) {\n",
              "          const element = document.querySelector('#df-bb94442a-7c55-4842-afd6-0ce28f338652');\n",
              "          const dataTable =\n",
              "            await google.colab.kernel.invokeFunction('convertToInteractive',\n",
              "                                                     [key], {});\n",
              "          if (!dataTable) return;\n",
              "\n",
              "          const docLinkHtml = 'Like what you see? Visit the ' +\n",
              "            '<a target=\"_blank\" href=https://colab.research.google.com/notebooks/data_table.ipynb>data table notebook</a>'\n",
              "            + ' to learn more about interactive tables.';\n",
              "          element.innerHTML = '';\n",
              "          dataTable['output_type'] = 'display_data';\n",
              "          await google.colab.output.renderOutput(dataTable, element);\n",
              "          const docLink = document.createElement('div');\n",
              "          docLink.innerHTML = docLinkHtml;\n",
              "          element.appendChild(docLink);\n",
              "        }\n",
              "      </script>\n",
              "    </div>\n",
              "  </div>\n",
              "  "
            ]
          },
          "metadata": {},
          "execution_count": 83
        }
      ],
      "source": [
        "preds"
      ]
    },
    {
      "cell_type": "markdown",
      "metadata": {
        "id": "7jppjihQCJJu"
      },
      "source": [
        "#### **4.2.5 Bi-GRU Model**"
      ]
    },
    {
      "cell_type": "code",
      "execution_count": 84,
      "metadata": {
        "execution": {
          "iopub.status.busy": "2022-07-09T21:43:10.025462Z",
          "iopub.status.idle": "2022-07-09T21:43:10.025870Z",
          "shell.execute_reply": "2022-07-09T21:43:10.025677Z",
          "shell.execute_reply.started": "2022-07-09T21:43:10.025659Z"
        },
        "id": "vDNo9ao0CWr3",
        "colab": {
          "base_uri": "https://localhost:8080/"
        },
        "outputId": "a6dc6146-7a2f-4c0d-8417-14f9e23f3ca3"
      },
      "outputs": [
        {
          "output_type": "stream",
          "name": "stdout",
          "text": [
            "Model: \"sequential_6\"\n",
            "_________________________________________________________________\n",
            " Layer (type)                Output Shape              Param #   \n",
            "=================================================================\n",
            " embedding_5 (Embedding)     (None, 200, 128)          33608320  \n",
            "                                                                 \n",
            " bidirectional_1 (Bidirectio  (None, 128)              74496     \n",
            " nal)                                                            \n",
            "                                                                 \n",
            " dropout_2 (Dropout)         (None, 128)               0         \n",
            "                                                                 \n",
            " dense_9 (Dense)             (None, 6)                 774       \n",
            "                                                                 \n",
            "=================================================================\n",
            "Total params: 33,683,590\n",
            "Trainable params: 33,683,590\n",
            "Non-trainable params: 0\n",
            "_________________________________________________________________\n"
          ]
        }
      ],
      "source": [
        "BiGRUmodel = models.Sequential()\n",
        "BiGRUmodel.add(Embedding(vocab_size, 128, input_length=max_length))\n",
        "BiGRUmodel.add(Bidirectional(GRU(64)))\n",
        "BiGRUmodel.add(Dropout(0.5))\n",
        "BiGRUmodel.add(layers.Dense(6, activation='sigmoid'))\n",
        "BiGRUmodel.summary()"
      ]
    },
    {
      "cell_type": "code",
      "execution_count": 85,
      "metadata": {
        "execution": {
          "iopub.status.busy": "2022-07-09T21:43:10.029310Z",
          "iopub.status.idle": "2022-07-09T21:43:10.029910Z",
          "shell.execute_reply": "2022-07-09T21:43:10.029701Z",
          "shell.execute_reply.started": "2022-07-09T21:43:10.029679Z"
        },
        "id": "BQW-P3svCNjm"
      },
      "outputs": [],
      "source": [
        "# try using different optimizers and different optimizer configs\n",
        "BiGRUmodel.compile(loss='binary_crossentropy',\n",
        "              optimizer='adam',\n",
        "              metrics=['accuracy'])"
      ]
    },
    {
      "cell_type": "code",
      "execution_count": 87,
      "metadata": {
        "execution": {
          "iopub.status.busy": "2022-07-09T21:43:10.032389Z",
          "iopub.status.idle": "2022-07-09T21:43:10.032998Z",
          "shell.execute_reply": "2022-07-09T21:43:10.032709Z",
          "shell.execute_reply.started": "2022-07-09T21:43:10.032682Z"
        },
        "id": "TAKyaKIeCom-",
        "colab": {
          "base_uri": "https://localhost:8080/"
        },
        "outputId": "4745a6d2-a2c2-4af2-aebd-270ba6e8f0d6"
      },
      "outputs": [
        {
          "output_type": "stream",
          "name": "stdout",
          "text": [
            "Epoch 1/5\n",
            "250/250 [==============================] - 24s 67ms/step - loss: 0.1243 - accuracy: 0.6809 - val_loss: 0.0544 - val_accuracy: 0.9941\n",
            "Epoch 2/5\n",
            "250/250 [==============================] - 16s 63ms/step - loss: 0.0524 - accuracy: 0.8709 - val_loss: 0.0526 - val_accuracy: 0.9941\n",
            "Epoch 3/5\n",
            "250/250 [==============================] - 16s 63ms/step - loss: 0.0448 - accuracy: 0.8362 - val_loss: 0.0527 - val_accuracy: 0.9926\n",
            "Epoch 4/5\n",
            "250/250 [==============================] - 16s 62ms/step - loss: 0.0394 - accuracy: 0.7945 - val_loss: 0.0528 - val_accuracy: 0.9913\n",
            "Epoch 5/5\n",
            "250/250 [==============================] - 16s 62ms/step - loss: 0.0351 - accuracy: 0.7642 - val_loss: 0.0537 - val_accuracy: 0.9861\n"
          ]
        }
      ],
      "source": [
        "history = BiGRUmodel.fit(x_train,\n",
        "                    y_train,\n",
        "                    epochs=5,\n",
        "                    batch_size=512,\n",
        "                    validation_data=(x_val, y_val))"
      ]
    },
    {
      "cell_type": "code",
      "execution_count": 88,
      "metadata": {
        "execution": {
          "iopub.status.busy": "2022-07-09T21:43:10.035410Z",
          "iopub.status.idle": "2022-07-09T21:43:10.036653Z",
          "shell.execute_reply": "2022-07-09T21:43:10.036134Z",
          "shell.execute_reply.started": "2022-07-09T21:43:10.036081Z"
        },
        "id": "u2frqZRFCvJw",
        "colab": {
          "base_uri": "https://localhost:8080/",
          "height": 295
        },
        "outputId": "430b26cc-48a1-4a8a-dae9-d7532a062b39"
      },
      "outputs": [
        {
          "output_type": "display_data",
          "data": {
            "text/plain": [
              "<Figure size 432x288 with 1 Axes>"
            ],
            "image/png": "[encoded data removed]"
          },
          "metadata": {
            "needs_background": "light"
          }
        }
      ],
      "source": [
        "loss = history.history['loss']\n",
        "val_loss = history.history['val_loss']\n",
        "\n",
        "epochs = range(1, len(loss) + 1)\n",
        "\n",
        "plt.plot(epochs, loss, 'bo', label='Training loss')\n",
        "plt.plot(epochs, val_loss, 'b', label='Validation loss')\n",
        "plt.title('Training and validation loss')\n",
        "plt.xlabel('Epochs')\n",
        "plt.ylabel('Loss')\n",
        "plt.legend()\n",
        "\n",
        "plt.show()"
      ]
    },
    {
      "cell_type": "code",
      "execution_count": 89,
      "metadata": {
        "execution": {
          "iopub.status.busy": "2022-07-09T21:43:10.038299Z",
          "iopub.status.idle": "2022-07-09T21:43:10.039584Z",
          "shell.execute_reply": "2022-07-09T21:43:10.039294Z",
          "shell.execute_reply.started": "2022-07-09T21:43:10.039265Z"
        },
        "id": "Yx863944C7i9",
        "colab": {
          "base_uri": "https://localhost:8080/",
          "height": 295
        },
        "outputId": "46998f4e-6418-4466-834e-d9300520f94c"
      },
      "outputs": [
        {
          "output_type": "display_data",
          "data": {
            "text/plain": [
              "<Figure size 432x288 with 1 Axes>"
            ],
            "image/png": "[encoded data removed]"
          },
          "metadata": {
            "needs_background": "light"
          }
        }
      ],
      "source": [
        "plt.clf()\n",
        "\n",
        "acc = history.history['accuracy']\n",
        "val_acc = history.history['val_accuracy']\n",
        "\n",
        "plt.plot(epochs, acc, 'bo', label='Training acc')\n",
        "plt.plot(epochs, val_acc, 'b', label='Validation acc')\n",
        "plt.title('Training and validation accuracy')\n",
        "plt.xlabel('Epochs')\n",
        "plt.ylabel('Accuracy')\n",
        "plt.legend()\n",
        "\n",
        "plt.show()"
      ]
    },
    {
      "cell_type": "code",
      "source": [],
      "metadata": {
        "id": "gDrYiBttEAGf"
      },
      "execution_count": null,
      "outputs": []
    }
  ],
  "metadata": {
    "kernelspec": {
      "display_name": "Python 3 (ipykernel)",
      "language": "python",
      "name": "python3"
    },
    "language_info": {
      "codemirror_mode": {
        "name": "ipython",
        "version": 3
      },
      "file_extension": ".py",
      "mimetype": "text/x-python",
      "name": "python",
      "nbconvert_exporter": "python",
      "pygments_lexer": "ipython3",
      "version": "3.9.7"
    },
    "colab": {
      "provenance": [],
      "collapsed_sections": []
    },
    "accelerator": "GPU",
    "gpuClass": "standard"
  },
  "nbformat": 4,
  "nbformat_minor": 0
}